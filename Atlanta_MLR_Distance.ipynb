{
 "cells": [
  {
   "cell_type": "code",
   "execution_count": 241,
   "id": "059ce840-7a4d-4634-ad62-2baa9e6df121",
   "metadata": {},
   "outputs": [
    {
     "data": {
      "text/html": [
       "<div>\n",
       "<style scoped>\n",
       "    .dataframe tbody tr th:only-of-type {\n",
       "        vertical-align: middle;\n",
       "    }\n",
       "\n",
       "    .dataframe tbody tr th {\n",
       "        vertical-align: top;\n",
       "    }\n",
       "\n",
       "    .dataframe thead th {\n",
       "        text-align: right;\n",
       "    }\n",
       "</style>\n",
       "<table border=\"1\" class=\"dataframe\">\n",
       "  <thead>\n",
       "    <tr style=\"text-align: right;\">\n",
       "      <th></th>\n",
       "      <th>current_listing_price</th>\n",
       "      <th>listing_date</th>\n",
       "      <th>Year Built</th>\n",
       "      <th>Total Bedrooms</th>\n",
       "      <th>Living Area(SQF)</th>\n",
       "      <th>Wholesale</th>\n",
       "      <th>Variety Store</th>\n",
       "      <th>Supermarket</th>\n",
       "      <th>Supercenter</th>\n",
       "      <th>Convenience</th>\n",
       "      <th>Total Bathrooms</th>\n",
       "    </tr>\n",
       "  </thead>\n",
       "  <tbody>\n",
       "    <tr>\n",
       "      <th>0</th>\n",
       "      <td>2865</td>\n",
       "      <td>3/12/2024</td>\n",
       "      <td>2002</td>\n",
       "      <td>4</td>\n",
       "      <td>3259.0</td>\n",
       "      <td>10917.45</td>\n",
       "      <td>6405.99</td>\n",
       "      <td>1654.08</td>\n",
       "      <td>2539.28</td>\n",
       "      <td>2715.74</td>\n",
       "      <td>2.5</td>\n",
       "    </tr>\n",
       "    <tr>\n",
       "      <th>1</th>\n",
       "      <td>2200</td>\n",
       "      <td>3/2/2024</td>\n",
       "      <td>&lt;NA&gt;</td>\n",
       "      <td>3</td>\n",
       "      <td>1993.0</td>\n",
       "      <td>32739.68</td>\n",
       "      <td>405.11</td>\n",
       "      <td>3065.55</td>\n",
       "      <td>492.63</td>\n",
       "      <td>1407.26</td>\n",
       "      <td>2.0</td>\n",
       "    </tr>\n",
       "    <tr>\n",
       "      <th>2</th>\n",
       "      <td>2000</td>\n",
       "      <td>2/15/2024</td>\n",
       "      <td>&lt;NA&gt;</td>\n",
       "      <td>3</td>\n",
       "      <td>1910.0</td>\n",
       "      <td>29267.11</td>\n",
       "      <td>4738.04</td>\n",
       "      <td>3780.13</td>\n",
       "      <td>25413.80</td>\n",
       "      <td>3213.19</td>\n",
       "      <td>2.0</td>\n",
       "    </tr>\n",
       "    <tr>\n",
       "      <th>3</th>\n",
       "      <td>1995</td>\n",
       "      <td>3/17/2024</td>\n",
       "      <td>&lt;NA&gt;</td>\n",
       "      <td>3</td>\n",
       "      <td>1134.0</td>\n",
       "      <td>9020.53</td>\n",
       "      <td>4356.55</td>\n",
       "      <td>2320.59</td>\n",
       "      <td>7857.71</td>\n",
       "      <td>2385.60</td>\n",
       "      <td>1.0</td>\n",
       "    </tr>\n",
       "    <tr>\n",
       "      <th>4</th>\n",
       "      <td>2800</td>\n",
       "      <td>3/3/2024</td>\n",
       "      <td>&lt;NA&gt;</td>\n",
       "      <td>4</td>\n",
       "      <td>2532.0</td>\n",
       "      <td>14750.79</td>\n",
       "      <td>6721.22</td>\n",
       "      <td>5625.35</td>\n",
       "      <td>11676.91</td>\n",
       "      <td>14263.22</td>\n",
       "      <td>2.0</td>\n",
       "    </tr>\n",
       "    <tr>\n",
       "      <th>...</th>\n",
       "      <td>...</td>\n",
       "      <td>...</td>\n",
       "      <td>...</td>\n",
       "      <td>...</td>\n",
       "      <td>...</td>\n",
       "      <td>...</td>\n",
       "      <td>...</td>\n",
       "      <td>...</td>\n",
       "      <td>...</td>\n",
       "      <td>...</td>\n",
       "      <td>...</td>\n",
       "    </tr>\n",
       "    <tr>\n",
       "      <th>21010</th>\n",
       "      <td>1600</td>\n",
       "      <td>3/9/2023</td>\n",
       "      <td>&lt;NA&gt;</td>\n",
       "      <td>3</td>\n",
       "      <td>1367.0</td>\n",
       "      <td>47285.12</td>\n",
       "      <td>6409.21</td>\n",
       "      <td>2097.35</td>\n",
       "      <td>19852.16</td>\n",
       "      <td>4983.93</td>\n",
       "      <td>2.0</td>\n",
       "    </tr>\n",
       "    <tr>\n",
       "      <th>21011</th>\n",
       "      <td>2199</td>\n",
       "      <td>3/4/2024</td>\n",
       "      <td>&lt;NA&gt;</td>\n",
       "      <td>3</td>\n",
       "      <td>1696.0</td>\n",
       "      <td>2009.36</td>\n",
       "      <td>6142.54</td>\n",
       "      <td>888.22</td>\n",
       "      <td>4864.86</td>\n",
       "      <td>1477.04</td>\n",
       "      <td>2.5</td>\n",
       "    </tr>\n",
       "    <tr>\n",
       "      <th>21012</th>\n",
       "      <td>2380</td>\n",
       "      <td>3/16/2024</td>\n",
       "      <td>2015</td>\n",
       "      <td>3</td>\n",
       "      <td>1944.0</td>\n",
       "      <td>1507.23</td>\n",
       "      <td>714.63</td>\n",
       "      <td>1158.08</td>\n",
       "      <td>1359.41</td>\n",
       "      <td>3952.51</td>\n",
       "      <td>3.5</td>\n",
       "    </tr>\n",
       "    <tr>\n",
       "      <th>21013</th>\n",
       "      <td>1900</td>\n",
       "      <td>3/4/2024</td>\n",
       "      <td>&lt;NA&gt;</td>\n",
       "      <td>4</td>\n",
       "      <td>1204.0</td>\n",
       "      <td>40632.51</td>\n",
       "      <td>1402.52</td>\n",
       "      <td>8779.81</td>\n",
       "      <td>10787.35</td>\n",
       "      <td>1242.13</td>\n",
       "      <td>2.0</td>\n",
       "    </tr>\n",
       "    <tr>\n",
       "      <th>21014</th>\n",
       "      <td>2200</td>\n",
       "      <td>3/5/2024</td>\n",
       "      <td>&lt;NA&gt;</td>\n",
       "      <td>3</td>\n",
       "      <td>1900.0</td>\n",
       "      <td>21438.47</td>\n",
       "      <td>11772.10</td>\n",
       "      <td>1425.95</td>\n",
       "      <td>1630.33</td>\n",
       "      <td>12719.14</td>\n",
       "      <td>2.5</td>\n",
       "    </tr>\n",
       "  </tbody>\n",
       "</table>\n",
       "<p>21015 rows × 11 columns</p>\n",
       "</div>"
      ],
      "text/plain": [
       "       current_listing_price listing_date  Year Built  Total Bedrooms  \\\n",
       "0                       2865    3/12/2024        2002               4   \n",
       "1                       2200     3/2/2024        <NA>               3   \n",
       "2                       2000    2/15/2024        <NA>               3   \n",
       "3                       1995    3/17/2024        <NA>               3   \n",
       "4                       2800     3/3/2024        <NA>               4   \n",
       "...                      ...          ...         ...             ...   \n",
       "21010                   1600     3/9/2023        <NA>               3   \n",
       "21011                   2199     3/4/2024        <NA>               3   \n",
       "21012                   2380    3/16/2024        2015               3   \n",
       "21013                   1900     3/4/2024        <NA>               4   \n",
       "21014                   2200     3/5/2024        <NA>               3   \n",
       "\n",
       "       Living Area(SQF)  Wholesale  Variety Store  Supermarket  Supercenter  \\\n",
       "0                3259.0   10917.45        6405.99      1654.08      2539.28   \n",
       "1                1993.0   32739.68         405.11      3065.55       492.63   \n",
       "2                1910.0   29267.11        4738.04      3780.13     25413.80   \n",
       "3                1134.0    9020.53        4356.55      2320.59      7857.71   \n",
       "4                2532.0   14750.79        6721.22      5625.35     11676.91   \n",
       "...                 ...        ...            ...          ...          ...   \n",
       "21010            1367.0   47285.12        6409.21      2097.35     19852.16   \n",
       "21011            1696.0    2009.36        6142.54       888.22      4864.86   \n",
       "21012            1944.0    1507.23         714.63      1158.08      1359.41   \n",
       "21013            1204.0   40632.51        1402.52      8779.81     10787.35   \n",
       "21014            1900.0   21438.47       11772.10      1425.95      1630.33   \n",
       "\n",
       "       Convenience  Total Bathrooms  \n",
       "0          2715.74              2.5  \n",
       "1          1407.26              2.0  \n",
       "2          3213.19              2.0  \n",
       "3          2385.60              1.0  \n",
       "4         14263.22              2.0  \n",
       "...            ...              ...  \n",
       "21010      4983.93              2.0  \n",
       "21011      1477.04              2.5  \n",
       "21012      3952.51              3.5  \n",
       "21013      1242.13              2.0  \n",
       "21014     12719.14              2.5  \n",
       "\n",
       "[21015 rows x 11 columns]"
      ]
     },
     "execution_count": 241,
     "metadata": {},
     "output_type": "execute_result"
    }
   ],
   "source": [
    "# Import necessary libraries for preprocessing\n",
    "import pandas as pd\n",
    "import numpy as np\n",
    "from sklearn.pipeline import Pipeline\n",
    "from sklearn.impute import SimpleImputer\n",
    "from sklearn.preprocessing import OrdinalEncoder, OneHotEncoder, FunctionTransformer\n",
    "from sklearn.compose import ColumnTransformer\n",
    "import matplotlib.pyplot as plt\n",
    "import sklearn.model_selection as ms\n",
    "from sklearn import tree\n",
    "from sklearn.model_selection import GridSearchCV\n",
    "from sklearn import ensemble\n",
    "from sklearn.preprocessing import LabelEncoder\n",
    "from sklearn.model_selection import cross_val_score\n",
    "from sklearn.preprocessing import StandardScaler\n",
    "from sklearn.model_selection import KFold\n",
    "from sklearn.preprocessing import StandardScaler, PolynomialFeatures\n",
    "from sklearn.linear_model import Lasso\n",
    "from sklearn.linear_model import Ridge, ElasticNet\n",
    "\n",
    "# Load the dataset\n",
    "#Atlanta_Distance = pd.read_pickle(r'~/Documents/NYCDSA/Capstone/Pickle Files/Atlanta_Nearest_POI.pkl')\n",
    "Atlanta_Distance = pd.read_csv('~/Documents/NYCDSA/Capstone/Nearest_Distances_Atlanta/Atlanta_Nearest_Distances.csv')\n",
    "Atlanta_Distance['Total Bathrooms'] = Atlanta_Distance['number_of_full_baths'] + (Atlanta_Distance['number_of_half_baths']*0.5)\n",
    "Atlanta_Distance = Atlanta_Distance.drop(columns=['latitude',\n",
    "                                                  'longitude', 'lot_size_in_acres', 'number_of_full_baths', 'number_of_half_baths',\n",
    "                                                  \t'street_address', 'has_pool', 'has_garage', 'number_of_garage_spaces', 'number_of_stories', 'lot_size_in_square_feet',\n",
    "                                                 'Supercenter_POI', 'Convenience_POI', 'Supermarket_POI', 'Wholesale_POI', 'Variety_Store_POI', 'story_indicator'])\n",
    "Atlanta_Distance = Atlanta_Distance.rename(columns={'Distance_SM': 'Supermarket', 'Distance_C': 'Convenience',\n",
    "'Distance_WS': 'Wholesale', 'Distance_VS': 'Variety Store', 'Distance_SC': 'Supercenter', 'number_of_bedrooms': 'Total Bedrooms', 'living_area_square_feet': 'Living Area(SQF)',\n",
    "                                                'year_built': 'Year Built'})\n",
    "Atlanta_Distance['Year Built'] = Atlanta_Distance['Year Built'].astype('Int64')\n",
    "Atlanta_Distance"
   ]
  },
  {
   "cell_type": "code",
   "execution_count": 242,
   "id": "663bebd9-7343-4227-b694-0172ed8b9227",
   "metadata": {},
   "outputs": [],
   "source": [
    "# Exclude 'current_listing_price' from features\n",
    "numeric_features = Atlanta_Distance.select_dtypes(include=['int64', 'float64']).drop(columns=['current_listing_price']).columns\n",
    "#categorical_features = list(Atlanta_Distance.columns[Atlanta_Distance.dtypes == 'object'])"
   ]
  },
  {
   "cell_type": "code",
   "execution_count": 243,
   "id": "c84cfd6e-6532-43ed-a2bd-1564b05cd85b",
   "metadata": {},
   "outputs": [],
   "source": [
    "# Helper function to fill 'None' for missing categorical data\n",
    "def fill_none(X):\n",
    "    return X.fillna(\"None\")\n",
    "\n",
    "# Pipeline for numeric features: Impute missing values using mean\n",
    "numeric_transformer = Pipeline(steps=[\n",
    "    ('impute_mean', SimpleImputer(strategy='mean')),\n",
    "    ('scaler', StandardScaler())\n",
    "])\n",
    "\n",
    "# Pipeline for nominal categorical features: Fill missing values with 'None' then apply one-hot encoding\n",
    "#categorical_transformer = Pipeline(steps=[\n",
    "    #('impute_none', SimpleImputer(strategy='constant', fill_value='None')),  # Using SimpleImputer\n",
    "    #('onehot', OneHotEncoder(handle_unknown='ignore'))\n",
    "#])\n",
    "\n",
    "# Combined preprocessor for numeric and nominal\n",
    "preprocessor = ColumnTransformer(\n",
    "    transformers=[\n",
    "        ('num', numeric_transformer, numeric_features),\n",
    "        #('nominal', categorical_transformer, categorical_features)\n",
    "])\n",
    "\n",
    "transformed_data = preprocessor.fit_transform(Atlanta_Distance)"
   ]
  },
  {
   "cell_type": "code",
   "execution_count": 244,
   "id": "60041efd-1033-4b9a-8e8e-4a552f0ee6fe",
   "metadata": {},
   "outputs": [
    {
     "data": {
      "text/plain": [
       "['Year Built',\n",
       " 'Total Bedrooms',\n",
       " 'Living Area(SQF)',\n",
       " 'Wholesale',\n",
       " 'Variety Store',\n",
       " 'Supermarket',\n",
       " 'Supercenter',\n",
       " 'Convenience',\n",
       " 'Total Bathrooms']"
      ]
     },
     "execution_count": 244,
     "metadata": {},
     "output_type": "execute_result"
    }
   ],
   "source": [
    "# Generate column names for the one-hot encoded features\n",
    "#onehot_features = preprocessor.named_transformers_['nominal'].named_steps['onehot'].get_feature_names_out()\n",
    "# Combine all feature names\n",
    "all_feature_names = list(numeric_features)\n",
    "all_feature_names"
   ]
  },
  {
   "cell_type": "code",
   "execution_count": 245,
   "id": "df757650-c33c-4d9c-91e6-3aca7e54b5b6",
   "metadata": {},
   "outputs": [],
   "source": [
    "transformed_df = pd.DataFrame(transformed_data, columns=all_feature_names)\n",
    "#transformed_df"
   ]
  },
  {
   "cell_type": "code",
   "execution_count": 246,
   "id": "ca8b24da-0f17-4a9b-a002-dd6dc30bc5bb",
   "metadata": {},
   "outputs": [
    {
     "data": {
      "text/html": [
       "<style>#sk-container-id-39 {color: black;background-color: white;}#sk-container-id-39 pre{padding: 0;}#sk-container-id-39 div.sk-toggleable {background-color: white;}#sk-container-id-39 label.sk-toggleable__label {cursor: pointer;display: block;width: 100%;margin-bottom: 0;padding: 0.3em;box-sizing: border-box;text-align: center;}#sk-container-id-39 label.sk-toggleable__label-arrow:before {content: \"▸\";float: left;margin-right: 0.25em;color: #696969;}#sk-container-id-39 label.sk-toggleable__label-arrow:hover:before {color: black;}#sk-container-id-39 div.sk-estimator:hover label.sk-toggleable__label-arrow:before {color: black;}#sk-container-id-39 div.sk-toggleable__content {max-height: 0;max-width: 0;overflow: hidden;text-align: left;background-color: #f0f8ff;}#sk-container-id-39 div.sk-toggleable__content pre {margin: 0.2em;color: black;border-radius: 0.25em;background-color: #f0f8ff;}#sk-container-id-39 input.sk-toggleable__control:checked~div.sk-toggleable__content {max-height: 200px;max-width: 100%;overflow: auto;}#sk-container-id-39 input.sk-toggleable__control:checked~label.sk-toggleable__label-arrow:before {content: \"▾\";}#sk-container-id-39 div.sk-estimator input.sk-toggleable__control:checked~label.sk-toggleable__label {background-color: #d4ebff;}#sk-container-id-39 div.sk-label input.sk-toggleable__control:checked~label.sk-toggleable__label {background-color: #d4ebff;}#sk-container-id-39 input.sk-hidden--visually {border: 0;clip: rect(1px 1px 1px 1px);clip: rect(1px, 1px, 1px, 1px);height: 1px;margin: -1px;overflow: hidden;padding: 0;position: absolute;width: 1px;}#sk-container-id-39 div.sk-estimator {font-family: monospace;background-color: #f0f8ff;border: 1px dotted black;border-radius: 0.25em;box-sizing: border-box;margin-bottom: 0.5em;}#sk-container-id-39 div.sk-estimator:hover {background-color: #d4ebff;}#sk-container-id-39 div.sk-parallel-item::after {content: \"\";width: 100%;border-bottom: 1px solid gray;flex-grow: 1;}#sk-container-id-39 div.sk-label:hover label.sk-toggleable__label {background-color: #d4ebff;}#sk-container-id-39 div.sk-serial::before {content: \"\";position: absolute;border-left: 1px solid gray;box-sizing: border-box;top: 0;bottom: 0;left: 50%;z-index: 0;}#sk-container-id-39 div.sk-serial {display: flex;flex-direction: column;align-items: center;background-color: white;padding-right: 0.2em;padding-left: 0.2em;position: relative;}#sk-container-id-39 div.sk-item {position: relative;z-index: 1;}#sk-container-id-39 div.sk-parallel {display: flex;align-items: stretch;justify-content: center;background-color: white;position: relative;}#sk-container-id-39 div.sk-item::before, #sk-container-id-39 div.sk-parallel-item::before {content: \"\";position: absolute;border-left: 1px solid gray;box-sizing: border-box;top: 0;bottom: 0;left: 50%;z-index: -1;}#sk-container-id-39 div.sk-parallel-item {display: flex;flex-direction: column;z-index: 1;position: relative;background-color: white;}#sk-container-id-39 div.sk-parallel-item:first-child::after {align-self: flex-end;width: 50%;}#sk-container-id-39 div.sk-parallel-item:last-child::after {align-self: flex-start;width: 50%;}#sk-container-id-39 div.sk-parallel-item:only-child::after {width: 0;}#sk-container-id-39 div.sk-dashed-wrapped {border: 1px dashed gray;margin: 0 0.4em 0.5em 0.4em;box-sizing: border-box;padding-bottom: 0.4em;background-color: white;}#sk-container-id-39 div.sk-label label {font-family: monospace;font-weight: bold;display: inline-block;line-height: 1.2em;}#sk-container-id-39 div.sk-label-container {text-align: center;}#sk-container-id-39 div.sk-container {/* jupyter's `normalize.less` sets `[hidden] { display: none; }` but bootstrap.min.css set `[hidden] { display: none !important; }` so we also need the `!important` here to be able to override the default hidden behavior on the sphinx rendered scikit-learn.org. See: https://github.com/scikit-learn/scikit-learn/issues/21755 */display: inline-block !important;position: relative;}#sk-container-id-39 div.sk-text-repr-fallback {display: none;}</style><div id=\"sk-container-id-39\" class=\"sk-top-container\"><div class=\"sk-text-repr-fallback\"><pre>Pipeline(steps=[(&#x27;preprocessor&#x27;,\n",
       "                 ColumnTransformer(transformers=[(&#x27;num&#x27;,\n",
       "                                                  Pipeline(steps=[(&#x27;impute_mean&#x27;,\n",
       "                                                                   SimpleImputer()),\n",
       "                                                                  (&#x27;scaler&#x27;,\n",
       "                                                                   StandardScaler())]),\n",
       "                                                  Index([&#x27;Year Built&#x27;, &#x27;Total Bedrooms&#x27;, &#x27;Living Area(SQF)&#x27;, &#x27;Wholesale&#x27;,\n",
       "       &#x27;Variety Store&#x27;, &#x27;Supermarket&#x27;, &#x27;Supercenter&#x27;, &#x27;Convenience&#x27;,\n",
       "       &#x27;Total Bathrooms&#x27;],\n",
       "      dtype=&#x27;object&#x27;))])),\n",
       "                (&#x27;regressor&#x27;, LinearRegression())])</pre><b>In a Jupyter environment, please rerun this cell to show the HTML representation or trust the notebook. <br />On GitHub, the HTML representation is unable to render, please try loading this page with nbviewer.org.</b></div><div class=\"sk-container\" hidden><div class=\"sk-item sk-dashed-wrapped\"><div class=\"sk-label-container\"><div class=\"sk-label sk-toggleable\"><input class=\"sk-toggleable__control sk-hidden--visually\" id=\"sk-estimator-id-230\" type=\"checkbox\" ><label for=\"sk-estimator-id-230\" class=\"sk-toggleable__label sk-toggleable__label-arrow\">Pipeline</label><div class=\"sk-toggleable__content\"><pre>Pipeline(steps=[(&#x27;preprocessor&#x27;,\n",
       "                 ColumnTransformer(transformers=[(&#x27;num&#x27;,\n",
       "                                                  Pipeline(steps=[(&#x27;impute_mean&#x27;,\n",
       "                                                                   SimpleImputer()),\n",
       "                                                                  (&#x27;scaler&#x27;,\n",
       "                                                                   StandardScaler())]),\n",
       "                                                  Index([&#x27;Year Built&#x27;, &#x27;Total Bedrooms&#x27;, &#x27;Living Area(SQF)&#x27;, &#x27;Wholesale&#x27;,\n",
       "       &#x27;Variety Store&#x27;, &#x27;Supermarket&#x27;, &#x27;Supercenter&#x27;, &#x27;Convenience&#x27;,\n",
       "       &#x27;Total Bathrooms&#x27;],\n",
       "      dtype=&#x27;object&#x27;))])),\n",
       "                (&#x27;regressor&#x27;, LinearRegression())])</pre></div></div></div><div class=\"sk-serial\"><div class=\"sk-item sk-dashed-wrapped\"><div class=\"sk-label-container\"><div class=\"sk-label sk-toggleable\"><input class=\"sk-toggleable__control sk-hidden--visually\" id=\"sk-estimator-id-231\" type=\"checkbox\" ><label for=\"sk-estimator-id-231\" class=\"sk-toggleable__label sk-toggleable__label-arrow\">preprocessor: ColumnTransformer</label><div class=\"sk-toggleable__content\"><pre>ColumnTransformer(transformers=[(&#x27;num&#x27;,\n",
       "                                 Pipeline(steps=[(&#x27;impute_mean&#x27;,\n",
       "                                                  SimpleImputer()),\n",
       "                                                 (&#x27;scaler&#x27;, StandardScaler())]),\n",
       "                                 Index([&#x27;Year Built&#x27;, &#x27;Total Bedrooms&#x27;, &#x27;Living Area(SQF)&#x27;, &#x27;Wholesale&#x27;,\n",
       "       &#x27;Variety Store&#x27;, &#x27;Supermarket&#x27;, &#x27;Supercenter&#x27;, &#x27;Convenience&#x27;,\n",
       "       &#x27;Total Bathrooms&#x27;],\n",
       "      dtype=&#x27;object&#x27;))])</pre></div></div></div><div class=\"sk-parallel\"><div class=\"sk-parallel-item\"><div class=\"sk-item\"><div class=\"sk-label-container\"><div class=\"sk-label sk-toggleable\"><input class=\"sk-toggleable__control sk-hidden--visually\" id=\"sk-estimator-id-232\" type=\"checkbox\" ><label for=\"sk-estimator-id-232\" class=\"sk-toggleable__label sk-toggleable__label-arrow\">num</label><div class=\"sk-toggleable__content\"><pre>Index([&#x27;Year Built&#x27;, &#x27;Total Bedrooms&#x27;, &#x27;Living Area(SQF)&#x27;, &#x27;Wholesale&#x27;,\n",
       "       &#x27;Variety Store&#x27;, &#x27;Supermarket&#x27;, &#x27;Supercenter&#x27;, &#x27;Convenience&#x27;,\n",
       "       &#x27;Total Bathrooms&#x27;],\n",
       "      dtype=&#x27;object&#x27;)</pre></div></div></div><div class=\"sk-serial\"><div class=\"sk-item\"><div class=\"sk-serial\"><div class=\"sk-item\"><div class=\"sk-estimator sk-toggleable\"><input class=\"sk-toggleable__control sk-hidden--visually\" id=\"sk-estimator-id-233\" type=\"checkbox\" ><label for=\"sk-estimator-id-233\" class=\"sk-toggleable__label sk-toggleable__label-arrow\">SimpleImputer</label><div class=\"sk-toggleable__content\"><pre>SimpleImputer()</pre></div></div></div><div class=\"sk-item\"><div class=\"sk-estimator sk-toggleable\"><input class=\"sk-toggleable__control sk-hidden--visually\" id=\"sk-estimator-id-234\" type=\"checkbox\" ><label for=\"sk-estimator-id-234\" class=\"sk-toggleable__label sk-toggleable__label-arrow\">StandardScaler</label><div class=\"sk-toggleable__content\"><pre>StandardScaler()</pre></div></div></div></div></div></div></div></div></div></div><div class=\"sk-item\"><div class=\"sk-estimator sk-toggleable\"><input class=\"sk-toggleable__control sk-hidden--visually\" id=\"sk-estimator-id-235\" type=\"checkbox\" ><label for=\"sk-estimator-id-235\" class=\"sk-toggleable__label sk-toggleable__label-arrow\">LinearRegression</label><div class=\"sk-toggleable__content\"><pre>LinearRegression()</pre></div></div></div></div></div></div></div>"
      ],
      "text/plain": [
       "Pipeline(steps=[('preprocessor',\n",
       "                 ColumnTransformer(transformers=[('num',\n",
       "                                                  Pipeline(steps=[('impute_mean',\n",
       "                                                                   SimpleImputer()),\n",
       "                                                                  ('scaler',\n",
       "                                                                   StandardScaler())]),\n",
       "                                                  Index(['Year Built', 'Total Bedrooms', 'Living Area(SQF)', 'Wholesale',\n",
       "       'Variety Store', 'Supermarket', 'Supercenter', 'Convenience',\n",
       "       'Total Bathrooms'],\n",
       "      dtype='object'))])),\n",
       "                ('regressor', LinearRegression())])"
      ]
     },
     "execution_count": 246,
     "metadata": {},
     "output_type": "execute_result"
    }
   ],
   "source": [
    "from sklearn.linear_model import LinearRegression\n",
    "from sklearn.model_selection import train_test_split, RandomizedSearchCV\n",
    "model = LinearRegression()\n",
    "\n",
    "X = Atlanta_Distance.drop(columns='current_listing_price')\n",
    "y = Atlanta_Distance['current_listing_price']\n",
    "X_train_val, X_test, y_train_val, y_test = train_test_split(X, y, test_size=0.2, random_state=42)\n",
    "X_train, X_val, y_train, y_val = train_test_split(X_train_val, y_train_val, test_size=0.25, random_state=42)\n",
    "\n",
    "y_train_log = np.log1p(y_train)  \n",
    "y_val_log = np.log1p(y_val)\n",
    "y_test_log = np.log1p(y_test)\n",
    "y_combined_log = np.log1p(y_train_val)\n",
    "\n",
    "mlr_pipeline = Pipeline(steps=[\n",
    "    ('preprocessor', preprocessor),\n",
    "    ('regressor', model),\n",
    "])\n",
    "# Initialize the linear regression model\n",
    "# Fit the model on the training data\n",
    "mlr_pipeline.fit(X_train, y_train_log)"
   ]
  },
  {
   "cell_type": "code",
   "execution_count": 247,
   "id": "7cab159e-8e57-4a13-a112-285958695e82",
   "metadata": {},
   "outputs": [
    {
     "name": "stdout",
     "output_type": "stream",
     "text": [
      "Validation R^2: 0.38024041716079704\n",
      "Test R^2: 0.2963179039961775\n",
      "Combined R^2: 0.3815328096186211\n"
     ]
    }
   ],
   "source": [
    "val_score = mlr_pipeline.score(X_val, y_val_log) \n",
    "print('Validation R^2:', val_score)\n",
    "\n",
    "test_score = mlr_pipeline.score(X_test, y_test_log)\n",
    "print('Test R^2:', test_score)\n",
    "\n",
    "combined_score = mlr_pipeline.score(X_train_val, y_combined_log)\n",
    "print('Combined R^2:', combined_score)"
   ]
  },
  {
   "cell_type": "code",
   "execution_count": 248,
   "id": "66fc4106-5000-4065-ac8b-2c464ec718e9",
   "metadata": {},
   "outputs": [
    {
     "name": "stdout",
     "output_type": "stream",
     "text": [
      "Validation Mean Squared Error: 0.067568723834061\n",
      "Validation Root Mean Squared Error: 0.25993984656851093\n",
      "Test Mean Squared Error: 0.07945609051184505\n",
      "Test Root Mean Squared Error: 0.28187956738977205\n",
      "Combined Mean Squared Error: 0.06742821605656231\n",
      "Combined Root Mean Squared Error: 0.2596694361232417\n"
     ]
    }
   ],
   "source": [
    "from sklearn.metrics import mean_squared_error \n",
    "y_val_pred = mlr_pipeline.predict(X_val)\n",
    "\n",
    "val_mse = mean_squared_error(y_val_log, y_val_pred)\n",
    "print('Validation Mean Squared Error:', val_mse)\n",
    "val_rmse = np.sqrt(val_mse)\n",
    "print(\"Validation Root Mean Squared Error:\", val_rmse)\n",
    "\n",
    "y_test_pred = mlr_pipeline.predict(X_test)\n",
    "\n",
    "test_mse = mean_squared_error(y_test_log, y_test_pred)\n",
    "print('Test Mean Squared Error:', test_mse)\n",
    "test_rmse = np.sqrt(test_mse)\n",
    "print(\"Test Root Mean Squared Error:\", test_rmse)\n",
    "\n",
    "y_combined_pred = mlr_pipeline.predict(X_train_val)\n",
    "\n",
    "combined_mse = mean_squared_error(y_combined_log, y_combined_pred)\n",
    "print('Combined Mean Squared Error:', combined_mse)\n",
    "combined_rmse = np.sqrt(combined_mse)\n",
    "print(\"Combined Root Mean Squared Error:\", combined_rmse)"
   ]
  },
  {
   "cell_type": "code",
   "execution_count": 249,
   "id": "d02649ae-cc83-48f3-89f9-0c4ced46fb8f",
   "metadata": {},
   "outputs": [
    {
     "name": "stdout",
     "output_type": "stream",
     "text": [
      "Validation Mean Absolute Percentage Error (MAPE): 2.279351367502629\n",
      "Test Mean Absolute Percentage Error (MAPE): 2.3500837199757547\n",
      "Combined Mean Absolute Percentage Error (MAPE): 2.3024951268303115\n"
     ]
    }
   ],
   "source": [
    "def calculate_mape(actual, predicted):\n",
    "    actual, predicted = np.array(actual), np.array(predicted)\n",
    "    mape = np.mean(np.abs((actual - predicted) / actual)) * 100\n",
    "    return mape\n",
    "\n",
    "val_mape = calculate_mape(y_val_log, y_val_pred)\n",
    "test_mape = calculate_mape(y_test_log, y_test_pred)\n",
    "combined_mape = calculate_mape(y_combined_log, y_combined_pred)\n",
    "\n",
    "print(\"Validation Mean Absolute Percentage Error (MAPE):\", val_mape)\n",
    "print(\"Test Mean Absolute Percentage Error (MAPE):\", test_mape)\n",
    "print(\"Combined Mean Absolute Percentage Error (MAPE):\", combined_mape)"
   ]
  },
  {
   "cell_type": "code",
   "execution_count": 250,
   "id": "9bdb80a6-6c18-4fcd-908a-5c63d1599308",
   "metadata": {},
   "outputs": [
    {
     "name": "stdout",
     "output_type": "stream",
     "text": [
      "Coefficients (MLE): [-0.00089888  0.05291727  0.07837989  0.01023048  0.01168272 -0.01944612\n",
      " -0.04567216 -0.02565061  0.10387218]\n",
      "Intercept (MLE): 7.669496321133192\n"
     ]
    }
   ],
   "source": [
    "coefficients = mlr_pipeline.named_steps['regressor'].coef_\n",
    "intercept = mlr_pipeline.named_steps['regressor'].intercept_\n",
    "\n",
    "# Display the coefficients\n",
    "print(\"Coefficients (MLE):\", coefficients)\n",
    "print(\"Intercept (MLE):\", intercept)"
   ]
  },
  {
   "cell_type": "code",
   "execution_count": 251,
   "id": "eb7e583f-a500-4cd5-bf1c-57442c84360d",
   "metadata": {},
   "outputs": [
    {
     "name": "stdout",
     "output_type": "stream",
     "text": [
      "            Feature  Coefficient (MLE)\n",
      "9         Intercept           7.669496\n",
      "8   Total Bathrooms           0.103872\n",
      "2  Living Area(SQF)           0.078380\n",
      "1    Total Bedrooms           0.052917\n",
      "4     Variety Store           0.011683\n",
      "3         Wholesale           0.010230\n",
      "0        Year Built          -0.000899\n",
      "5       Supermarket          -0.019446\n",
      "7       Convenience          -0.025651\n",
      "6       Supercenter          -0.045672\n"
     ]
    }
   ],
   "source": [
    "coef_df = pd.DataFrame({\n",
    "    'Feature': all_feature_names,\n",
    "    'Coefficient (MLE)': coefficients\n",
    "})\n",
    "intercept_row = pd.DataFrame({'Feature': ['Intercept'], 'Coefficient (MLE)': [intercept]})\n",
    "coef_df = pd.concat([coef_df, intercept_row], ignore_index=True)\n",
    "\n",
    "coef_df['Absolute Coefficient'] = coef_df['Coefficient (MLE)']  # Create a new column for absolute values\n",
    "coef_df = coef_df.sort_values(by='Absolute Coefficient', ascending=False).drop(columns='Absolute Coefficient')  # Sort and drop the temporary column\n",
    "\n",
    "# Display the coefficients with feature names sorted\n",
    "print(coef_df)"
   ]
  },
  {
   "cell_type": "code",
   "execution_count": null,
   "id": "86fdaf01-a1f2-4fae-88ff-3c041212d3cf",
   "metadata": {},
   "outputs": [],
   "source": []
  },
  {
   "cell_type": "code",
   "execution_count": null,
   "id": "f7cd82fa-517d-4b65-85d6-50cfb09d7a10",
   "metadata": {},
   "outputs": [],
   "source": []
  },
  {
   "cell_type": "code",
   "execution_count": null,
   "id": "64beb12c-7399-422a-86fb-fb90ab4f1655",
   "metadata": {},
   "outputs": [],
   "source": []
  },
  {
   "cell_type": "code",
   "execution_count": null,
   "id": "027373a4-5a61-4718-8e4f-7a8dd03cee9c",
   "metadata": {},
   "outputs": [],
   "source": []
  },
  {
   "cell_type": "code",
   "execution_count": 252,
   "id": "f6b049a4-0d5c-4642-8379-6c9640796830",
   "metadata": {},
   "outputs": [
    {
     "name": "stdout",
     "output_type": "stream",
     "text": [
      "Fitting 10 folds for each of 1 candidates, totalling 10 fits\n"
     ]
    },
    {
     "data": {
      "text/html": [
       "<style>#sk-container-id-40 {color: black;background-color: white;}#sk-container-id-40 pre{padding: 0;}#sk-container-id-40 div.sk-toggleable {background-color: white;}#sk-container-id-40 label.sk-toggleable__label {cursor: pointer;display: block;width: 100%;margin-bottom: 0;padding: 0.3em;box-sizing: border-box;text-align: center;}#sk-container-id-40 label.sk-toggleable__label-arrow:before {content: \"▸\";float: left;margin-right: 0.25em;color: #696969;}#sk-container-id-40 label.sk-toggleable__label-arrow:hover:before {color: black;}#sk-container-id-40 div.sk-estimator:hover label.sk-toggleable__label-arrow:before {color: black;}#sk-container-id-40 div.sk-toggleable__content {max-height: 0;max-width: 0;overflow: hidden;text-align: left;background-color: #f0f8ff;}#sk-container-id-40 div.sk-toggleable__content pre {margin: 0.2em;color: black;border-radius: 0.25em;background-color: #f0f8ff;}#sk-container-id-40 input.sk-toggleable__control:checked~div.sk-toggleable__content {max-height: 200px;max-width: 100%;overflow: auto;}#sk-container-id-40 input.sk-toggleable__control:checked~label.sk-toggleable__label-arrow:before {content: \"▾\";}#sk-container-id-40 div.sk-estimator input.sk-toggleable__control:checked~label.sk-toggleable__label {background-color: #d4ebff;}#sk-container-id-40 div.sk-label input.sk-toggleable__control:checked~label.sk-toggleable__label {background-color: #d4ebff;}#sk-container-id-40 input.sk-hidden--visually {border: 0;clip: rect(1px 1px 1px 1px);clip: rect(1px, 1px, 1px, 1px);height: 1px;margin: -1px;overflow: hidden;padding: 0;position: absolute;width: 1px;}#sk-container-id-40 div.sk-estimator {font-family: monospace;background-color: #f0f8ff;border: 1px dotted black;border-radius: 0.25em;box-sizing: border-box;margin-bottom: 0.5em;}#sk-container-id-40 div.sk-estimator:hover {background-color: #d4ebff;}#sk-container-id-40 div.sk-parallel-item::after {content: \"\";width: 100%;border-bottom: 1px solid gray;flex-grow: 1;}#sk-container-id-40 div.sk-label:hover label.sk-toggleable__label {background-color: #d4ebff;}#sk-container-id-40 div.sk-serial::before {content: \"\";position: absolute;border-left: 1px solid gray;box-sizing: border-box;top: 0;bottom: 0;left: 50%;z-index: 0;}#sk-container-id-40 div.sk-serial {display: flex;flex-direction: column;align-items: center;background-color: white;padding-right: 0.2em;padding-left: 0.2em;position: relative;}#sk-container-id-40 div.sk-item {position: relative;z-index: 1;}#sk-container-id-40 div.sk-parallel {display: flex;align-items: stretch;justify-content: center;background-color: white;position: relative;}#sk-container-id-40 div.sk-item::before, #sk-container-id-40 div.sk-parallel-item::before {content: \"\";position: absolute;border-left: 1px solid gray;box-sizing: border-box;top: 0;bottom: 0;left: 50%;z-index: -1;}#sk-container-id-40 div.sk-parallel-item {display: flex;flex-direction: column;z-index: 1;position: relative;background-color: white;}#sk-container-id-40 div.sk-parallel-item:first-child::after {align-self: flex-end;width: 50%;}#sk-container-id-40 div.sk-parallel-item:last-child::after {align-self: flex-start;width: 50%;}#sk-container-id-40 div.sk-parallel-item:only-child::after {width: 0;}#sk-container-id-40 div.sk-dashed-wrapped {border: 1px dashed gray;margin: 0 0.4em 0.5em 0.4em;box-sizing: border-box;padding-bottom: 0.4em;background-color: white;}#sk-container-id-40 div.sk-label label {font-family: monospace;font-weight: bold;display: inline-block;line-height: 1.2em;}#sk-container-id-40 div.sk-label-container {text-align: center;}#sk-container-id-40 div.sk-container {/* jupyter's `normalize.less` sets `[hidden] { display: none; }` but bootstrap.min.css set `[hidden] { display: none !important; }` so we also need the `!important` here to be able to override the default hidden behavior on the sphinx rendered scikit-learn.org. See: https://github.com/scikit-learn/scikit-learn/issues/21755 */display: inline-block !important;position: relative;}#sk-container-id-40 div.sk-text-repr-fallback {display: none;}</style><div id=\"sk-container-id-40\" class=\"sk-top-container\"><div class=\"sk-text-repr-fallback\"><pre>Pipeline(steps=[(&#x27;preprocessor&#x27;,\n",
       "                 ColumnTransformer(transformers=[(&#x27;num&#x27;,\n",
       "                                                  Pipeline(steps=[(&#x27;impute_mean&#x27;,\n",
       "                                                                   SimpleImputer()),\n",
       "                                                                  (&#x27;scaler&#x27;,\n",
       "                                                                   StandardScaler())]),\n",
       "                                                  Index([&#x27;Year Built&#x27;, &#x27;Total Bedrooms&#x27;, &#x27;Living Area(SQF)&#x27;, &#x27;Wholesale&#x27;,\n",
       "       &#x27;Variety Store&#x27;, &#x27;Supermarket&#x27;, &#x27;Supercenter&#x27;, &#x27;Convenience&#x27;,\n",
       "       &#x27;Total Bathrooms&#x27;],\n",
       "      dtype=&#x27;object&#x27;))])),\n",
       "                (&#x27;regressor&#x27;, Ridge(random_state=42))])</pre><b>In a Jupyter environment, please rerun this cell to show the HTML representation or trust the notebook. <br />On GitHub, the HTML representation is unable to render, please try loading this page with nbviewer.org.</b></div><div class=\"sk-container\" hidden><div class=\"sk-item sk-dashed-wrapped\"><div class=\"sk-label-container\"><div class=\"sk-label sk-toggleable\"><input class=\"sk-toggleable__control sk-hidden--visually\" id=\"sk-estimator-id-236\" type=\"checkbox\" ><label for=\"sk-estimator-id-236\" class=\"sk-toggleable__label sk-toggleable__label-arrow\">Pipeline</label><div class=\"sk-toggleable__content\"><pre>Pipeline(steps=[(&#x27;preprocessor&#x27;,\n",
       "                 ColumnTransformer(transformers=[(&#x27;num&#x27;,\n",
       "                                                  Pipeline(steps=[(&#x27;impute_mean&#x27;,\n",
       "                                                                   SimpleImputer()),\n",
       "                                                                  (&#x27;scaler&#x27;,\n",
       "                                                                   StandardScaler())]),\n",
       "                                                  Index([&#x27;Year Built&#x27;, &#x27;Total Bedrooms&#x27;, &#x27;Living Area(SQF)&#x27;, &#x27;Wholesale&#x27;,\n",
       "       &#x27;Variety Store&#x27;, &#x27;Supermarket&#x27;, &#x27;Supercenter&#x27;, &#x27;Convenience&#x27;,\n",
       "       &#x27;Total Bathrooms&#x27;],\n",
       "      dtype=&#x27;object&#x27;))])),\n",
       "                (&#x27;regressor&#x27;, Ridge(random_state=42))])</pre></div></div></div><div class=\"sk-serial\"><div class=\"sk-item sk-dashed-wrapped\"><div class=\"sk-label-container\"><div class=\"sk-label sk-toggleable\"><input class=\"sk-toggleable__control sk-hidden--visually\" id=\"sk-estimator-id-237\" type=\"checkbox\" ><label for=\"sk-estimator-id-237\" class=\"sk-toggleable__label sk-toggleable__label-arrow\">preprocessor: ColumnTransformer</label><div class=\"sk-toggleable__content\"><pre>ColumnTransformer(transformers=[(&#x27;num&#x27;,\n",
       "                                 Pipeline(steps=[(&#x27;impute_mean&#x27;,\n",
       "                                                  SimpleImputer()),\n",
       "                                                 (&#x27;scaler&#x27;, StandardScaler())]),\n",
       "                                 Index([&#x27;Year Built&#x27;, &#x27;Total Bedrooms&#x27;, &#x27;Living Area(SQF)&#x27;, &#x27;Wholesale&#x27;,\n",
       "       &#x27;Variety Store&#x27;, &#x27;Supermarket&#x27;, &#x27;Supercenter&#x27;, &#x27;Convenience&#x27;,\n",
       "       &#x27;Total Bathrooms&#x27;],\n",
       "      dtype=&#x27;object&#x27;))])</pre></div></div></div><div class=\"sk-parallel\"><div class=\"sk-parallel-item\"><div class=\"sk-item\"><div class=\"sk-label-container\"><div class=\"sk-label sk-toggleable\"><input class=\"sk-toggleable__control sk-hidden--visually\" id=\"sk-estimator-id-238\" type=\"checkbox\" ><label for=\"sk-estimator-id-238\" class=\"sk-toggleable__label sk-toggleable__label-arrow\">num</label><div class=\"sk-toggleable__content\"><pre>Index([&#x27;Year Built&#x27;, &#x27;Total Bedrooms&#x27;, &#x27;Living Area(SQF)&#x27;, &#x27;Wholesale&#x27;,\n",
       "       &#x27;Variety Store&#x27;, &#x27;Supermarket&#x27;, &#x27;Supercenter&#x27;, &#x27;Convenience&#x27;,\n",
       "       &#x27;Total Bathrooms&#x27;],\n",
       "      dtype=&#x27;object&#x27;)</pre></div></div></div><div class=\"sk-serial\"><div class=\"sk-item\"><div class=\"sk-serial\"><div class=\"sk-item\"><div class=\"sk-estimator sk-toggleable\"><input class=\"sk-toggleable__control sk-hidden--visually\" id=\"sk-estimator-id-239\" type=\"checkbox\" ><label for=\"sk-estimator-id-239\" class=\"sk-toggleable__label sk-toggleable__label-arrow\">SimpleImputer</label><div class=\"sk-toggleable__content\"><pre>SimpleImputer()</pre></div></div></div><div class=\"sk-item\"><div class=\"sk-estimator sk-toggleable\"><input class=\"sk-toggleable__control sk-hidden--visually\" id=\"sk-estimator-id-240\" type=\"checkbox\" ><label for=\"sk-estimator-id-240\" class=\"sk-toggleable__label sk-toggleable__label-arrow\">StandardScaler</label><div class=\"sk-toggleable__content\"><pre>StandardScaler()</pre></div></div></div></div></div></div></div></div></div></div><div class=\"sk-item\"><div class=\"sk-estimator sk-toggleable\"><input class=\"sk-toggleable__control sk-hidden--visually\" id=\"sk-estimator-id-241\" type=\"checkbox\" ><label for=\"sk-estimator-id-241\" class=\"sk-toggleable__label sk-toggleable__label-arrow\">Ridge</label><div class=\"sk-toggleable__content\"><pre>Ridge(random_state=42)</pre></div></div></div></div></div></div></div>"
      ],
      "text/plain": [
       "Pipeline(steps=[('preprocessor',\n",
       "                 ColumnTransformer(transformers=[('num',\n",
       "                                                  Pipeline(steps=[('impute_mean',\n",
       "                                                                   SimpleImputer()),\n",
       "                                                                  ('scaler',\n",
       "                                                                   StandardScaler())]),\n",
       "                                                  Index(['Year Built', 'Total Bedrooms', 'Living Area(SQF)', 'Wholesale',\n",
       "       'Variety Store', 'Supermarket', 'Supercenter', 'Convenience',\n",
       "       'Total Bathrooms'],\n",
       "      dtype='object'))])),\n",
       "                ('regressor', Ridge(random_state=42))])"
      ]
     },
     "execution_count": 252,
     "metadata": {},
     "output_type": "execute_result"
    }
   ],
   "source": [
    "from sklearn.linear_model import Ridge\n",
    "ridge_model = Ridge(random_state=42)\n",
    "param = {\n",
    "    'regressor__alpha': [100]\n",
    "}\n",
    "ridge_pipeline = Pipeline(steps=[\n",
    "    ('preprocessor', preprocessor),\n",
    "    ('regressor', ridge_model),\n",
    "])\n",
    "ridge_search = GridSearchCV(\n",
    "    estimator=ridge_pipeline,\n",
    "    param_grid=param,\n",
    "    scoring=['r2', 'neg_mean_squared_error', 'neg_mean_absolute_percentage_error', 'neg_root_mean_squared_error'],\n",
    "    refit='r2', \n",
    "    cv=10,  # Number of cross-validation folds\n",
    "    n_jobs=-1,  # Use all available cores\n",
    "    verbose=2,\n",
    ")\n",
    "\n",
    "# Fit RandomizedSearchCV\n",
    "ridge_search.fit(X_train, y_train_log)\n",
    "ridge_pipeline.fit(X_train, y_train_log)"
   ]
  },
  {
   "cell_type": "code",
   "execution_count": 253,
   "id": "66445b1d-bc68-4b62-9a82-f736110d12f2",
   "metadata": {},
   "outputs": [
    {
     "name": "stdout",
     "output_type": "stream",
     "text": [
      "Mean MSE scores: [0.06770248]\n",
      "Mean MAPE scores: [0.02313331]\n",
      "Mean R^2 scores: [0.37826884]\n",
      "Mean RMSE scores: [0.25999449]\n"
     ]
    }
   ],
   "source": [
    "best_model = ridge_search.best_estimator_\n",
    "results = ridge_search.cv_results_\n",
    "mean_r2_scores = results['mean_test_r2']\n",
    "mean_mse_scores = -results['mean_test_neg_mean_squared_error']\n",
    "mean_mape_scores = -results['mean_test_neg_mean_absolute_percentage_error']\n",
    "mean_RMSE_scores = -results['mean_test_neg_root_mean_squared_error']\n",
    "\n",
    "print(\"Mean MSE scores:\", mean_mse_scores)\n",
    "print(\"Mean MAPE scores:\", mean_mape_scores)\n",
    "print(\"Mean R^2 scores:\", mean_r2_scores)\n",
    "print(\"Mean RMSE scores:\", mean_RMSE_scores)"
   ]
  },
  {
   "cell_type": "code",
   "execution_count": 254,
   "id": "6480e28e-9008-4aae-b9f7-66ba0f3d9a22",
   "metadata": {},
   "outputs": [
    {
     "name": "stdout",
     "output_type": "stream",
     "text": [
      "Best parameters: {'regressor__alpha': 100}\n",
      "Best R^2: 0.3782688406455593\n"
     ]
    }
   ],
   "source": [
    "print(\"Best parameters:\", ridge_search.best_params_)\n",
    "print(\"Best R^2:\", ridge_search.best_score_)"
   ]
  },
  {
   "cell_type": "code",
   "execution_count": 255,
   "id": "a8f7c8b8-f8fa-41f3-bcb9-716b04c7979d",
   "metadata": {},
   "outputs": [],
   "source": [
    "from sklearn.metrics import mean_squared_error, mean_absolute_percentage_error, r2_score, mean_squared_error\n",
    "def calculate_scores(y_true, y_pred):\n",
    "    r2 = r2_score(y_true, y_pred)\n",
    "    mse = mean_squared_error(y_true, y_pred)\n",
    "    mape = mean_absolute_percentage_error(y_true, y_pred)\n",
    "    rmse = mean_squared_error(y_true, y_pred, squared=False)\n",
    "    return r2, mse, mape, rmse"
   ]
  },
  {
   "cell_type": "code",
   "execution_count": 256,
   "id": "2f7c8095-adc9-4a1c-9503-bf88a8d91d16",
   "metadata": {},
   "outputs": [
    {
     "name": "stdout",
     "output_type": "stream",
     "text": [
      "Tuned Validation Set Scores:\n",
      "R²: 0.3803\n",
      "MSE: 0.0676\n",
      "MAPE: 0.0228\n",
      "RMSE: 0.2599\n",
      "\n",
      "Tuned Test Set Scores:\n",
      "R²: 0.2969\n",
      "MSE: 0.0794\n",
      "MAPE: 0.0235\n",
      "RMSE: 0.2818\n",
      "\n",
      "Tuned Train-Val Set Scores:\n",
      "R²: 0.3815\n",
      "MSE: 0.0674\n",
      "MAPE: 0.0230\n",
      "RMSE: 0.2597\n"
     ]
    }
   ],
   "source": [
    "y_val_pred_tuned = best_model.predict(X_val)\n",
    "val_scores = calculate_scores(y_val_log, y_val_pred_tuned)\n",
    "\n",
    "y_test_pred_tuned = best_model.predict(X_test)\n",
    "test_scores = calculate_scores(y_test_log, y_test_pred_tuned)\n",
    "\n",
    "y_combined_pred_tuned = best_model.predict(X_train_val)\n",
    "combined_scores = calculate_scores(y_combined_log, y_combined_pred_tuned)\n",
    "\n",
    "print(\"Tuned Validation Set Scores:\")\n",
    "print(f\"R²: {val_scores[0]:.4f}\")\n",
    "print(f\"MSE: {val_scores[1]:.4f}\")\n",
    "print(f\"MAPE: {val_scores[2]:.4f}\")\n",
    "print(f\"RMSE: {val_scores[3]:.4f}\")\n",
    "\n",
    "print(\"\\nTuned Test Set Scores:\")\n",
    "print(f\"R²: {test_scores[0]:.4f}\")\n",
    "print(f\"MSE: {test_scores[1]:.4f}\")\n",
    "print(f\"MAPE: {test_scores[2]:.4f}\")\n",
    "print(f\"RMSE: {test_scores[3]:.4f}\")\n",
    "\n",
    "print(\"\\nTuned Train-Val Set Scores:\")\n",
    "print(f\"R²: {combined_scores[0]:.4f}\")\n",
    "print(f\"MSE: {combined_scores[1]:.4f}\")\n",
    "print(f\"MAPE: {combined_scores[2]:.4f}\")\n",
    "print(f\"RMSE: {combined_scores[3]:.4f}\")"
   ]
  },
  {
   "cell_type": "code",
   "execution_count": 257,
   "id": "b40d396c-6f73-4398-b220-bbad98a010ce",
   "metadata": {},
   "outputs": [],
   "source": [
    "coefficients = ridge_pipeline.named_steps['regressor'].coef_\n",
    "intercept = ridge_pipeline.named_steps['regressor'].intercept_"
   ]
  },
  {
   "cell_type": "code",
   "execution_count": 258,
   "id": "937a16d3-3dce-4c2d-9b1b-3c41604ecdf5",
   "metadata": {},
   "outputs": [
    {
     "name": "stdout",
     "output_type": "stream",
     "text": [
      "            Feature  Coefficient (MLE)\n",
      "9         Intercept           7.669496\n",
      "8   Total Bathrooms           0.103864\n",
      "2  Living Area(SQF)           0.078376\n",
      "1    Total Bedrooms           0.052919\n",
      "4     Variety Store           0.011678\n",
      "3         Wholesale           0.010227\n",
      "0        Year Built          -0.000896\n",
      "5       Supermarket          -0.019446\n",
      "7       Convenience          -0.025647\n",
      "6       Supercenter          -0.045666\n"
     ]
    }
   ],
   "source": [
    "coef_df_ridge = pd.DataFrame({\n",
    "    'Feature': all_feature_names,\n",
    "    'Coefficient (MLE)': coefficients\n",
    "})\n",
    "\n",
    "#Add intercept row\n",
    "intercept_row = pd.DataFrame({'Feature': ['Intercept'], 'Coefficient (MLE)': [intercept]})\n",
    "coef_df_ridge = pd.concat([coef_df_ridge, intercept_row], ignore_index=True)\n",
    "\n",
    "# Sort the coefficients by absolute value in descending order\n",
    "coef_df_ridge['Absolute Coefficient'] = coef_df_ridge['Coefficient (MLE)']  # Create a new column for absolute values\n",
    "coef_df_ridge = coef_df_ridge.sort_values(by='Absolute Coefficient', ascending=False).drop(columns='Absolute Coefficient')  # Sort and drop the temporary column\n",
    "\n",
    "# Display the coefficients with feature names sorted\n",
    "print(coef_df_ridge)"
   ]
  },
  {
   "cell_type": "code",
   "execution_count": null,
   "id": "71c5e53e-8543-4907-bd74-6adb516dd70b",
   "metadata": {},
   "outputs": [],
   "source": []
  },
  {
   "cell_type": "code",
   "execution_count": null,
   "id": "a3ab5b5d-b098-4f9e-84b9-ccb429442fa0",
   "metadata": {},
   "outputs": [],
   "source": []
  },
  {
   "cell_type": "code",
   "execution_count": null,
   "id": "29349e40-272f-4792-ba9d-15865b838e09",
   "metadata": {},
   "outputs": [],
   "source": []
  },
  {
   "cell_type": "code",
   "execution_count": null,
   "id": "5b7b023a-e1fc-4f7c-a83f-ce22096a0225",
   "metadata": {},
   "outputs": [],
   "source": []
  },
  {
   "cell_type": "code",
   "execution_count": null,
   "id": "9fb88048-9e5a-4e72-90d2-6e1eb546e9d7",
   "metadata": {},
   "outputs": [],
   "source": []
  },
  {
   "cell_type": "code",
   "execution_count": 259,
   "id": "d9ff4a0d-247f-43c4-991f-a77c0d086fa6",
   "metadata": {},
   "outputs": [
    {
     "name": "stdout",
     "output_type": "stream",
     "text": [
      "Fitting 10 folds for each of 1 candidates, totalling 10 fits\n"
     ]
    },
    {
     "data": {
      "text/html": [
       "<style>#sk-container-id-41 {color: black;background-color: white;}#sk-container-id-41 pre{padding: 0;}#sk-container-id-41 div.sk-toggleable {background-color: white;}#sk-container-id-41 label.sk-toggleable__label {cursor: pointer;display: block;width: 100%;margin-bottom: 0;padding: 0.3em;box-sizing: border-box;text-align: center;}#sk-container-id-41 label.sk-toggleable__label-arrow:before {content: \"▸\";float: left;margin-right: 0.25em;color: #696969;}#sk-container-id-41 label.sk-toggleable__label-arrow:hover:before {color: black;}#sk-container-id-41 div.sk-estimator:hover label.sk-toggleable__label-arrow:before {color: black;}#sk-container-id-41 div.sk-toggleable__content {max-height: 0;max-width: 0;overflow: hidden;text-align: left;background-color: #f0f8ff;}#sk-container-id-41 div.sk-toggleable__content pre {margin: 0.2em;color: black;border-radius: 0.25em;background-color: #f0f8ff;}#sk-container-id-41 input.sk-toggleable__control:checked~div.sk-toggleable__content {max-height: 200px;max-width: 100%;overflow: auto;}#sk-container-id-41 input.sk-toggleable__control:checked~label.sk-toggleable__label-arrow:before {content: \"▾\";}#sk-container-id-41 div.sk-estimator input.sk-toggleable__control:checked~label.sk-toggleable__label {background-color: #d4ebff;}#sk-container-id-41 div.sk-label input.sk-toggleable__control:checked~label.sk-toggleable__label {background-color: #d4ebff;}#sk-container-id-41 input.sk-hidden--visually {border: 0;clip: rect(1px 1px 1px 1px);clip: rect(1px, 1px, 1px, 1px);height: 1px;margin: -1px;overflow: hidden;padding: 0;position: absolute;width: 1px;}#sk-container-id-41 div.sk-estimator {font-family: monospace;background-color: #f0f8ff;border: 1px dotted black;border-radius: 0.25em;box-sizing: border-box;margin-bottom: 0.5em;}#sk-container-id-41 div.sk-estimator:hover {background-color: #d4ebff;}#sk-container-id-41 div.sk-parallel-item::after {content: \"\";width: 100%;border-bottom: 1px solid gray;flex-grow: 1;}#sk-container-id-41 div.sk-label:hover label.sk-toggleable__label {background-color: #d4ebff;}#sk-container-id-41 div.sk-serial::before {content: \"\";position: absolute;border-left: 1px solid gray;box-sizing: border-box;top: 0;bottom: 0;left: 50%;z-index: 0;}#sk-container-id-41 div.sk-serial {display: flex;flex-direction: column;align-items: center;background-color: white;padding-right: 0.2em;padding-left: 0.2em;position: relative;}#sk-container-id-41 div.sk-item {position: relative;z-index: 1;}#sk-container-id-41 div.sk-parallel {display: flex;align-items: stretch;justify-content: center;background-color: white;position: relative;}#sk-container-id-41 div.sk-item::before, #sk-container-id-41 div.sk-parallel-item::before {content: \"\";position: absolute;border-left: 1px solid gray;box-sizing: border-box;top: 0;bottom: 0;left: 50%;z-index: -1;}#sk-container-id-41 div.sk-parallel-item {display: flex;flex-direction: column;z-index: 1;position: relative;background-color: white;}#sk-container-id-41 div.sk-parallel-item:first-child::after {align-self: flex-end;width: 50%;}#sk-container-id-41 div.sk-parallel-item:last-child::after {align-self: flex-start;width: 50%;}#sk-container-id-41 div.sk-parallel-item:only-child::after {width: 0;}#sk-container-id-41 div.sk-dashed-wrapped {border: 1px dashed gray;margin: 0 0.4em 0.5em 0.4em;box-sizing: border-box;padding-bottom: 0.4em;background-color: white;}#sk-container-id-41 div.sk-label label {font-family: monospace;font-weight: bold;display: inline-block;line-height: 1.2em;}#sk-container-id-41 div.sk-label-container {text-align: center;}#sk-container-id-41 div.sk-container {/* jupyter's `normalize.less` sets `[hidden] { display: none; }` but bootstrap.min.css set `[hidden] { display: none !important; }` so we also need the `!important` here to be able to override the default hidden behavior on the sphinx rendered scikit-learn.org. See: https://github.com/scikit-learn/scikit-learn/issues/21755 */display: inline-block !important;position: relative;}#sk-container-id-41 div.sk-text-repr-fallback {display: none;}</style><div id=\"sk-container-id-41\" class=\"sk-top-container\"><div class=\"sk-text-repr-fallback\"><pre>Pipeline(steps=[(&#x27;preprocessor&#x27;,\n",
       "                 ColumnTransformer(transformers=[(&#x27;num&#x27;,\n",
       "                                                  Pipeline(steps=[(&#x27;impute_mean&#x27;,\n",
       "                                                                   SimpleImputer()),\n",
       "                                                                  (&#x27;scaler&#x27;,\n",
       "                                                                   StandardScaler())]),\n",
       "                                                  Index([&#x27;Year Built&#x27;, &#x27;Total Bedrooms&#x27;, &#x27;Living Area(SQF)&#x27;, &#x27;Wholesale&#x27;,\n",
       "       &#x27;Variety Store&#x27;, &#x27;Supermarket&#x27;, &#x27;Supercenter&#x27;, &#x27;Convenience&#x27;,\n",
       "       &#x27;Total Bathrooms&#x27;],\n",
       "      dtype=&#x27;object&#x27;))])),\n",
       "                (&#x27;regressor&#x27;, Lasso(random_state=42))])</pre><b>In a Jupyter environment, please rerun this cell to show the HTML representation or trust the notebook. <br />On GitHub, the HTML representation is unable to render, please try loading this page with nbviewer.org.</b></div><div class=\"sk-container\" hidden><div class=\"sk-item sk-dashed-wrapped\"><div class=\"sk-label-container\"><div class=\"sk-label sk-toggleable\"><input class=\"sk-toggleable__control sk-hidden--visually\" id=\"sk-estimator-id-242\" type=\"checkbox\" ><label for=\"sk-estimator-id-242\" class=\"sk-toggleable__label sk-toggleable__label-arrow\">Pipeline</label><div class=\"sk-toggleable__content\"><pre>Pipeline(steps=[(&#x27;preprocessor&#x27;,\n",
       "                 ColumnTransformer(transformers=[(&#x27;num&#x27;,\n",
       "                                                  Pipeline(steps=[(&#x27;impute_mean&#x27;,\n",
       "                                                                   SimpleImputer()),\n",
       "                                                                  (&#x27;scaler&#x27;,\n",
       "                                                                   StandardScaler())]),\n",
       "                                                  Index([&#x27;Year Built&#x27;, &#x27;Total Bedrooms&#x27;, &#x27;Living Area(SQF)&#x27;, &#x27;Wholesale&#x27;,\n",
       "       &#x27;Variety Store&#x27;, &#x27;Supermarket&#x27;, &#x27;Supercenter&#x27;, &#x27;Convenience&#x27;,\n",
       "       &#x27;Total Bathrooms&#x27;],\n",
       "      dtype=&#x27;object&#x27;))])),\n",
       "                (&#x27;regressor&#x27;, Lasso(random_state=42))])</pre></div></div></div><div class=\"sk-serial\"><div class=\"sk-item sk-dashed-wrapped\"><div class=\"sk-label-container\"><div class=\"sk-label sk-toggleable\"><input class=\"sk-toggleable__control sk-hidden--visually\" id=\"sk-estimator-id-243\" type=\"checkbox\" ><label for=\"sk-estimator-id-243\" class=\"sk-toggleable__label sk-toggleable__label-arrow\">preprocessor: ColumnTransformer</label><div class=\"sk-toggleable__content\"><pre>ColumnTransformer(transformers=[(&#x27;num&#x27;,\n",
       "                                 Pipeline(steps=[(&#x27;impute_mean&#x27;,\n",
       "                                                  SimpleImputer()),\n",
       "                                                 (&#x27;scaler&#x27;, StandardScaler())]),\n",
       "                                 Index([&#x27;Year Built&#x27;, &#x27;Total Bedrooms&#x27;, &#x27;Living Area(SQF)&#x27;, &#x27;Wholesale&#x27;,\n",
       "       &#x27;Variety Store&#x27;, &#x27;Supermarket&#x27;, &#x27;Supercenter&#x27;, &#x27;Convenience&#x27;,\n",
       "       &#x27;Total Bathrooms&#x27;],\n",
       "      dtype=&#x27;object&#x27;))])</pre></div></div></div><div class=\"sk-parallel\"><div class=\"sk-parallel-item\"><div class=\"sk-item\"><div class=\"sk-label-container\"><div class=\"sk-label sk-toggleable\"><input class=\"sk-toggleable__control sk-hidden--visually\" id=\"sk-estimator-id-244\" type=\"checkbox\" ><label for=\"sk-estimator-id-244\" class=\"sk-toggleable__label sk-toggleable__label-arrow\">num</label><div class=\"sk-toggleable__content\"><pre>Index([&#x27;Year Built&#x27;, &#x27;Total Bedrooms&#x27;, &#x27;Living Area(SQF)&#x27;, &#x27;Wholesale&#x27;,\n",
       "       &#x27;Variety Store&#x27;, &#x27;Supermarket&#x27;, &#x27;Supercenter&#x27;, &#x27;Convenience&#x27;,\n",
       "       &#x27;Total Bathrooms&#x27;],\n",
       "      dtype=&#x27;object&#x27;)</pre></div></div></div><div class=\"sk-serial\"><div class=\"sk-item\"><div class=\"sk-serial\"><div class=\"sk-item\"><div class=\"sk-estimator sk-toggleable\"><input class=\"sk-toggleable__control sk-hidden--visually\" id=\"sk-estimator-id-245\" type=\"checkbox\" ><label for=\"sk-estimator-id-245\" class=\"sk-toggleable__label sk-toggleable__label-arrow\">SimpleImputer</label><div class=\"sk-toggleable__content\"><pre>SimpleImputer()</pre></div></div></div><div class=\"sk-item\"><div class=\"sk-estimator sk-toggleable\"><input class=\"sk-toggleable__control sk-hidden--visually\" id=\"sk-estimator-id-246\" type=\"checkbox\" ><label for=\"sk-estimator-id-246\" class=\"sk-toggleable__label sk-toggleable__label-arrow\">StandardScaler</label><div class=\"sk-toggleable__content\"><pre>StandardScaler()</pre></div></div></div></div></div></div></div></div></div></div><div class=\"sk-item\"><div class=\"sk-estimator sk-toggleable\"><input class=\"sk-toggleable__control sk-hidden--visually\" id=\"sk-estimator-id-247\" type=\"checkbox\" ><label for=\"sk-estimator-id-247\" class=\"sk-toggleable__label sk-toggleable__label-arrow\">Lasso</label><div class=\"sk-toggleable__content\"><pre>Lasso(random_state=42)</pre></div></div></div></div></div></div></div>"
      ],
      "text/plain": [
       "Pipeline(steps=[('preprocessor',\n",
       "                 ColumnTransformer(transformers=[('num',\n",
       "                                                  Pipeline(steps=[('impute_mean',\n",
       "                                                                   SimpleImputer()),\n",
       "                                                                  ('scaler',\n",
       "                                                                   StandardScaler())]),\n",
       "                                                  Index(['Year Built', 'Total Bedrooms', 'Living Area(SQF)', 'Wholesale',\n",
       "       'Variety Store', 'Supermarket', 'Supercenter', 'Convenience',\n",
       "       'Total Bathrooms'],\n",
       "      dtype='object'))])),\n",
       "                ('regressor', Lasso(random_state=42))])"
      ]
     },
     "execution_count": 259,
     "metadata": {},
     "output_type": "execute_result"
    }
   ],
   "source": [
    "from sklearn.linear_model import Lasso\n",
    "lasso_model = Lasso(random_state=42)\n",
    "param_lasso = {\n",
    "    'regressor__alpha': [1.0]\n",
    "}\n",
    "lasso_pipeline = Pipeline(steps=[\n",
    "    ('preprocessor', preprocessor),\n",
    "    ('regressor', lasso_model),\n",
    "])\n",
    "lasso_search = GridSearchCV(\n",
    "    estimator=lasso_pipeline,\n",
    "    param_grid=param_lasso,\n",
    "    scoring=['r2', 'neg_mean_squared_error', 'neg_mean_absolute_percentage_error', 'neg_root_mean_squared_error'],\n",
    "    refit='r2', \n",
    "    cv=10,  # Number of cross-validation folds\n",
    "    n_jobs=-1,  # Use all available cores\n",
    "    verbose=2,\n",
    ")\n",
    "lasso_search.fit(X_train, y_train_log)\n",
    "lasso_pipeline.fit(X_train, y_train_log)"
   ]
  },
  {
   "cell_type": "code",
   "execution_count": 260,
   "id": "7d879a86-9249-4d78-bc64-8eb818574131",
   "metadata": {},
   "outputs": [
    {
     "name": "stdout",
     "output_type": "stream",
     "text": [
      "Best parameters: {'regressor__alpha': 1.0}\n",
      "Best R^2: -0.00038539107693260635\n"
     ]
    }
   ],
   "source": [
    "print(\"Best parameters:\", lasso_search.best_params_)\n",
    "print(\"Best R^2:\", lasso_search.best_score_)"
   ]
  },
  {
   "cell_type": "code",
   "execution_count": 261,
   "id": "3332351e-fdc4-4387-aecb-bebe25b0004f",
   "metadata": {},
   "outputs": [
    {
     "name": "stdout",
     "output_type": "stream",
     "text": [
      "Tuned Validation Set Scores:\n",
      "R²: -0.0000\n",
      "MSE: 0.1090\n",
      "MAPE: 0.0310\n",
      "RMSE: 0.3302\n",
      "\n",
      "Tuned Test Set Scores:\n",
      "R²: -0.0001\n",
      "MSE: 0.1129\n",
      "MAPE: 0.0313\n",
      "RMSE: 0.3360\n",
      "\n",
      "Tuned Train-Val Set Scores:\n",
      "R²: -0.0000\n",
      "MSE: 0.1090\n",
      "MAPE: 0.0309\n",
      "RMSE: 0.3302\n"
     ]
    }
   ],
   "source": [
    "best_model_lasso = lasso_search.best_estimator_\n",
    "results_lasso = lasso_search.cv_results_\n",
    "\n",
    "y_val_pred_tuned_lasso = best_model_lasso.predict(X_val)\n",
    "val_scores_lasso = calculate_scores(y_val_log, y_val_pred_tuned_lasso)\n",
    "\n",
    "y_test_pred_tuned_lasso = best_model_lasso.predict(X_test)\n",
    "test_scores_lasso = calculate_scores(y_test_log, y_test_pred_tuned_lasso)\n",
    "\n",
    "y_combined_pred_tuned_lasso = best_model_lasso.predict(X_train_val)\n",
    "combined_scores_lasso = calculate_scores(y_combined_log, y_combined_pred_tuned_lasso)\n",
    "\n",
    "print(\"Tuned Validation Set Scores:\")\n",
    "print(f\"R²: {val_scores_lasso[0]:.4f}\")\n",
    "print(f\"MSE: {val_scores_lasso[1]:.4f}\")\n",
    "print(f\"MAPE: {val_scores_lasso[2]:.4f}\")\n",
    "print(f\"RMSE: {val_scores_lasso[3]:.4f}\")\n",
    "\n",
    "print(\"\\nTuned Test Set Scores:\")\n",
    "print(f\"R²: {test_scores_lasso[0]:.4f}\")\n",
    "print(f\"MSE: {test_scores_lasso[1]:.4f}\")\n",
    "print(f\"MAPE: {test_scores_lasso[2]:.4f}\")\n",
    "print(f\"RMSE: {test_scores_lasso[3]:.4f}\")\n",
    "\n",
    "print(\"\\nTuned Train-Val Set Scores:\")\n",
    "print(f\"R²: {combined_scores_lasso[0]:.4f}\")\n",
    "print(f\"MSE: {combined_scores_lasso[1]:.4f}\")\n",
    "print(f\"MAPE: {combined_scores_lasso[2]:.4f}\")\n",
    "print(f\"RMSE: {combined_scores_lasso[3]:.4f}\")"
   ]
  },
  {
   "cell_type": "code",
   "execution_count": 262,
   "id": "8ce13885-9bb4-4320-a52c-5e00c66d4681",
   "metadata": {},
   "outputs": [],
   "source": [
    "coefficients = lasso_pipeline.named_steps['regressor'].coef_\n",
    "intercept = lasso_pipeline.named_steps['regressor'].intercept_"
   ]
  },
  {
   "cell_type": "code",
   "execution_count": 263,
   "id": "858bab6c-96de-43a0-835d-fc345ba5f9f5",
   "metadata": {},
   "outputs": [
    {
     "name": "stdout",
     "output_type": "stream",
     "text": [
      "            Feature  Coefficient (MLE)\n",
      "9         Intercept           7.669496\n",
      "0        Year Built           0.000000\n",
      "1    Total Bedrooms           0.000000\n",
      "2  Living Area(SQF)           0.000000\n",
      "3         Wholesale          -0.000000\n",
      "4     Variety Store          -0.000000\n",
      "5       Supermarket          -0.000000\n",
      "6       Supercenter          -0.000000\n",
      "7       Convenience          -0.000000\n",
      "8   Total Bathrooms           0.000000\n"
     ]
    }
   ],
   "source": [
    "coef_df = pd.DataFrame({\n",
    "    'Feature': all_feature_names,\n",
    "    'Coefficient (MLE)': coefficients\n",
    "})\n",
    "intercept_row = pd.DataFrame({'Feature': ['Intercept'], 'Coefficient (MLE)': [intercept]})\n",
    "coef_df = pd.concat([coef_df, intercept_row], ignore_index=True)\n",
    "\n",
    "coef_df['Absolute Coefficient'] = coef_df['Coefficient (MLE)']  # Create a new column for absolute values\n",
    "coef_df = coef_df.sort_values(by='Absolute Coefficient', ascending=False).drop(columns='Absolute Coefficient')  # Sort and drop the temporary column\n",
    "\n",
    "# Display the coefficients with feature names sorted\n",
    "print(coef_df)"
   ]
  },
  {
   "cell_type": "code",
   "execution_count": 264,
   "id": "7f69d264-8dc7-4365-a59f-b473ddaf22f1",
   "metadata": {},
   "outputs": [
    {
     "data": {
      "image/png": "[encoded data removed]",
      "text/plain": [
       "<Figure size 1000x600 with 1 Axes>"
      ]
     },
     "metadata": {},
     "output_type": "display_data"
    }
   ],
   "source": [
    "# Define the range of alpha values (regularization strength)\n",
    "alphas = np.logspace(-3, 3, 100)  # Try values from 0.001 to 100 on a log scale\n",
    "\n",
    "# Scale the features if needed\n",
    "scaler = StandardScaler()\n",
    "X_scaled = transformed_df\n",
    "\n",
    "# Initialize an empty array to store coefficients\n",
    "coefs = []\n",
    "\n",
    "# For each alpha, fit Lasso and store the coefficients\n",
    "for alpha in alphas:\n",
    "    lasso = Lasso(alpha=alpha, max_iter=10000)\n",
    "    lasso.fit(X_scaled, y)\n",
    "    coefs.append(lasso.coef_)\n",
    "\n",
    "# Convert coefficients list to a numpy array for plotting\n",
    "coefs = np.array(coefs)\n",
    "\n",
    "# Plot the regularization path\n",
    "plt.figure(figsize=(10, 6))\n",
    "\n",
    "# Plot each feature’s coefficient path\n",
    "for i, feature in enumerate(['Living Area(SQF)', 'Convenience', 'Supercenter', 'Supermarket', 'Variety Store', 'Wholesale']):\n",
    "    plt.plot(alphas, coefs[:, i], label=feature)\n",
    "\n",
    "# Set up plot details\n",
    "plt.xlabel(\"Alpha (Regularization Strength)\")\n",
    "plt.ylabel(\"Coefficient Value\")\n",
    "plt.title(\"Lasso Paths Showing Shrinkage of Coefficients for Distance\")\n",
    "plt.legend()\n",
    "plt.xscale(\"log\")  # Use a log scale for alpha\n",
    "plt.grid(True)\n",
    "plt.show()"
   ]
  },
  {
   "cell_type": "code",
   "execution_count": null,
   "id": "4930bb82-69aa-4be3-ad14-dd662f093a68",
   "metadata": {},
   "outputs": [],
   "source": []
  }
 ],
 "metadata": {
  "kernelspec": {
   "display_name": "Python 3 (ipykernel)",
   "language": "python",
   "name": "python3"
  },
  "language_info": {
   "codemirror_mode": {
    "name": "ipython",
    "version": 3
   },
   "file_extension": ".py",
   "mimetype": "text/x-python",
   "name": "python",
   "nbconvert_exporter": "python",
   "pygments_lexer": "ipython3",
   "version": "3.11.7"
  }
 },
 "nbformat": 4,
 "nbformat_minor": 5
}
