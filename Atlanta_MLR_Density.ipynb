{
 "cells": [
  {
   "cell_type": "code",
   "execution_count": 115,
   "id": "059ce840-7a4d-4634-ad62-2baa9e6df121",
   "metadata": {},
   "outputs": [
    {
     "data": {
      "text/html": [
       "<div>\n",
       "<style scoped>\n",
       "    .dataframe tbody tr th:only-of-type {\n",
       "        vertical-align: middle;\n",
       "    }\n",
       "\n",
       "    .dataframe tbody tr th {\n",
       "        vertical-align: top;\n",
       "    }\n",
       "\n",
       "    .dataframe thead th {\n",
       "        text-align: right;\n",
       "    }\n",
       "</style>\n",
       "<table border=\"1\" class=\"dataframe\">\n",
       "  <thead>\n",
       "    <tr style=\"text-align: right;\">\n",
       "      <th></th>\n",
       "      <th>current_listing_price</th>\n",
       "      <th>Year Built</th>\n",
       "      <th>Total Bedrooms</th>\n",
       "      <th>Living Area(SQF)</th>\n",
       "      <th>Convenience (One Mile)</th>\n",
       "      <th>Supercenter (One Mile)</th>\n",
       "      <th>Supermarket (One Mile)</th>\n",
       "      <th>Variety Store (One Mile)</th>\n",
       "      <th>Wholesale (One Mile)</th>\n",
       "      <th>Total Bathrooms</th>\n",
       "    </tr>\n",
       "  </thead>\n",
       "  <tbody>\n",
       "    <tr>\n",
       "      <th>0</th>\n",
       "      <td>2865</td>\n",
       "      <td>2002</td>\n",
       "      <td>4</td>\n",
       "      <td>3259.0</td>\n",
       "      <td>0</td>\n",
       "      <td>0</td>\n",
       "      <td>0</td>\n",
       "      <td>0</td>\n",
       "      <td>0</td>\n",
       "      <td>2.5</td>\n",
       "    </tr>\n",
       "    <tr>\n",
       "      <th>1</th>\n",
       "      <td>2200</td>\n",
       "      <td>&lt;NA&gt;</td>\n",
       "      <td>3</td>\n",
       "      <td>1993.0</td>\n",
       "      <td>2</td>\n",
       "      <td>1</td>\n",
       "      <td>0</td>\n",
       "      <td>2</td>\n",
       "      <td>0</td>\n",
       "      <td>2.0</td>\n",
       "    </tr>\n",
       "    <tr>\n",
       "      <th>2</th>\n",
       "      <td>2000</td>\n",
       "      <td>&lt;NA&gt;</td>\n",
       "      <td>3</td>\n",
       "      <td>1910.0</td>\n",
       "      <td>0</td>\n",
       "      <td>0</td>\n",
       "      <td>0</td>\n",
       "      <td>0</td>\n",
       "      <td>0</td>\n",
       "      <td>2.0</td>\n",
       "    </tr>\n",
       "    <tr>\n",
       "      <th>3</th>\n",
       "      <td>1995</td>\n",
       "      <td>&lt;NA&gt;</td>\n",
       "      <td>3</td>\n",
       "      <td>1134.0</td>\n",
       "      <td>0</td>\n",
       "      <td>0</td>\n",
       "      <td>0</td>\n",
       "      <td>0</td>\n",
       "      <td>0</td>\n",
       "      <td>1.0</td>\n",
       "    </tr>\n",
       "    <tr>\n",
       "      <th>4</th>\n",
       "      <td>2800</td>\n",
       "      <td>&lt;NA&gt;</td>\n",
       "      <td>4</td>\n",
       "      <td>2532.0</td>\n",
       "      <td>0</td>\n",
       "      <td>0</td>\n",
       "      <td>0</td>\n",
       "      <td>0</td>\n",
       "      <td>0</td>\n",
       "      <td>2.0</td>\n",
       "    </tr>\n",
       "    <tr>\n",
       "      <th>...</th>\n",
       "      <td>...</td>\n",
       "      <td>...</td>\n",
       "      <td>...</td>\n",
       "      <td>...</td>\n",
       "      <td>...</td>\n",
       "      <td>...</td>\n",
       "      <td>...</td>\n",
       "      <td>...</td>\n",
       "      <td>...</td>\n",
       "      <td>...</td>\n",
       "    </tr>\n",
       "    <tr>\n",
       "      <th>21010</th>\n",
       "      <td>1600</td>\n",
       "      <td>&lt;NA&gt;</td>\n",
       "      <td>3</td>\n",
       "      <td>1367.0</td>\n",
       "      <td>0</td>\n",
       "      <td>0</td>\n",
       "      <td>0</td>\n",
       "      <td>0</td>\n",
       "      <td>0</td>\n",
       "      <td>2.0</td>\n",
       "    </tr>\n",
       "    <tr>\n",
       "      <th>21011</th>\n",
       "      <td>2199</td>\n",
       "      <td>&lt;NA&gt;</td>\n",
       "      <td>3</td>\n",
       "      <td>1696.0</td>\n",
       "      <td>1</td>\n",
       "      <td>0</td>\n",
       "      <td>1</td>\n",
       "      <td>0</td>\n",
       "      <td>0</td>\n",
       "      <td>2.5</td>\n",
       "    </tr>\n",
       "    <tr>\n",
       "      <th>21012</th>\n",
       "      <td>2380</td>\n",
       "      <td>2015</td>\n",
       "      <td>3</td>\n",
       "      <td>1944.0</td>\n",
       "      <td>0</td>\n",
       "      <td>1</td>\n",
       "      <td>1</td>\n",
       "      <td>1</td>\n",
       "      <td>1</td>\n",
       "      <td>3.5</td>\n",
       "    </tr>\n",
       "    <tr>\n",
       "      <th>21013</th>\n",
       "      <td>1900</td>\n",
       "      <td>&lt;NA&gt;</td>\n",
       "      <td>4</td>\n",
       "      <td>1204.0</td>\n",
       "      <td>1</td>\n",
       "      <td>0</td>\n",
       "      <td>0</td>\n",
       "      <td>1</td>\n",
       "      <td>0</td>\n",
       "      <td>2.0</td>\n",
       "    </tr>\n",
       "    <tr>\n",
       "      <th>21014</th>\n",
       "      <td>2200</td>\n",
       "      <td>&lt;NA&gt;</td>\n",
       "      <td>3</td>\n",
       "      <td>1900.0</td>\n",
       "      <td>0</td>\n",
       "      <td>0</td>\n",
       "      <td>1</td>\n",
       "      <td>0</td>\n",
       "      <td>0</td>\n",
       "      <td>2.5</td>\n",
       "    </tr>\n",
       "  </tbody>\n",
       "</table>\n",
       "<p>21015 rows × 10 columns</p>\n",
       "</div>"
      ],
      "text/plain": [
       "       current_listing_price  Year Built  Total Bedrooms  Living Area(SQF)  \\\n",
       "0                       2865        2002               4            3259.0   \n",
       "1                       2200        <NA>               3            1993.0   \n",
       "2                       2000        <NA>               3            1910.0   \n",
       "3                       1995        <NA>               3            1134.0   \n",
       "4                       2800        <NA>               4            2532.0   \n",
       "...                      ...         ...             ...               ...   \n",
       "21010                   1600        <NA>               3            1367.0   \n",
       "21011                   2199        <NA>               3            1696.0   \n",
       "21012                   2380        2015               3            1944.0   \n",
       "21013                   1900        <NA>               4            1204.0   \n",
       "21014                   2200        <NA>               3            1900.0   \n",
       "\n",
       "       Convenience (One Mile)  Supercenter (One Mile)  Supermarket (One Mile)  \\\n",
       "0                           0                       0                       0   \n",
       "1                           2                       1                       0   \n",
       "2                           0                       0                       0   \n",
       "3                           0                       0                       0   \n",
       "4                           0                       0                       0   \n",
       "...                       ...                     ...                     ...   \n",
       "21010                       0                       0                       0   \n",
       "21011                       1                       0                       1   \n",
       "21012                       0                       1                       1   \n",
       "21013                       1                       0                       0   \n",
       "21014                       0                       0                       1   \n",
       "\n",
       "       Variety Store (One Mile)  Wholesale (One Mile)  Total Bathrooms  \n",
       "0                             0                     0              2.5  \n",
       "1                             2                     0              2.0  \n",
       "2                             0                     0              2.0  \n",
       "3                             0                     0              1.0  \n",
       "4                             0                     0              2.0  \n",
       "...                         ...                   ...              ...  \n",
       "21010                         0                     0              2.0  \n",
       "21011                         0                     0              2.5  \n",
       "21012                         1                     1              3.5  \n",
       "21013                         1                     0              2.0  \n",
       "21014                         0                     0              2.5  \n",
       "\n",
       "[21015 rows x 10 columns]"
      ]
     },
     "execution_count": 115,
     "metadata": {},
     "output_type": "execute_result"
    }
   ],
   "source": [
    "# Import necessary libraries for preprocessing\n",
    "import pandas as pd\n",
    "import numpy as np\n",
    "from sklearn.pipeline import Pipeline\n",
    "from sklearn.impute import SimpleImputer\n",
    "from sklearn.preprocessing import OrdinalEncoder, OneHotEncoder, FunctionTransformer\n",
    "from sklearn.compose import ColumnTransformer\n",
    "import pandas as pd\n",
    "import numpy as np\n",
    "import matplotlib.pyplot as plt\n",
    "import sklearn.model_selection as ms\n",
    "from sklearn import tree\n",
    "from sklearn.model_selection import GridSearchCV\n",
    "from sklearn import ensemble\n",
    "from sklearn.preprocessing import LabelEncoder\n",
    "from sklearn.preprocessing import OneHotEncoder\n",
    "from sklearn.model_selection import cross_val_score\n",
    "from sklearn.preprocessing import StandardScaler\n",
    "from sklearn.model_selection import KFold\n",
    "\n",
    "# Load the dataset\n",
    "#Atlanta_Distance = pd.read_pickle(r'~/Documents/NYCDSA/Capstone/Pickle Files/Atlanta_Nearest_POI.pkl')\n",
    "Atlanta_Density = pd.read_csv('~/Documents/NYCDSA/Capstone/Density_Atlanta/Density_Atlanta.csv')\n",
    "Atlanta_Density['Total Bathrooms'] = Atlanta_Density['number_of_full_baths'] + (Atlanta_Density['number_of_half_baths']*0.5)\n",
    "Atlanta_Density = Atlanta_Density.drop(columns=['latitude',\n",
    "                                                  'longitude', 'number_of_full_baths', 'number_of_half_baths',\n",
    "                                                  \t'street_address'])\n",
    "Atlanta_Density = Atlanta_Density.rename(columns={'SM_One': 'Supermarket (One Mile)', 'C_One': 'Convenience (One Mile)',\n",
    "'WS_One': 'Wholesale (One Mile)', 'VS_One': 'Variety Store (One Mile)', 'SC_One': 'Supercenter (One Mile)', 'number_of_bedrooms': 'Total Bedrooms', 'living_area_square_feet': 'Living Area(SQF)',\n",
    "                                                   'lot_size_in_square_feet': 'Lot Size(SQF)', 'number_of_garage_spaces': 'Garage Spaces', 'number_of_stories': 'Stories',\n",
    "                                                   'SM_Five': 'Supermarket (Five Miles)', 'C_Five': 'Convenience (Five Miles)', 'year_built': 'Year Built',\n",
    "'WS_Five': 'Wholesale (Five Miles)', 'VS_Five': 'Variety Store (Five Miles)', 'SC_Five': 'Supercenter (Five Miles)',\n",
    "                                                 'WS_Three': 'Wholesale (Three Miles)', 'VS_Three': 'Variety Store (Three Miles)',\n",
    "                                                  'SM_Three': 'Supermarket (Three Miles)', 'SC_Three': 'Supercenter (Three Miles)', 'C_Three': 'Convenience (Three Miles)'})\n",
    "Atlanta_Density['Year Built'] = Atlanta_Density['Year Built'].astype('Int64') #For numerical analysis: Use int or float if there are missing values\n",
    "Atlanta_Density_One = Atlanta_Density.drop(columns=['Wholesale (Five Miles)', 'Variety Store (Five Miles)', 'Supermarket (Five Miles)', 'Supercenter (Five Miles)', 'Convenience (Five Miles)',\n",
    "                                                   'Wholesale (Three Miles)','Variety Store (Three Miles)','Supermarket (Three Miles)', 'Supercenter (Three Miles)','Convenience (Three Miles)'])\n",
    "Atlanta_Density_One"
   ]
  },
  {
   "cell_type": "code",
   "execution_count": 116,
   "id": "663bebd9-7343-4227-b694-0172ed8b9227",
   "metadata": {},
   "outputs": [],
   "source": [
    "# Exclude 'current_listing_price' from features\n",
    "numeric_features = Atlanta_Density_One.select_dtypes(include=['int64', 'float64']).drop(columns=['current_listing_price']).columns\n",
    "#categorical_features = list(Atlanta_Distance.columns[Atlanta_Distance.dtypes == 'object'])"
   ]
  },
  {
   "cell_type": "code",
   "execution_count": 117,
   "id": "c84cfd6e-6532-43ed-a2bd-1564b05cd85b",
   "metadata": {},
   "outputs": [],
   "source": [
    "# Helper function to fill 'None' for missing categorical data\n",
    "def fill_none(X):\n",
    "    return X.fillna(\"None\")\n",
    "\n",
    "# Pipeline for numeric features: Impute missing values using mean\n",
    "numeric_transformer = Pipeline(steps=[\n",
    "    ('impute_mean', SimpleImputer(strategy='mean')),\n",
    "    ('scaler', StandardScaler())\n",
    "])\n",
    "\n",
    "# Pipeline for nominal categorical features: Fill missing values with 'None' then apply one-hot encoding\n",
    "#categorical_transformer = Pipeline(steps=[\n",
    "    #('impute_none', SimpleImputer(strategy='constant', fill_value='None')),  # Using SimpleImputer\n",
    "    #('onehot', OneHotEncoder(handle_unknown='ignore'))\n",
    "#])\n",
    "\n",
    "# Combined preprocessor for numeric and nominal\n",
    "preprocessor = ColumnTransformer(\n",
    "    transformers=[\n",
    "        ('num', numeric_transformer, numeric_features),\n",
    "        #('nominal', categorical_transformer, categorical_features)\n",
    "])\n",
    "\n",
    "transformed_data = preprocessor.fit_transform(Atlanta_Density_One)"
   ]
  },
  {
   "cell_type": "code",
   "execution_count": 118,
   "id": "60041efd-1033-4b9a-8e8e-4a552f0ee6fe",
   "metadata": {},
   "outputs": [
    {
     "data": {
      "text/plain": [
       "['Year Built',\n",
       " 'Total Bedrooms',\n",
       " 'Living Area(SQF)',\n",
       " 'Convenience (One Mile)',\n",
       " 'Supercenter (One Mile)',\n",
       " 'Supermarket (One Mile)',\n",
       " 'Variety Store (One Mile)',\n",
       " 'Wholesale (One Mile)',\n",
       " 'Total Bathrooms']"
      ]
     },
     "execution_count": 118,
     "metadata": {},
     "output_type": "execute_result"
    }
   ],
   "source": [
    "# Generate column names for the one-hot encoded features\n",
    "#onehot_features = preprocessor.named_transformers_['nominal'].named_steps['onehot'].get_feature_names_out()\n",
    "# Combine all feature names\n",
    "all_feature_names = list(numeric_features)\n",
    "all_feature_names"
   ]
  },
  {
   "cell_type": "code",
   "execution_count": 119,
   "id": "df757650-c33c-4d9c-91e6-3aca7e54b5b6",
   "metadata": {},
   "outputs": [
    {
     "data": {
      "text/html": [
       "<div>\n",
       "<style scoped>\n",
       "    .dataframe tbody tr th:only-of-type {\n",
       "        vertical-align: middle;\n",
       "    }\n",
       "\n",
       "    .dataframe tbody tr th {\n",
       "        vertical-align: top;\n",
       "    }\n",
       "\n",
       "    .dataframe thead th {\n",
       "        text-align: right;\n",
       "    }\n",
       "</style>\n",
       "<table border=\"1\" class=\"dataframe\">\n",
       "  <thead>\n",
       "    <tr style=\"text-align: right;\">\n",
       "      <th></th>\n",
       "      <th>Year Built</th>\n",
       "      <th>Total Bedrooms</th>\n",
       "      <th>Living Area(SQF)</th>\n",
       "      <th>Convenience (One Mile)</th>\n",
       "      <th>Supercenter (One Mile)</th>\n",
       "      <th>Supermarket (One Mile)</th>\n",
       "      <th>Variety Store (One Mile)</th>\n",
       "      <th>Wholesale (One Mile)</th>\n",
       "      <th>Total Bathrooms</th>\n",
       "    </tr>\n",
       "  </thead>\n",
       "  <tbody>\n",
       "    <tr>\n",
       "      <th>0</th>\n",
       "      <td>5.031097e-01</td>\n",
       "      <td>0.641662</td>\n",
       "      <td>1.314310</td>\n",
       "      <td>-0.376706</td>\n",
       "      <td>-0.229536</td>\n",
       "      <td>-0.527769</td>\n",
       "      <td>-0.411410</td>\n",
       "      <td>-0.093726</td>\n",
       "      <td>0.177326</td>\n",
       "    </tr>\n",
       "    <tr>\n",
       "      <th>1</th>\n",
       "      <td>-1.091762e-14</td>\n",
       "      <td>-0.459475</td>\n",
       "      <td>0.111774</td>\n",
       "      <td>1.973794</td>\n",
       "      <td>3.756991</td>\n",
       "      <td>-0.527769</td>\n",
       "      <td>2.856081</td>\n",
       "      <td>-0.093726</td>\n",
       "      <td>-0.475680</td>\n",
       "    </tr>\n",
       "    <tr>\n",
       "      <th>2</th>\n",
       "      <td>-1.091762e-14</td>\n",
       "      <td>-0.459475</td>\n",
       "      <td>0.032935</td>\n",
       "      <td>-0.376706</td>\n",
       "      <td>-0.229536</td>\n",
       "      <td>-0.527769</td>\n",
       "      <td>-0.411410</td>\n",
       "      <td>-0.093726</td>\n",
       "      <td>-0.475680</td>\n",
       "    </tr>\n",
       "    <tr>\n",
       "      <th>3</th>\n",
       "      <td>-1.091762e-14</td>\n",
       "      <td>-0.459475</td>\n",
       "      <td>-0.704165</td>\n",
       "      <td>-0.376706</td>\n",
       "      <td>-0.229536</td>\n",
       "      <td>-0.527769</td>\n",
       "      <td>-0.411410</td>\n",
       "      <td>-0.093726</td>\n",
       "      <td>-1.781691</td>\n",
       "    </tr>\n",
       "    <tr>\n",
       "      <th>4</th>\n",
       "      <td>-1.091762e-14</td>\n",
       "      <td>0.641662</td>\n",
       "      <td>0.623754</td>\n",
       "      <td>-0.376706</td>\n",
       "      <td>-0.229536</td>\n",
       "      <td>-0.527769</td>\n",
       "      <td>-0.411410</td>\n",
       "      <td>-0.093726</td>\n",
       "      <td>-0.475680</td>\n",
       "    </tr>\n",
       "    <tr>\n",
       "      <th>...</th>\n",
       "      <td>...</td>\n",
       "      <td>...</td>\n",
       "      <td>...</td>\n",
       "      <td>...</td>\n",
       "      <td>...</td>\n",
       "      <td>...</td>\n",
       "      <td>...</td>\n",
       "      <td>...</td>\n",
       "      <td>...</td>\n",
       "    </tr>\n",
       "    <tr>\n",
       "      <th>21010</th>\n",
       "      <td>-1.091762e-14</td>\n",
       "      <td>-0.459475</td>\n",
       "      <td>-0.482845</td>\n",
       "      <td>-0.376706</td>\n",
       "      <td>-0.229536</td>\n",
       "      <td>-0.527769</td>\n",
       "      <td>-0.411410</td>\n",
       "      <td>-0.093726</td>\n",
       "      <td>-0.475680</td>\n",
       "    </tr>\n",
       "    <tr>\n",
       "      <th>21011</th>\n",
       "      <td>-1.091762e-14</td>\n",
       "      <td>-0.459475</td>\n",
       "      <td>-0.170338</td>\n",
       "      <td>0.798544</td>\n",
       "      <td>-0.229536</td>\n",
       "      <td>0.857576</td>\n",
       "      <td>-0.411410</td>\n",
       "      <td>-0.093726</td>\n",
       "      <td>0.177326</td>\n",
       "    </tr>\n",
       "    <tr>\n",
       "      <th>21012</th>\n",
       "      <td>1.127320e+00</td>\n",
       "      <td>-0.459475</td>\n",
       "      <td>0.065230</td>\n",
       "      <td>-0.376706</td>\n",
       "      <td>3.756991</td>\n",
       "      <td>0.857576</td>\n",
       "      <td>1.222336</td>\n",
       "      <td>10.669399</td>\n",
       "      <td>1.483337</td>\n",
       "    </tr>\n",
       "    <tr>\n",
       "      <th>21013</th>\n",
       "      <td>-1.091762e-14</td>\n",
       "      <td>0.641662</td>\n",
       "      <td>-0.637674</td>\n",
       "      <td>0.798544</td>\n",
       "      <td>-0.229536</td>\n",
       "      <td>-0.527769</td>\n",
       "      <td>1.222336</td>\n",
       "      <td>-0.093726</td>\n",
       "      <td>-0.475680</td>\n",
       "    </tr>\n",
       "    <tr>\n",
       "      <th>21014</th>\n",
       "      <td>-1.091762e-14</td>\n",
       "      <td>-0.459475</td>\n",
       "      <td>0.023436</td>\n",
       "      <td>-0.376706</td>\n",
       "      <td>-0.229536</td>\n",
       "      <td>0.857576</td>\n",
       "      <td>-0.411410</td>\n",
       "      <td>-0.093726</td>\n",
       "      <td>0.177326</td>\n",
       "    </tr>\n",
       "  </tbody>\n",
       "</table>\n",
       "<p>21015 rows × 9 columns</p>\n",
       "</div>"
      ],
      "text/plain": [
       "         Year Built  Total Bedrooms  Living Area(SQF)  Convenience (One Mile)  \\\n",
       "0      5.031097e-01        0.641662          1.314310               -0.376706   \n",
       "1     -1.091762e-14       -0.459475          0.111774                1.973794   \n",
       "2     -1.091762e-14       -0.459475          0.032935               -0.376706   \n",
       "3     -1.091762e-14       -0.459475         -0.704165               -0.376706   \n",
       "4     -1.091762e-14        0.641662          0.623754               -0.376706   \n",
       "...             ...             ...               ...                     ...   \n",
       "21010 -1.091762e-14       -0.459475         -0.482845               -0.376706   \n",
       "21011 -1.091762e-14       -0.459475         -0.170338                0.798544   \n",
       "21012  1.127320e+00       -0.459475          0.065230               -0.376706   \n",
       "21013 -1.091762e-14        0.641662         -0.637674                0.798544   \n",
       "21014 -1.091762e-14       -0.459475          0.023436               -0.376706   \n",
       "\n",
       "       Supercenter (One Mile)  Supermarket (One Mile)  \\\n",
       "0                   -0.229536               -0.527769   \n",
       "1                    3.756991               -0.527769   \n",
       "2                   -0.229536               -0.527769   \n",
       "3                   -0.229536               -0.527769   \n",
       "4                   -0.229536               -0.527769   \n",
       "...                       ...                     ...   \n",
       "21010               -0.229536               -0.527769   \n",
       "21011               -0.229536                0.857576   \n",
       "21012                3.756991                0.857576   \n",
       "21013               -0.229536               -0.527769   \n",
       "21014               -0.229536                0.857576   \n",
       "\n",
       "       Variety Store (One Mile)  Wholesale (One Mile)  Total Bathrooms  \n",
       "0                     -0.411410             -0.093726         0.177326  \n",
       "1                      2.856081             -0.093726        -0.475680  \n",
       "2                     -0.411410             -0.093726        -0.475680  \n",
       "3                     -0.411410             -0.093726        -1.781691  \n",
       "4                     -0.411410             -0.093726        -0.475680  \n",
       "...                         ...                   ...              ...  \n",
       "21010                 -0.411410             -0.093726        -0.475680  \n",
       "21011                 -0.411410             -0.093726         0.177326  \n",
       "21012                  1.222336             10.669399         1.483337  \n",
       "21013                  1.222336             -0.093726        -0.475680  \n",
       "21014                 -0.411410             -0.093726         0.177326  \n",
       "\n",
       "[21015 rows x 9 columns]"
      ]
     },
     "execution_count": 119,
     "metadata": {},
     "output_type": "execute_result"
    }
   ],
   "source": [
    "transformed_df = pd.DataFrame(transformed_data, columns=all_feature_names)\n",
    "transformed_df"
   ]
  },
  {
   "cell_type": "code",
   "execution_count": 120,
   "id": "ca8b24da-0f17-4a9b-a002-dd6dc30bc5bb",
   "metadata": {},
   "outputs": [
    {
     "data": {
      "text/html": [
       "<style>#sk-container-id-13 {color: black;background-color: white;}#sk-container-id-13 pre{padding: 0;}#sk-container-id-13 div.sk-toggleable {background-color: white;}#sk-container-id-13 label.sk-toggleable__label {cursor: pointer;display: block;width: 100%;margin-bottom: 0;padding: 0.3em;box-sizing: border-box;text-align: center;}#sk-container-id-13 label.sk-toggleable__label-arrow:before {content: \"▸\";float: left;margin-right: 0.25em;color: #696969;}#sk-container-id-13 label.sk-toggleable__label-arrow:hover:before {color: black;}#sk-container-id-13 div.sk-estimator:hover label.sk-toggleable__label-arrow:before {color: black;}#sk-container-id-13 div.sk-toggleable__content {max-height: 0;max-width: 0;overflow: hidden;text-align: left;background-color: #f0f8ff;}#sk-container-id-13 div.sk-toggleable__content pre {margin: 0.2em;color: black;border-radius: 0.25em;background-color: #f0f8ff;}#sk-container-id-13 input.sk-toggleable__control:checked~div.sk-toggleable__content {max-height: 200px;max-width: 100%;overflow: auto;}#sk-container-id-13 input.sk-toggleable__control:checked~label.sk-toggleable__label-arrow:before {content: \"▾\";}#sk-container-id-13 div.sk-estimator input.sk-toggleable__control:checked~label.sk-toggleable__label {background-color: #d4ebff;}#sk-container-id-13 div.sk-label input.sk-toggleable__control:checked~label.sk-toggleable__label {background-color: #d4ebff;}#sk-container-id-13 input.sk-hidden--visually {border: 0;clip: rect(1px 1px 1px 1px);clip: rect(1px, 1px, 1px, 1px);height: 1px;margin: -1px;overflow: hidden;padding: 0;position: absolute;width: 1px;}#sk-container-id-13 div.sk-estimator {font-family: monospace;background-color: #f0f8ff;border: 1px dotted black;border-radius: 0.25em;box-sizing: border-box;margin-bottom: 0.5em;}#sk-container-id-13 div.sk-estimator:hover {background-color: #d4ebff;}#sk-container-id-13 div.sk-parallel-item::after {content: \"\";width: 100%;border-bottom: 1px solid gray;flex-grow: 1;}#sk-container-id-13 div.sk-label:hover label.sk-toggleable__label {background-color: #d4ebff;}#sk-container-id-13 div.sk-serial::before {content: \"\";position: absolute;border-left: 1px solid gray;box-sizing: border-box;top: 0;bottom: 0;left: 50%;z-index: 0;}#sk-container-id-13 div.sk-serial {display: flex;flex-direction: column;align-items: center;background-color: white;padding-right: 0.2em;padding-left: 0.2em;position: relative;}#sk-container-id-13 div.sk-item {position: relative;z-index: 1;}#sk-container-id-13 div.sk-parallel {display: flex;align-items: stretch;justify-content: center;background-color: white;position: relative;}#sk-container-id-13 div.sk-item::before, #sk-container-id-13 div.sk-parallel-item::before {content: \"\";position: absolute;border-left: 1px solid gray;box-sizing: border-box;top: 0;bottom: 0;left: 50%;z-index: -1;}#sk-container-id-13 div.sk-parallel-item {display: flex;flex-direction: column;z-index: 1;position: relative;background-color: white;}#sk-container-id-13 div.sk-parallel-item:first-child::after {align-self: flex-end;width: 50%;}#sk-container-id-13 div.sk-parallel-item:last-child::after {align-self: flex-start;width: 50%;}#sk-container-id-13 div.sk-parallel-item:only-child::after {width: 0;}#sk-container-id-13 div.sk-dashed-wrapped {border: 1px dashed gray;margin: 0 0.4em 0.5em 0.4em;box-sizing: border-box;padding-bottom: 0.4em;background-color: white;}#sk-container-id-13 div.sk-label label {font-family: monospace;font-weight: bold;display: inline-block;line-height: 1.2em;}#sk-container-id-13 div.sk-label-container {text-align: center;}#sk-container-id-13 div.sk-container {/* jupyter's `normalize.less` sets `[hidden] { display: none; }` but bootstrap.min.css set `[hidden] { display: none !important; }` so we also need the `!important` here to be able to override the default hidden behavior on the sphinx rendered scikit-learn.org. See: https://github.com/scikit-learn/scikit-learn/issues/21755 */display: inline-block !important;position: relative;}#sk-container-id-13 div.sk-text-repr-fallback {display: none;}</style><div id=\"sk-container-id-13\" class=\"sk-top-container\"><div class=\"sk-text-repr-fallback\"><pre>Pipeline(steps=[(&#x27;preprocessor&#x27;,\n",
       "                 ColumnTransformer(transformers=[(&#x27;num&#x27;,\n",
       "                                                  Pipeline(steps=[(&#x27;impute_mean&#x27;,\n",
       "                                                                   SimpleImputer()),\n",
       "                                                                  (&#x27;scaler&#x27;,\n",
       "                                                                   StandardScaler())]),\n",
       "                                                  Index([&#x27;Year Built&#x27;, &#x27;Total Bedrooms&#x27;, &#x27;Living Area(SQF)&#x27;,\n",
       "       &#x27;Convenience (One Mile)&#x27;, &#x27;Supercenter (One Mile)&#x27;,\n",
       "       &#x27;Supermarket (One Mile)&#x27;, &#x27;Variety Store (One Mile)&#x27;,\n",
       "       &#x27;Wholesale (One Mile)&#x27;, &#x27;Total Bathrooms&#x27;],\n",
       "      dtype=&#x27;object&#x27;))])),\n",
       "                (&#x27;regressor&#x27;, LinearRegression())])</pre><b>In a Jupyter environment, please rerun this cell to show the HTML representation or trust the notebook. <br />On GitHub, the HTML representation is unable to render, please try loading this page with nbviewer.org.</b></div><div class=\"sk-container\" hidden><div class=\"sk-item sk-dashed-wrapped\"><div class=\"sk-label-container\"><div class=\"sk-label sk-toggleable\"><input class=\"sk-toggleable__control sk-hidden--visually\" id=\"sk-estimator-id-73\" type=\"checkbox\" ><label for=\"sk-estimator-id-73\" class=\"sk-toggleable__label sk-toggleable__label-arrow\">Pipeline</label><div class=\"sk-toggleable__content\"><pre>Pipeline(steps=[(&#x27;preprocessor&#x27;,\n",
       "                 ColumnTransformer(transformers=[(&#x27;num&#x27;,\n",
       "                                                  Pipeline(steps=[(&#x27;impute_mean&#x27;,\n",
       "                                                                   SimpleImputer()),\n",
       "                                                                  (&#x27;scaler&#x27;,\n",
       "                                                                   StandardScaler())]),\n",
       "                                                  Index([&#x27;Year Built&#x27;, &#x27;Total Bedrooms&#x27;, &#x27;Living Area(SQF)&#x27;,\n",
       "       &#x27;Convenience (One Mile)&#x27;, &#x27;Supercenter (One Mile)&#x27;,\n",
       "       &#x27;Supermarket (One Mile)&#x27;, &#x27;Variety Store (One Mile)&#x27;,\n",
       "       &#x27;Wholesale (One Mile)&#x27;, &#x27;Total Bathrooms&#x27;],\n",
       "      dtype=&#x27;object&#x27;))])),\n",
       "                (&#x27;regressor&#x27;, LinearRegression())])</pre></div></div></div><div class=\"sk-serial\"><div class=\"sk-item sk-dashed-wrapped\"><div class=\"sk-label-container\"><div class=\"sk-label sk-toggleable\"><input class=\"sk-toggleable__control sk-hidden--visually\" id=\"sk-estimator-id-74\" type=\"checkbox\" ><label for=\"sk-estimator-id-74\" class=\"sk-toggleable__label sk-toggleable__label-arrow\">preprocessor: ColumnTransformer</label><div class=\"sk-toggleable__content\"><pre>ColumnTransformer(transformers=[(&#x27;num&#x27;,\n",
       "                                 Pipeline(steps=[(&#x27;impute_mean&#x27;,\n",
       "                                                  SimpleImputer()),\n",
       "                                                 (&#x27;scaler&#x27;, StandardScaler())]),\n",
       "                                 Index([&#x27;Year Built&#x27;, &#x27;Total Bedrooms&#x27;, &#x27;Living Area(SQF)&#x27;,\n",
       "       &#x27;Convenience (One Mile)&#x27;, &#x27;Supercenter (One Mile)&#x27;,\n",
       "       &#x27;Supermarket (One Mile)&#x27;, &#x27;Variety Store (One Mile)&#x27;,\n",
       "       &#x27;Wholesale (One Mile)&#x27;, &#x27;Total Bathrooms&#x27;],\n",
       "      dtype=&#x27;object&#x27;))])</pre></div></div></div><div class=\"sk-parallel\"><div class=\"sk-parallel-item\"><div class=\"sk-item\"><div class=\"sk-label-container\"><div class=\"sk-label sk-toggleable\"><input class=\"sk-toggleable__control sk-hidden--visually\" id=\"sk-estimator-id-75\" type=\"checkbox\" ><label for=\"sk-estimator-id-75\" class=\"sk-toggleable__label sk-toggleable__label-arrow\">num</label><div class=\"sk-toggleable__content\"><pre>Index([&#x27;Year Built&#x27;, &#x27;Total Bedrooms&#x27;, &#x27;Living Area(SQF)&#x27;,\n",
       "       &#x27;Convenience (One Mile)&#x27;, &#x27;Supercenter (One Mile)&#x27;,\n",
       "       &#x27;Supermarket (One Mile)&#x27;, &#x27;Variety Store (One Mile)&#x27;,\n",
       "       &#x27;Wholesale (One Mile)&#x27;, &#x27;Total Bathrooms&#x27;],\n",
       "      dtype=&#x27;object&#x27;)</pre></div></div></div><div class=\"sk-serial\"><div class=\"sk-item\"><div class=\"sk-serial\"><div class=\"sk-item\"><div class=\"sk-estimator sk-toggleable\"><input class=\"sk-toggleable__control sk-hidden--visually\" id=\"sk-estimator-id-76\" type=\"checkbox\" ><label for=\"sk-estimator-id-76\" class=\"sk-toggleable__label sk-toggleable__label-arrow\">SimpleImputer</label><div class=\"sk-toggleable__content\"><pre>SimpleImputer()</pre></div></div></div><div class=\"sk-item\"><div class=\"sk-estimator sk-toggleable\"><input class=\"sk-toggleable__control sk-hidden--visually\" id=\"sk-estimator-id-77\" type=\"checkbox\" ><label for=\"sk-estimator-id-77\" class=\"sk-toggleable__label sk-toggleable__label-arrow\">StandardScaler</label><div class=\"sk-toggleable__content\"><pre>StandardScaler()</pre></div></div></div></div></div></div></div></div></div></div><div class=\"sk-item\"><div class=\"sk-estimator sk-toggleable\"><input class=\"sk-toggleable__control sk-hidden--visually\" id=\"sk-estimator-id-78\" type=\"checkbox\" ><label for=\"sk-estimator-id-78\" class=\"sk-toggleable__label sk-toggleable__label-arrow\">LinearRegression</label><div class=\"sk-toggleable__content\"><pre>LinearRegression()</pre></div></div></div></div></div></div></div>"
      ],
      "text/plain": [
       "Pipeline(steps=[('preprocessor',\n",
       "                 ColumnTransformer(transformers=[('num',\n",
       "                                                  Pipeline(steps=[('impute_mean',\n",
       "                                                                   SimpleImputer()),\n",
       "                                                                  ('scaler',\n",
       "                                                                   StandardScaler())]),\n",
       "                                                  Index(['Year Built', 'Total Bedrooms', 'Living Area(SQF)',\n",
       "       'Convenience (One Mile)', 'Supercenter (One Mile)',\n",
       "       'Supermarket (One Mile)', 'Variety Store (One Mile)',\n",
       "       'Wholesale (One Mile)', 'Total Bathrooms'],\n",
       "      dtype='object'))])),\n",
       "                ('regressor', LinearRegression())])"
      ]
     },
     "execution_count": 120,
     "metadata": {},
     "output_type": "execute_result"
    }
   ],
   "source": [
    "from sklearn.linear_model import LinearRegression\n",
    "from sklearn.model_selection import train_test_split\n",
    "model = LinearRegression()\n",
    "\n",
    "# Target variable\n",
    "y = Atlanta_Density_One['current_listing_price']\n",
    "# All features\n",
    "X = Atlanta_Density_One.drop(columns='current_listing_price')\n",
    "model = LinearRegression()\n",
    "\n",
    "X_train_val, X_test, y_train_val, y_test = train_test_split(X, y, test_size=0.2, random_state=42)\n",
    "X_train, X_val, y_train, y_val = train_test_split(X_train_val, y_train_val, test_size=0.25, random_state=42)\n",
    "\n",
    "y_train_log = np.log1p(y_train)  \n",
    "y_val_log = np.log1p(y_val)\n",
    "y_test_log = np.log1p(y_test)\n",
    "y_combined_log = np.log1p(y_train_val)\n",
    "\n",
    "# Perform the KFold cross-validation\n",
    "pipeline = Pipeline(steps=[\n",
    "    ('preprocessor', preprocessor),\n",
    "    ('regressor', model),\n",
    "])\n",
    "# Initialize the linear regression model\n",
    "# Fit the model on the training data\n",
    "pipeline.fit(X_train, y_train_log)"
   ]
  },
  {
   "cell_type": "code",
   "execution_count": 121,
   "id": "7cab159e-8e57-4a13-a112-285958695e82",
   "metadata": {},
   "outputs": [
    {
     "name": "stdout",
     "output_type": "stream",
     "text": [
      "Validation R^2: 0.3969882772304918\n",
      "Test R^2: 0.31740817092854856\n",
      "Combined R^2: 0.39278703280343485\n"
     ]
    }
   ],
   "source": [
    "val_score = pipeline.score(X_val, y_val_log) #0.6137914878103629\n",
    "print('Validation R^2:', val_score)\n",
    "\n",
    "test_score = pipeline.score(X_test, y_test_log) #0.55202185736604\n",
    "print('Test R^2:', test_score)\n",
    "\n",
    "combined_score = pipeline.score(X_train_val, y_combined_log)\n",
    "print('Combined R^2:', combined_score)"
   ]
  },
  {
   "cell_type": "code",
   "execution_count": 122,
   "id": "add5b7ac-597c-4b77-ba48-b84f91a99085",
   "metadata": {},
   "outputs": [
    {
     "name": "stdout",
     "output_type": "stream",
     "text": [
      "Validation Mean Squared Error: 0.06592076402292156\n",
      "Validation Root Mean Squared Error: 0.25675039244940123\n",
      "Test Mean Squared Error: 0.07683259614269028\n",
      "Test Root Mean Squared Error: 0.2771869335713541\n",
      "Combined Mean Squared Error: 0.06625476570523238\n",
      "Combined Root Mean Squared Error: 0.2574000110824247\n"
     ]
    }
   ],
   "source": [
    "from sklearn.metrics import mean_squared_error \n",
    "y_val_pred = pipeline.predict(X_val)\n",
    "\n",
    "val_mse = mean_squared_error(y_val_log, y_val_pred)\n",
    "print('Validation Mean Squared Error:', val_mse)\n",
    "val_rmse = np.sqrt(val_mse)\n",
    "print(\"Validation Root Mean Squared Error:\", val_rmse)\n",
    "\n",
    "y_test_pred = pipeline.predict(X_test)\n",
    "\n",
    "test_mse = mean_squared_error(y_test_log, y_test_pred)\n",
    "print('Test Mean Squared Error:', test_mse)\n",
    "test_rmse = np.sqrt(test_mse)\n",
    "print(\"Test Root Mean Squared Error:\", test_rmse)\n",
    "\n",
    "y_combined_pred = pipeline.predict(X_train_val)\n",
    "\n",
    "combined_mse = mean_squared_error(y_combined_log, y_combined_pred)\n",
    "print('Combined Mean Squared Error:', combined_mse)\n",
    "combined_rmse = np.sqrt(combined_mse)\n",
    "print(\"Combined Root Mean Squared Error:\", combined_rmse)"
   ]
  },
  {
   "cell_type": "code",
   "execution_count": 123,
   "id": "cebd8f66-b171-4160-a2c1-14d507a2f50d",
   "metadata": {},
   "outputs": [
    {
     "name": "stdout",
     "output_type": "stream",
     "text": [
      "Validation Mean Absolute Percentage Error (MAPE): 2.2723846857408057\n",
      "Test Mean Absolute Percentage Error (MAPE): 2.326816471699822\n",
      "Combined Mean Absolute Percentage Error (MAPE): 2.301276209958667\n"
     ]
    }
   ],
   "source": [
    "def calculate_mape(actual, predicted):\n",
    "    actual, predicted = np.array(actual), np.array(predicted)\n",
    "    mape = np.mean(np.abs((actual - predicted) / actual)) * 100\n",
    "    return mape\n",
    "\n",
    "val_mape = calculate_mape(y_val_log, y_val_pred)\n",
    "test_mape = calculate_mape(y_test_log, y_test_pred)\n",
    "combined_mape = calculate_mape(y_combined_log, y_combined_pred)\n",
    "\n",
    "print(\"Validation Mean Absolute Percentage Error (MAPE):\", val_mape)\n",
    "print(\"Test Mean Absolute Percentage Error (MAPE):\", test_mape)\n",
    "print(\"Combined Mean Absolute Percentage Error (MAPE):\", combined_mape)"
   ]
  },
  {
   "cell_type": "code",
   "execution_count": 128,
   "id": "ae18e057-63c6-4a1c-a72a-be78d3c067f9",
   "metadata": {},
   "outputs": [
    {
     "name": "stdout",
     "output_type": "stream",
     "text": [
      "Coefficients One Mile (MLE): [ 0.00194896  0.06185909  0.07552861  0.04326296 -0.001067    0.04481717\n",
      " -0.0123856   0.0067574   0.10354858]\n",
      "Intercept (MLE): 7.669291945520549\n"
     ]
    }
   ],
   "source": [
    "coefficients = pipeline.named_steps['regressor'].coef_\n",
    "intercept = pipeline.named_steps['regressor'].intercept_\n",
    "\n",
    "# Display the coefficients\n",
    "print(\"Coefficients One Mile (MLE):\", coefficients)\n",
    "print(\"Intercept (MLE):\", intercept)"
   ]
  },
  {
   "cell_type": "code",
   "execution_count": 129,
   "id": "86fd9c50-aa4a-4d69-ad7c-f30b760a5f89",
   "metadata": {},
   "outputs": [
    {
     "name": "stdout",
     "output_type": "stream",
     "text": [
      "                    Feature  Coefficient One Mile (MLE)\n",
      "9                 Intercept                    7.669292\n",
      "8           Total Bathrooms                    0.103549\n",
      "2          Living Area(SQF)                    0.075529\n",
      "1            Total Bedrooms                    0.061859\n",
      "5    Supermarket (One Mile)                    0.044817\n",
      "3    Convenience (One Mile)                    0.043263\n",
      "7      Wholesale (One Mile)                    0.006757\n",
      "0                Year Built                    0.001949\n",
      "4    Supercenter (One Mile)                   -0.001067\n",
      "6  Variety Store (One Mile)                   -0.012386\n"
     ]
    }
   ],
   "source": [
    "coef_df = pd.DataFrame({\n",
    "    'Feature': all_feature_names,\n",
    "    'Coefficient One Mile (MLE)': coefficients\n",
    "})\n",
    "intercept_row = pd.DataFrame({'Feature': ['Intercept'], 'Coefficient One Mile (MLE)': [intercept]})\n",
    "coef_df = pd.concat([coef_df, intercept_row], ignore_index=True)\n",
    "\n",
    "coef_df['Absolute Coefficient'] = coef_df['Coefficient One Mile (MLE)']  # Create a new column for absolute values\n",
    "coef_df = coef_df.sort_values(by='Absolute Coefficient', ascending=False).drop(columns='Absolute Coefficient')  # Sort and drop the temporary column\n",
    "\n",
    "# Display the coefficients with feature names sorted\n",
    "print(coef_df)"
   ]
  },
  {
   "cell_type": "code",
   "execution_count": 130,
   "id": "6ed10612-084f-49e2-a90e-40ce1f9f53db",
   "metadata": {},
   "outputs": [
    {
     "name": "stdout",
     "output_type": "stream",
     "text": [
      "Fitting 10 folds for each of 1 candidates, totalling 10 fits\n",
      "Best parameters: {'regressor__alpha': 100}\n",
      "Best R^2: 0.3874784460318387\n"
     ]
    }
   ],
   "source": [
    "from sklearn.linear_model import Ridge\n",
    "ridge_model = Ridge(random_state=42)\n",
    "param = {\n",
    "    'regressor__alpha': [100]\n",
    "}\n",
    "ridge_pipeline = Pipeline(steps=[\n",
    "    ('preprocessor', preprocessor),\n",
    "    ('regressor', ridge_model),\n",
    "])\n",
    "ridge_search = GridSearchCV(\n",
    "    estimator=ridge_pipeline,\n",
    "    param_grid=param,\n",
    "    scoring=['r2', 'neg_mean_squared_error', 'neg_mean_absolute_percentage_error', 'neg_root_mean_squared_error'],\n",
    "    refit='r2', \n",
    "    cv=10,  # Number of cross-validation folds\n",
    "    n_jobs=-1,  # Use all available cores\n",
    "    verbose=2,\n",
    ")\n",
    "\n",
    "# Fit RandomizedSearchCV\n",
    "ridge_search.fit(X_train, y_train_log)\n",
    "ridge_pipeline.fit(X_train, y_train_log)\n",
    "print(\"Best parameters:\", ridge_search.best_params_)\n",
    "print(\"Best R^2:\", ridge_search.best_score_)"
   ]
  },
  {
   "cell_type": "code",
   "execution_count": 131,
   "id": "1697f506-b1c6-4e98-b2d6-aa2c5cb3e786",
   "metadata": {},
   "outputs": [
    {
     "name": "stdout",
     "output_type": "stream",
     "text": [
      "Mean MSE scores: [0.06670415]\n",
      "Mean MAPE scores: [0.02314078]\n",
      "Mean R^2 scores: [0.38747845]\n",
      "Mean RMSE scores: [0.2581077]\n"
     ]
    }
   ],
   "source": [
    "best_model = ridge_search.best_estimator_\n",
    "results = ridge_search.cv_results_\n",
    "mean_r2_scores = results['mean_test_r2']\n",
    "mean_mse_scores = -results['mean_test_neg_mean_squared_error']\n",
    "mean_mape_scores = -results['mean_test_neg_mean_absolute_percentage_error']\n",
    "mean_RMSE_scores = -results['mean_test_neg_root_mean_squared_error']\n",
    "\n",
    "print(\"Mean MSE scores:\", mean_mse_scores)\n",
    "print(\"Mean MAPE scores:\", mean_mape_scores)\n",
    "print(\"Mean R^2 scores:\", mean_r2_scores)\n",
    "print(\"Mean RMSE scores:\", mean_RMSE_scores)"
   ]
  },
  {
   "cell_type": "code",
   "execution_count": 132,
   "id": "ef0202d3-8cfa-464e-af55-1d83afab8bd9",
   "metadata": {},
   "outputs": [],
   "source": [
    "from sklearn.metrics import mean_squared_error, mean_absolute_percentage_error, r2_score, mean_squared_error\n",
    "def calculate_scores(y_true, y_pred):\n",
    "    r2 = r2_score(y_true, y_pred)\n",
    "    mse = mean_squared_error(y_true, y_pred)\n",
    "    mape = mean_absolute_percentage_error(y_true, y_pred)\n",
    "    rmse = mean_squared_error(y_true, y_pred, squared=False)\n",
    "    return r2, mse, mape, rmse"
   ]
  },
  {
   "cell_type": "code",
   "execution_count": 133,
   "id": "657799b5-baa8-495b-aab7-9c30e2403cc9",
   "metadata": {},
   "outputs": [
    {
     "name": "stdout",
     "output_type": "stream",
     "text": [
      "Tuned Validation Set Scores:\n",
      "R²: 0.3969\n",
      "MSE: 0.0659\n",
      "MAPE: 0.0227\n",
      "RMSE: 0.2568\n",
      "\n",
      "Tuned Test Set Scores:\n",
      "R²: 0.3178\n",
      "MSE: 0.0768\n",
      "MAPE: 0.0233\n",
      "RMSE: 0.2771\n",
      "\n",
      "Tuned Train-Val Set Scores:\n",
      "R²: 0.3927\n",
      "MSE: 0.0663\n",
      "MAPE: 0.0230\n",
      "RMSE: 0.2574\n"
     ]
    }
   ],
   "source": [
    "y_val_pred_tuned = best_model.predict(X_val)\n",
    "val_scores = calculate_scores(y_val_log, y_val_pred_tuned)\n",
    "\n",
    "y_test_pred_tuned = best_model.predict(X_test)\n",
    "test_scores = calculate_scores(y_test_log, y_test_pred_tuned)\n",
    "\n",
    "y_combined_pred_tuned = best_model.predict(X_train_val)\n",
    "combined_scores = calculate_scores(y_combined_log, y_combined_pred_tuned)\n",
    "\n",
    "print(\"Tuned Validation Set Scores:\")\n",
    "print(f\"R²: {val_scores[0]:.4f}\")\n",
    "print(f\"MSE: {val_scores[1]:.4f}\")\n",
    "print(f\"MAPE: {val_scores[2]:.4f}\")\n",
    "print(f\"RMSE: {val_scores[3]:.4f}\")\n",
    "\n",
    "print(\"\\nTuned Test Set Scores:\")\n",
    "print(f\"R²: {test_scores[0]:.4f}\")\n",
    "print(f\"MSE: {test_scores[1]:.4f}\")\n",
    "print(f\"MAPE: {test_scores[2]:.4f}\")\n",
    "print(f\"RMSE: {test_scores[3]:.4f}\")\n",
    "\n",
    "print(\"\\nTuned Train-Val Set Scores:\")\n",
    "print(f\"R²: {combined_scores[0]:.4f}\")\n",
    "print(f\"MSE: {combined_scores[1]:.4f}\")\n",
    "print(f\"MAPE: {combined_scores[2]:.4f}\")\n",
    "print(f\"RMSE: {combined_scores[3]:.4f}\")"
   ]
  },
  {
   "cell_type": "code",
   "execution_count": 71,
   "id": "3e531dcb-108e-49c2-8180-0139147b092b",
   "metadata": {},
   "outputs": [],
   "source": [
    "coefficients = ridge_pipeline.named_steps['regressor'].coef_\n",
    "intercept = ridge_pipeline.named_steps['regressor'].intercept_"
   ]
  },
  {
   "cell_type": "code",
   "execution_count": 134,
   "id": "cc483cb6-1f3f-48fb-909f-842fedd9325e",
   "metadata": {},
   "outputs": [
    {
     "name": "stdout",
     "output_type": "stream",
     "text": [
      "                    Feature  Coefficient One Mile (MLE)\n",
      "9                 Intercept                    7.669292\n",
      "8           Total Bathrooms                    0.103549\n",
      "2          Living Area(SQF)                    0.075529\n",
      "1            Total Bedrooms                    0.061859\n",
      "5    Supermarket (One Mile)                    0.044817\n",
      "3    Convenience (One Mile)                    0.043263\n",
      "7      Wholesale (One Mile)                    0.006757\n",
      "0                Year Built                    0.001949\n",
      "4    Supercenter (One Mile)                   -0.001067\n",
      "6  Variety Store (One Mile)                   -0.012386\n"
     ]
    }
   ],
   "source": [
    "coef_df_ridge = pd.DataFrame({\n",
    "    'Feature': all_feature_names,\n",
    "    'Coefficient One Mile (MLE)': coefficients\n",
    "})\n",
    "\n",
    "#Add intercept row\n",
    "intercept_row = pd.DataFrame({'Feature': ['Intercept'], 'Coefficient One Mile (MLE)': [intercept]})\n",
    "coef_df_ridge = pd.concat([coef_df_ridge, intercept_row], ignore_index=True)\n",
    "\n",
    "# Sort the coefficients by absolute value in descending order\n",
    "coef_df_ridge['Absolute Coefficient'] = coef_df_ridge['Coefficient One Mile (MLE)']  # Create a new column for absolute values\n",
    "coef_df_ridge = coef_df_ridge.sort_values(by='Absolute Coefficient', ascending=False).drop(columns='Absolute Coefficient')  # Sort and drop the temporary column\n",
    "\n",
    "# Display the coefficients with feature names sorted\n",
    "print(coef_df_ridge)"
   ]
  },
  {
   "cell_type": "code",
   "execution_count": 73,
   "id": "54710fd3-7b7e-4159-9161-c37ad364126b",
   "metadata": {},
   "outputs": [
    {
     "name": "stdout",
     "output_type": "stream",
     "text": [
      "Fitting 10 folds for each of 1 candidates, totalling 10 fits\n"
     ]
    },
    {
     "data": {
      "text/html": [
       "<style>#sk-container-id-8 {color: black;background-color: white;}#sk-container-id-8 pre{padding: 0;}#sk-container-id-8 div.sk-toggleable {background-color: white;}#sk-container-id-8 label.sk-toggleable__label {cursor: pointer;display: block;width: 100%;margin-bottom: 0;padding: 0.3em;box-sizing: border-box;text-align: center;}#sk-container-id-8 label.sk-toggleable__label-arrow:before {content: \"▸\";float: left;margin-right: 0.25em;color: #696969;}#sk-container-id-8 label.sk-toggleable__label-arrow:hover:before {color: black;}#sk-container-id-8 div.sk-estimator:hover label.sk-toggleable__label-arrow:before {color: black;}#sk-container-id-8 div.sk-toggleable__content {max-height: 0;max-width: 0;overflow: hidden;text-align: left;background-color: #f0f8ff;}#sk-container-id-8 div.sk-toggleable__content pre {margin: 0.2em;color: black;border-radius: 0.25em;background-color: #f0f8ff;}#sk-container-id-8 input.sk-toggleable__control:checked~div.sk-toggleable__content {max-height: 200px;max-width: 100%;overflow: auto;}#sk-container-id-8 input.sk-toggleable__control:checked~label.sk-toggleable__label-arrow:before {content: \"▾\";}#sk-container-id-8 div.sk-estimator input.sk-toggleable__control:checked~label.sk-toggleable__label {background-color: #d4ebff;}#sk-container-id-8 div.sk-label input.sk-toggleable__control:checked~label.sk-toggleable__label {background-color: #d4ebff;}#sk-container-id-8 input.sk-hidden--visually {border: 0;clip: rect(1px 1px 1px 1px);clip: rect(1px, 1px, 1px, 1px);height: 1px;margin: -1px;overflow: hidden;padding: 0;position: absolute;width: 1px;}#sk-container-id-8 div.sk-estimator {font-family: monospace;background-color: #f0f8ff;border: 1px dotted black;border-radius: 0.25em;box-sizing: border-box;margin-bottom: 0.5em;}#sk-container-id-8 div.sk-estimator:hover {background-color: #d4ebff;}#sk-container-id-8 div.sk-parallel-item::after {content: \"\";width: 100%;border-bottom: 1px solid gray;flex-grow: 1;}#sk-container-id-8 div.sk-label:hover label.sk-toggleable__label {background-color: #d4ebff;}#sk-container-id-8 div.sk-serial::before {content: \"\";position: absolute;border-left: 1px solid gray;box-sizing: border-box;top: 0;bottom: 0;left: 50%;z-index: 0;}#sk-container-id-8 div.sk-serial {display: flex;flex-direction: column;align-items: center;background-color: white;padding-right: 0.2em;padding-left: 0.2em;position: relative;}#sk-container-id-8 div.sk-item {position: relative;z-index: 1;}#sk-container-id-8 div.sk-parallel {display: flex;align-items: stretch;justify-content: center;background-color: white;position: relative;}#sk-container-id-8 div.sk-item::before, #sk-container-id-8 div.sk-parallel-item::before {content: \"\";position: absolute;border-left: 1px solid gray;box-sizing: border-box;top: 0;bottom: 0;left: 50%;z-index: -1;}#sk-container-id-8 div.sk-parallel-item {display: flex;flex-direction: column;z-index: 1;position: relative;background-color: white;}#sk-container-id-8 div.sk-parallel-item:first-child::after {align-self: flex-end;width: 50%;}#sk-container-id-8 div.sk-parallel-item:last-child::after {align-self: flex-start;width: 50%;}#sk-container-id-8 div.sk-parallel-item:only-child::after {width: 0;}#sk-container-id-8 div.sk-dashed-wrapped {border: 1px dashed gray;margin: 0 0.4em 0.5em 0.4em;box-sizing: border-box;padding-bottom: 0.4em;background-color: white;}#sk-container-id-8 div.sk-label label {font-family: monospace;font-weight: bold;display: inline-block;line-height: 1.2em;}#sk-container-id-8 div.sk-label-container {text-align: center;}#sk-container-id-8 div.sk-container {/* jupyter's `normalize.less` sets `[hidden] { display: none; }` but bootstrap.min.css set `[hidden] { display: none !important; }` so we also need the `!important` here to be able to override the default hidden behavior on the sphinx rendered scikit-learn.org. See: https://github.com/scikit-learn/scikit-learn/issues/21755 */display: inline-block !important;position: relative;}#sk-container-id-8 div.sk-text-repr-fallback {display: none;}</style><div id=\"sk-container-id-8\" class=\"sk-top-container\"><div class=\"sk-text-repr-fallback\"><pre>Pipeline(steps=[(&#x27;preprocessor&#x27;,\n",
       "                 ColumnTransformer(transformers=[(&#x27;num&#x27;,\n",
       "                                                  Pipeline(steps=[(&#x27;impute_mean&#x27;,\n",
       "                                                                   SimpleImputer()),\n",
       "                                                                  (&#x27;scaler&#x27;,\n",
       "                                                                   StandardScaler())]),\n",
       "                                                  Index([&#x27;Year Built&#x27;, &#x27;Total Bedrooms&#x27;, &#x27;Living Area(SQF)&#x27;,\n",
       "       &#x27;Convenience (One Mile)&#x27;, &#x27;Supercenter (One Mile)&#x27;,\n",
       "       &#x27;Supermarket (One Mile)&#x27;, &#x27;Variety Store (One Mile)&#x27;,\n",
       "       &#x27;Wholesale (One Mile)&#x27;, &#x27;Total Bathrooms&#x27;],\n",
       "      dtype=&#x27;object&#x27;))])),\n",
       "                (&#x27;regressor&#x27;, Lasso(random_state=42))])</pre><b>In a Jupyter environment, please rerun this cell to show the HTML representation or trust the notebook. <br />On GitHub, the HTML representation is unable to render, please try loading this page with nbviewer.org.</b></div><div class=\"sk-container\" hidden><div class=\"sk-item sk-dashed-wrapped\"><div class=\"sk-label-container\"><div class=\"sk-label sk-toggleable\"><input class=\"sk-toggleable__control sk-hidden--visually\" id=\"sk-estimator-id-43\" type=\"checkbox\" ><label for=\"sk-estimator-id-43\" class=\"sk-toggleable__label sk-toggleable__label-arrow\">Pipeline</label><div class=\"sk-toggleable__content\"><pre>Pipeline(steps=[(&#x27;preprocessor&#x27;,\n",
       "                 ColumnTransformer(transformers=[(&#x27;num&#x27;,\n",
       "                                                  Pipeline(steps=[(&#x27;impute_mean&#x27;,\n",
       "                                                                   SimpleImputer()),\n",
       "                                                                  (&#x27;scaler&#x27;,\n",
       "                                                                   StandardScaler())]),\n",
       "                                                  Index([&#x27;Year Built&#x27;, &#x27;Total Bedrooms&#x27;, &#x27;Living Area(SQF)&#x27;,\n",
       "       &#x27;Convenience (One Mile)&#x27;, &#x27;Supercenter (One Mile)&#x27;,\n",
       "       &#x27;Supermarket (One Mile)&#x27;, &#x27;Variety Store (One Mile)&#x27;,\n",
       "       &#x27;Wholesale (One Mile)&#x27;, &#x27;Total Bathrooms&#x27;],\n",
       "      dtype=&#x27;object&#x27;))])),\n",
       "                (&#x27;regressor&#x27;, Lasso(random_state=42))])</pre></div></div></div><div class=\"sk-serial\"><div class=\"sk-item sk-dashed-wrapped\"><div class=\"sk-label-container\"><div class=\"sk-label sk-toggleable\"><input class=\"sk-toggleable__control sk-hidden--visually\" id=\"sk-estimator-id-44\" type=\"checkbox\" ><label for=\"sk-estimator-id-44\" class=\"sk-toggleable__label sk-toggleable__label-arrow\">preprocessor: ColumnTransformer</label><div class=\"sk-toggleable__content\"><pre>ColumnTransformer(transformers=[(&#x27;num&#x27;,\n",
       "                                 Pipeline(steps=[(&#x27;impute_mean&#x27;,\n",
       "                                                  SimpleImputer()),\n",
       "                                                 (&#x27;scaler&#x27;, StandardScaler())]),\n",
       "                                 Index([&#x27;Year Built&#x27;, &#x27;Total Bedrooms&#x27;, &#x27;Living Area(SQF)&#x27;,\n",
       "       &#x27;Convenience (One Mile)&#x27;, &#x27;Supercenter (One Mile)&#x27;,\n",
       "       &#x27;Supermarket (One Mile)&#x27;, &#x27;Variety Store (One Mile)&#x27;,\n",
       "       &#x27;Wholesale (One Mile)&#x27;, &#x27;Total Bathrooms&#x27;],\n",
       "      dtype=&#x27;object&#x27;))])</pre></div></div></div><div class=\"sk-parallel\"><div class=\"sk-parallel-item\"><div class=\"sk-item\"><div class=\"sk-label-container\"><div class=\"sk-label sk-toggleable\"><input class=\"sk-toggleable__control sk-hidden--visually\" id=\"sk-estimator-id-45\" type=\"checkbox\" ><label for=\"sk-estimator-id-45\" class=\"sk-toggleable__label sk-toggleable__label-arrow\">num</label><div class=\"sk-toggleable__content\"><pre>Index([&#x27;Year Built&#x27;, &#x27;Total Bedrooms&#x27;, &#x27;Living Area(SQF)&#x27;,\n",
       "       &#x27;Convenience (One Mile)&#x27;, &#x27;Supercenter (One Mile)&#x27;,\n",
       "       &#x27;Supermarket (One Mile)&#x27;, &#x27;Variety Store (One Mile)&#x27;,\n",
       "       &#x27;Wholesale (One Mile)&#x27;, &#x27;Total Bathrooms&#x27;],\n",
       "      dtype=&#x27;object&#x27;)</pre></div></div></div><div class=\"sk-serial\"><div class=\"sk-item\"><div class=\"sk-serial\"><div class=\"sk-item\"><div class=\"sk-estimator sk-toggleable\"><input class=\"sk-toggleable__control sk-hidden--visually\" id=\"sk-estimator-id-46\" type=\"checkbox\" ><label for=\"sk-estimator-id-46\" class=\"sk-toggleable__label sk-toggleable__label-arrow\">SimpleImputer</label><div class=\"sk-toggleable__content\"><pre>SimpleImputer()</pre></div></div></div><div class=\"sk-item\"><div class=\"sk-estimator sk-toggleable\"><input class=\"sk-toggleable__control sk-hidden--visually\" id=\"sk-estimator-id-47\" type=\"checkbox\" ><label for=\"sk-estimator-id-47\" class=\"sk-toggleable__label sk-toggleable__label-arrow\">StandardScaler</label><div class=\"sk-toggleable__content\"><pre>StandardScaler()</pre></div></div></div></div></div></div></div></div></div></div><div class=\"sk-item\"><div class=\"sk-estimator sk-toggleable\"><input class=\"sk-toggleable__control sk-hidden--visually\" id=\"sk-estimator-id-48\" type=\"checkbox\" ><label for=\"sk-estimator-id-48\" class=\"sk-toggleable__label sk-toggleable__label-arrow\">Lasso</label><div class=\"sk-toggleable__content\"><pre>Lasso(random_state=42)</pre></div></div></div></div></div></div></div>"
      ],
      "text/plain": [
       "Pipeline(steps=[('preprocessor',\n",
       "                 ColumnTransformer(transformers=[('num',\n",
       "                                                  Pipeline(steps=[('impute_mean',\n",
       "                                                                   SimpleImputer()),\n",
       "                                                                  ('scaler',\n",
       "                                                                   StandardScaler())]),\n",
       "                                                  Index(['Year Built', 'Total Bedrooms', 'Living Area(SQF)',\n",
       "       'Convenience (One Mile)', 'Supercenter (One Mile)',\n",
       "       'Supermarket (One Mile)', 'Variety Store (One Mile)',\n",
       "       'Wholesale (One Mile)', 'Total Bathrooms'],\n",
       "      dtype='object'))])),\n",
       "                ('regressor', Lasso(random_state=42))])"
      ]
     },
     "execution_count": 73,
     "metadata": {},
     "output_type": "execute_result"
    }
   ],
   "source": [
    "from sklearn.linear_model import Lasso\n",
    "lasso_model = Lasso(random_state=42)\n",
    "param_lasso = {\n",
    "    'regressor__alpha': [1.0]\n",
    "}\n",
    "lasso_pipeline = Pipeline(steps=[\n",
    "    ('preprocessor', preprocessor),\n",
    "    ('regressor', lasso_model),\n",
    "])\n",
    "lasso_search = GridSearchCV(\n",
    "    estimator=lasso_pipeline,\n",
    "    param_grid=param_lasso,\n",
    "    scoring=['r2', 'neg_mean_squared_error', 'neg_mean_absolute_percentage_error', 'neg_root_mean_squared_error'],\n",
    "    refit='r2', \n",
    "    cv=10,  # Number of cross-validation folds\n",
    "    n_jobs=-1,  # Use all available cores\n",
    "    verbose=2,\n",
    ")\n",
    "lasso_search.fit(X_train, y_train_log)\n",
    "lasso_pipeline.fit(X_train, y_train_log)"
   ]
  },
  {
   "cell_type": "code",
   "execution_count": 74,
   "id": "c6b601cb-a7cd-4fa4-aced-393f2db7d55f",
   "metadata": {},
   "outputs": [
    {
     "name": "stdout",
     "output_type": "stream",
     "text": [
      "Best parameters: {'regressor__alpha': 1.0}\n",
      "Best R^2: -0.0004325497656059385\n"
     ]
    }
   ],
   "source": [
    "print(\"Best parameters:\", lasso_search.best_params_)\n",
    "print(\"Best R^2:\", lasso_search.best_score_)"
   ]
  },
  {
   "cell_type": "code",
   "execution_count": 75,
   "id": "4c5e0232-aaa3-4150-bd12-0456ff53bd00",
   "metadata": {},
   "outputs": [
    {
     "name": "stdout",
     "output_type": "stream",
     "text": [
      "Tuned Validation Set Scores:\n",
      "R²: -0.0000\n",
      "MSE: 0.1093\n",
      "MAPE: 0.0310\n",
      "RMSE: 0.3306\n",
      "\n",
      "Tuned Test Set Scores:\n",
      "R²: -0.0001\n",
      "MSE: 0.1126\n",
      "MAPE: 0.0313\n",
      "RMSE: 0.3355\n",
      "\n",
      "Tuned Train-Val Set Scores:\n",
      "R²: -0.0000\n",
      "MSE: 0.1091\n",
      "MAPE: 0.0309\n",
      "RMSE: 0.3303\n"
     ]
    }
   ],
   "source": [
    "best_model_lasso = lasso_search.best_estimator_\n",
    "results_lasso = lasso_search.cv_results_\n",
    "\n",
    "y_val_pred_tuned_lasso = best_model_lasso.predict(X_val)\n",
    "val_scores_lasso = calculate_scores(y_val_log, y_val_pred_tuned_lasso)\n",
    "\n",
    "y_test_pred_tuned_lasso = best_model_lasso.predict(X_test)\n",
    "test_scores_lasso = calculate_scores(y_test_log, y_test_pred_tuned_lasso)\n",
    "\n",
    "y_combined_pred_tuned_lasso = best_model_lasso.predict(X_train_val)\n",
    "combined_scores_lasso = calculate_scores(y_combined_log, y_combined_pred_tuned_lasso)\n",
    "\n",
    "print(\"Tuned Validation Set Scores:\")\n",
    "print(f\"R²: {val_scores_lasso[0]:.4f}\")\n",
    "print(f\"MSE: {val_scores_lasso[1]:.4f}\")\n",
    "print(f\"MAPE: {val_scores_lasso[2]:.4f}\")\n",
    "print(f\"RMSE: {val_scores_lasso[3]:.4f}\")\n",
    "\n",
    "print(\"\\nTuned Test Set Scores:\")\n",
    "print(f\"R²: {test_scores_lasso[0]:.4f}\")\n",
    "print(f\"MSE: {test_scores_lasso[1]:.4f}\")\n",
    "print(f\"MAPE: {test_scores_lasso[2]:.4f}\")\n",
    "print(f\"RMSE: {test_scores_lasso[3]:.4f}\")\n",
    "\n",
    "print(\"\\nTuned Train-Val Set Scores:\")\n",
    "print(f\"R²: {combined_scores_lasso[0]:.4f}\")\n",
    "print(f\"MSE: {combined_scores_lasso[1]:.4f}\")\n",
    "print(f\"MAPE: {combined_scores_lasso[2]:.4f}\")\n",
    "print(f\"RMSE: {combined_scores_lasso[3]:.4f}\")"
   ]
  },
  {
   "cell_type": "code",
   "execution_count": 76,
   "id": "bed8bc67-2c0a-4a3f-bf96-bc0366a0047a",
   "metadata": {},
   "outputs": [],
   "source": [
    "coefficients = lasso_pipeline.named_steps['regressor'].coef_\n",
    "intercept = lasso_pipeline.named_steps['regressor'].intercept_"
   ]
  },
  {
   "cell_type": "code",
   "execution_count": 77,
   "id": "bd0ff135-4f32-4dfc-8940-f4e5118f585e",
   "metadata": {},
   "outputs": [
    {
     "name": "stdout",
     "output_type": "stream",
     "text": [
      "                    Feature  Coefficient (MLE)\n",
      "9                 Intercept           7.669292\n",
      "0                Year Built           0.000000\n",
      "1            Total Bedrooms           0.000000\n",
      "2          Living Area(SQF)           0.000000\n",
      "3    Convenience (One Mile)           0.000000\n",
      "4    Supercenter (One Mile)           0.000000\n",
      "5    Supermarket (One Mile)           0.000000\n",
      "6  Variety Store (One Mile)          -0.000000\n",
      "7      Wholesale (One Mile)           0.000000\n",
      "8           Total Bathrooms           0.000000\n"
     ]
    }
   ],
   "source": [
    "coef_df = pd.DataFrame({\n",
    "    'Feature': all_feature_names,\n",
    "    'Coefficient (MLE)': coefficients\n",
    "})\n",
    "intercept_row = pd.DataFrame({'Feature': ['Intercept'], 'Coefficient (MLE)': [intercept]})\n",
    "coef_df = pd.concat([coef_df, intercept_row], ignore_index=True)\n",
    "\n",
    "coef_df['Absolute Coefficient'] = coef_df['Coefficient (MLE)']  # Create a new column for absolute values\n",
    "coef_df = coef_df.sort_values(by='Absolute Coefficient', ascending=False).drop(columns='Absolute Coefficient')  # Sort and drop the temporary column\n",
    "\n",
    "# Display the coefficients with feature names sorted\n",
    "print(coef_df)"
   ]
  },
  {
   "cell_type": "code",
   "execution_count": 114,
   "id": "77158cbd-07fe-450a-a526-ab5a2289ed33",
   "metadata": {},
   "outputs": [
    {
     "data": {
      "image/png": "[encoded data removed]",
      "text/plain": [
       "<Figure size 1000x600 with 1 Axes>"
      ]
     },
     "metadata": {},
     "output_type": "display_data"
    }
   ],
   "source": [
    "# Define the range of alpha values (regularization strength)\n",
    "alphas = np.logspace(-3, 3, 100)  # Try values from 0.001 to 100 on a log scale\n",
    "\n",
    "# Scale the features if needed\n",
    "scaler = StandardScaler()\n",
    "X_scaled = transformed_df\n",
    "\n",
    "# Initialize an empty array to store coefficients\n",
    "coefs = []\n",
    "\n",
    "# For each alpha, fit Lasso and store the coefficients\n",
    "for alpha in alphas:\n",
    "    lasso = Lasso(alpha=alpha, max_iter=10000)\n",
    "    lasso.fit(X_scaled, y)\n",
    "    coefs.append(lasso.coef_)\n",
    "\n",
    "# Convert coefficients list to a numpy array for plotting\n",
    "coefs = np.array(coefs)\n",
    "\n",
    "# Plot the regularization path\n",
    "plt.figure(figsize=(10, 6))\n",
    "\n",
    "# Plot each feature’s coefficient path\n",
    "for i, feature in enumerate(['Living Area(SQF)', 'Convenience', 'Supercenter', 'Supermarket', 'Variety Store', 'Wholesale', 'Total Bedrooms', 'Year Built', 'Total Bathrooms']):\n",
    "    plt.plot(alphas, coefs[:, i], label=feature)\n",
    "\n",
    "# Set up plot details\n",
    "plt.xlabel(\"Alpha (Regularization Strength)\")\n",
    "plt.ylabel(\"Coefficient Value\")\n",
    "plt.title(\"Lasso Paths Showing Shrinkage of Coefficients, Density One\")\n",
    "plt.legend()\n",
    "plt.xscale(\"log\")  # Use a log scale for alpha\n",
    "plt.grid(True)\n",
    "plt.show()"
   ]
  },
  {
   "cell_type": "code",
   "execution_count": null,
   "id": "93fbe2b5-f19b-4955-80f8-8182fe4784f2",
   "metadata": {},
   "outputs": [],
   "source": []
  },
  {
   "cell_type": "code",
   "execution_count": null,
   "id": "54a530ae-c226-4f45-b135-30fff98b3a5e",
   "metadata": {},
   "outputs": [],
   "source": []
  },
  {
   "cell_type": "code",
   "execution_count": null,
   "id": "3362bbfc-8b1a-4bc3-a9b8-1140d677fda7",
   "metadata": {},
   "outputs": [],
   "source": []
  },
  {
   "cell_type": "code",
   "execution_count": null,
   "id": "f521098d-aef6-4cec-893f-ca6706aadad1",
   "metadata": {},
   "outputs": [],
   "source": []
  },
  {
   "cell_type": "code",
   "execution_count": null,
   "id": "492fc040-595e-4099-86b8-09bee8d38290",
   "metadata": {},
   "outputs": [],
   "source": []
  },
  {
   "cell_type": "code",
   "execution_count": null,
   "id": "f41fc03e-3ffa-42db-889a-5ad9914097b0",
   "metadata": {},
   "outputs": [],
   "source": []
  },
  {
   "cell_type": "code",
   "execution_count": 135,
   "id": "4561d51e-bc4d-445b-a18a-591ba827e10c",
   "metadata": {},
   "outputs": [],
   "source": [
    "Atlanta_Density_Three = Atlanta_Density.drop(columns=['Wholesale (One Mile)', 'Variety Store (One Mile)', 'Supermarket (One Mile)', 'Supercenter (One Mile)', 'Convenience (One Mile)',\n",
    "                                                      'Wholesale (Five Miles)', 'Variety Store (Five Miles)', 'Supermarket (Five Miles)', 'Supercenter (Five Miles)', 'Convenience (Five Miles)'])\n",
    "numeric_features_three = Atlanta_Density_Three.select_dtypes(include=['int64', 'float64']).drop(columns=['current_listing_price']).columns\n",
    "# Helper function to fill 'None' for missing categorical data\n",
    "def fill_none(X):\n",
    "    return X.fillna(\"None\")\n",
    "\n",
    "# Pipeline for numeric features: Impute missing values using mean\n",
    "numeric_transformer_three = Pipeline(steps=[\n",
    "    ('impute_mean', SimpleImputer(strategy='mean')),\n",
    "    ('scaler', StandardScaler())\n",
    "])\n",
    "\n",
    "# Combined preprocessor for numeric and nominal\n",
    "preprocessor_three = ColumnTransformer(\n",
    "    transformers=[\n",
    "        ('num', numeric_transformer_three, numeric_features_three),\n",
    "        #('nominal', categorical_transformer, categorical_features)\n",
    "])\n",
    "\n",
    "transformed_data_three = preprocessor_three.fit_transform(Atlanta_Density_Three)"
   ]
  },
  {
   "cell_type": "code",
   "execution_count": 136,
   "id": "db78ad00-1d88-4f29-9ffe-c0c826ac9aec",
   "metadata": {},
   "outputs": [],
   "source": [
    "# Combine all feature names\n",
    "all_feature_names_three = list(numeric_features_three)\n",
    "transformed_df_three = pd.DataFrame(transformed_data_three, columns=all_feature_names_three)"
   ]
  },
  {
   "cell_type": "code",
   "execution_count": 137,
   "id": "0efa0cb9-7a4d-4aac-a434-470ab2403da4",
   "metadata": {},
   "outputs": [
    {
     "data": {
      "text/html": [
       "<style>#sk-container-id-14 {color: black;background-color: white;}#sk-container-id-14 pre{padding: 0;}#sk-container-id-14 div.sk-toggleable {background-color: white;}#sk-container-id-14 label.sk-toggleable__label {cursor: pointer;display: block;width: 100%;margin-bottom: 0;padding: 0.3em;box-sizing: border-box;text-align: center;}#sk-container-id-14 label.sk-toggleable__label-arrow:before {content: \"▸\";float: left;margin-right: 0.25em;color: #696969;}#sk-container-id-14 label.sk-toggleable__label-arrow:hover:before {color: black;}#sk-container-id-14 div.sk-estimator:hover label.sk-toggleable__label-arrow:before {color: black;}#sk-container-id-14 div.sk-toggleable__content {max-height: 0;max-width: 0;overflow: hidden;text-align: left;background-color: #f0f8ff;}#sk-container-id-14 div.sk-toggleable__content pre {margin: 0.2em;color: black;border-radius: 0.25em;background-color: #f0f8ff;}#sk-container-id-14 input.sk-toggleable__control:checked~div.sk-toggleable__content {max-height: 200px;max-width: 100%;overflow: auto;}#sk-container-id-14 input.sk-toggleable__control:checked~label.sk-toggleable__label-arrow:before {content: \"▾\";}#sk-container-id-14 div.sk-estimator input.sk-toggleable__control:checked~label.sk-toggleable__label {background-color: #d4ebff;}#sk-container-id-14 div.sk-label input.sk-toggleable__control:checked~label.sk-toggleable__label {background-color: #d4ebff;}#sk-container-id-14 input.sk-hidden--visually {border: 0;clip: rect(1px 1px 1px 1px);clip: rect(1px, 1px, 1px, 1px);height: 1px;margin: -1px;overflow: hidden;padding: 0;position: absolute;width: 1px;}#sk-container-id-14 div.sk-estimator {font-family: monospace;background-color: #f0f8ff;border: 1px dotted black;border-radius: 0.25em;box-sizing: border-box;margin-bottom: 0.5em;}#sk-container-id-14 div.sk-estimator:hover {background-color: #d4ebff;}#sk-container-id-14 div.sk-parallel-item::after {content: \"\";width: 100%;border-bottom: 1px solid gray;flex-grow: 1;}#sk-container-id-14 div.sk-label:hover label.sk-toggleable__label {background-color: #d4ebff;}#sk-container-id-14 div.sk-serial::before {content: \"\";position: absolute;border-left: 1px solid gray;box-sizing: border-box;top: 0;bottom: 0;left: 50%;z-index: 0;}#sk-container-id-14 div.sk-serial {display: flex;flex-direction: column;align-items: center;background-color: white;padding-right: 0.2em;padding-left: 0.2em;position: relative;}#sk-container-id-14 div.sk-item {position: relative;z-index: 1;}#sk-container-id-14 div.sk-parallel {display: flex;align-items: stretch;justify-content: center;background-color: white;position: relative;}#sk-container-id-14 div.sk-item::before, #sk-container-id-14 div.sk-parallel-item::before {content: \"\";position: absolute;border-left: 1px solid gray;box-sizing: border-box;top: 0;bottom: 0;left: 50%;z-index: -1;}#sk-container-id-14 div.sk-parallel-item {display: flex;flex-direction: column;z-index: 1;position: relative;background-color: white;}#sk-container-id-14 div.sk-parallel-item:first-child::after {align-self: flex-end;width: 50%;}#sk-container-id-14 div.sk-parallel-item:last-child::after {align-self: flex-start;width: 50%;}#sk-container-id-14 div.sk-parallel-item:only-child::after {width: 0;}#sk-container-id-14 div.sk-dashed-wrapped {border: 1px dashed gray;margin: 0 0.4em 0.5em 0.4em;box-sizing: border-box;padding-bottom: 0.4em;background-color: white;}#sk-container-id-14 div.sk-label label {font-family: monospace;font-weight: bold;display: inline-block;line-height: 1.2em;}#sk-container-id-14 div.sk-label-container {text-align: center;}#sk-container-id-14 div.sk-container {/* jupyter's `normalize.less` sets `[hidden] { display: none; }` but bootstrap.min.css set `[hidden] { display: none !important; }` so we also need the `!important` here to be able to override the default hidden behavior on the sphinx rendered scikit-learn.org. See: https://github.com/scikit-learn/scikit-learn/issues/21755 */display: inline-block !important;position: relative;}#sk-container-id-14 div.sk-text-repr-fallback {display: none;}</style><div id=\"sk-container-id-14\" class=\"sk-top-container\"><div class=\"sk-text-repr-fallback\"><pre>Pipeline(steps=[(&#x27;preprocessor&#x27;,\n",
       "                 ColumnTransformer(transformers=[(&#x27;num&#x27;,\n",
       "                                                  Pipeline(steps=[(&#x27;impute_mean&#x27;,\n",
       "                                                                   SimpleImputer()),\n",
       "                                                                  (&#x27;scaler&#x27;,\n",
       "                                                                   StandardScaler())]),\n",
       "                                                  Index([&#x27;Year Built&#x27;, &#x27;Total Bedrooms&#x27;, &#x27;Living Area(SQF)&#x27;,\n",
       "       &#x27;Wholesale (Three Miles)&#x27;, &#x27;Variety Store (Three Miles)&#x27;,\n",
       "       &#x27;Supermarket (Three Miles)&#x27;, &#x27;Supercenter (Three Miles)&#x27;,\n",
       "       &#x27;Convenience (Three Miles)&#x27;, &#x27;Total Bathrooms&#x27;],\n",
       "      dtype=&#x27;object&#x27;))])),\n",
       "                (&#x27;regressor&#x27;, LinearRegression())])</pre><b>In a Jupyter environment, please rerun this cell to show the HTML representation or trust the notebook. <br />On GitHub, the HTML representation is unable to render, please try loading this page with nbviewer.org.</b></div><div class=\"sk-container\" hidden><div class=\"sk-item sk-dashed-wrapped\"><div class=\"sk-label-container\"><div class=\"sk-label sk-toggleable\"><input class=\"sk-toggleable__control sk-hidden--visually\" id=\"sk-estimator-id-79\" type=\"checkbox\" ><label for=\"sk-estimator-id-79\" class=\"sk-toggleable__label sk-toggleable__label-arrow\">Pipeline</label><div class=\"sk-toggleable__content\"><pre>Pipeline(steps=[(&#x27;preprocessor&#x27;,\n",
       "                 ColumnTransformer(transformers=[(&#x27;num&#x27;,\n",
       "                                                  Pipeline(steps=[(&#x27;impute_mean&#x27;,\n",
       "                                                                   SimpleImputer()),\n",
       "                                                                  (&#x27;scaler&#x27;,\n",
       "                                                                   StandardScaler())]),\n",
       "                                                  Index([&#x27;Year Built&#x27;, &#x27;Total Bedrooms&#x27;, &#x27;Living Area(SQF)&#x27;,\n",
       "       &#x27;Wholesale (Three Miles)&#x27;, &#x27;Variety Store (Three Miles)&#x27;,\n",
       "       &#x27;Supermarket (Three Miles)&#x27;, &#x27;Supercenter (Three Miles)&#x27;,\n",
       "       &#x27;Convenience (Three Miles)&#x27;, &#x27;Total Bathrooms&#x27;],\n",
       "      dtype=&#x27;object&#x27;))])),\n",
       "                (&#x27;regressor&#x27;, LinearRegression())])</pre></div></div></div><div class=\"sk-serial\"><div class=\"sk-item sk-dashed-wrapped\"><div class=\"sk-label-container\"><div class=\"sk-label sk-toggleable\"><input class=\"sk-toggleable__control sk-hidden--visually\" id=\"sk-estimator-id-80\" type=\"checkbox\" ><label for=\"sk-estimator-id-80\" class=\"sk-toggleable__label sk-toggleable__label-arrow\">preprocessor: ColumnTransformer</label><div class=\"sk-toggleable__content\"><pre>ColumnTransformer(transformers=[(&#x27;num&#x27;,\n",
       "                                 Pipeline(steps=[(&#x27;impute_mean&#x27;,\n",
       "                                                  SimpleImputer()),\n",
       "                                                 (&#x27;scaler&#x27;, StandardScaler())]),\n",
       "                                 Index([&#x27;Year Built&#x27;, &#x27;Total Bedrooms&#x27;, &#x27;Living Area(SQF)&#x27;,\n",
       "       &#x27;Wholesale (Three Miles)&#x27;, &#x27;Variety Store (Three Miles)&#x27;,\n",
       "       &#x27;Supermarket (Three Miles)&#x27;, &#x27;Supercenter (Three Miles)&#x27;,\n",
       "       &#x27;Convenience (Three Miles)&#x27;, &#x27;Total Bathrooms&#x27;],\n",
       "      dtype=&#x27;object&#x27;))])</pre></div></div></div><div class=\"sk-parallel\"><div class=\"sk-parallel-item\"><div class=\"sk-item\"><div class=\"sk-label-container\"><div class=\"sk-label sk-toggleable\"><input class=\"sk-toggleable__control sk-hidden--visually\" id=\"sk-estimator-id-81\" type=\"checkbox\" ><label for=\"sk-estimator-id-81\" class=\"sk-toggleable__label sk-toggleable__label-arrow\">num</label><div class=\"sk-toggleable__content\"><pre>Index([&#x27;Year Built&#x27;, &#x27;Total Bedrooms&#x27;, &#x27;Living Area(SQF)&#x27;,\n",
       "       &#x27;Wholesale (Three Miles)&#x27;, &#x27;Variety Store (Three Miles)&#x27;,\n",
       "       &#x27;Supermarket (Three Miles)&#x27;, &#x27;Supercenter (Three Miles)&#x27;,\n",
       "       &#x27;Convenience (Three Miles)&#x27;, &#x27;Total Bathrooms&#x27;],\n",
       "      dtype=&#x27;object&#x27;)</pre></div></div></div><div class=\"sk-serial\"><div class=\"sk-item\"><div class=\"sk-serial\"><div class=\"sk-item\"><div class=\"sk-estimator sk-toggleable\"><input class=\"sk-toggleable__control sk-hidden--visually\" id=\"sk-estimator-id-82\" type=\"checkbox\" ><label for=\"sk-estimator-id-82\" class=\"sk-toggleable__label sk-toggleable__label-arrow\">SimpleImputer</label><div class=\"sk-toggleable__content\"><pre>SimpleImputer()</pre></div></div></div><div class=\"sk-item\"><div class=\"sk-estimator sk-toggleable\"><input class=\"sk-toggleable__control sk-hidden--visually\" id=\"sk-estimator-id-83\" type=\"checkbox\" ><label for=\"sk-estimator-id-83\" class=\"sk-toggleable__label sk-toggleable__label-arrow\">StandardScaler</label><div class=\"sk-toggleable__content\"><pre>StandardScaler()</pre></div></div></div></div></div></div></div></div></div></div><div class=\"sk-item\"><div class=\"sk-estimator sk-toggleable\"><input class=\"sk-toggleable__control sk-hidden--visually\" id=\"sk-estimator-id-84\" type=\"checkbox\" ><label for=\"sk-estimator-id-84\" class=\"sk-toggleable__label sk-toggleable__label-arrow\">LinearRegression</label><div class=\"sk-toggleable__content\"><pre>LinearRegression()</pre></div></div></div></div></div></div></div>"
      ],
      "text/plain": [
       "Pipeline(steps=[('preprocessor',\n",
       "                 ColumnTransformer(transformers=[('num',\n",
       "                                                  Pipeline(steps=[('impute_mean',\n",
       "                                                                   SimpleImputer()),\n",
       "                                                                  ('scaler',\n",
       "                                                                   StandardScaler())]),\n",
       "                                                  Index(['Year Built', 'Total Bedrooms', 'Living Area(SQF)',\n",
       "       'Wholesale (Three Miles)', 'Variety Store (Three Miles)',\n",
       "       'Supermarket (Three Miles)', 'Supercenter (Three Miles)',\n",
       "       'Convenience (Three Miles)', 'Total Bathrooms'],\n",
       "      dtype='object'))])),\n",
       "                ('regressor', LinearRegression())])"
      ]
     },
     "execution_count": 137,
     "metadata": {},
     "output_type": "execute_result"
    }
   ],
   "source": [
    "# Assuming RandomForest is part of your models dictionary\n",
    "model = LinearRegression()\n",
    "# Define the full model pipeline including the preprocessor\n",
    "pipeline_three = Pipeline([\n",
    "    ('preprocessor', preprocessor_three),\n",
    "    ('regressor', model)\n",
    "])\n",
    "X_three = Atlanta_Density_Three.drop(columns='current_listing_price')\n",
    "y_three = Atlanta_Density_Three['current_listing_price']\n",
    "\n",
    "X_train_val_three, X_test_three, y_train_val_three, y_test_three = train_test_split(X_three, y_three, test_size=0.2, random_state=42)\n",
    "X_train_three, X_val_three, y_train_three, y_val_three = train_test_split(X_train_val_three, y_train_val_three, test_size=0.25, random_state=42)\n",
    "\n",
    "y_train_three_log = np.log1p(y_train_three)  \n",
    "y_val_three_log = np.log1p(y_val_three)\n",
    "y_test_three_log = np.log1p(y_test_three)\n",
    "y_combined_three_log = np.log1p(y_train_val_three)\n",
    "\n",
    "# Fit the model pipeline\n",
    "pipeline_three.fit(X_train_three, y_train_three_log)"
   ]
  },
  {
   "cell_type": "code",
   "execution_count": 138,
   "id": "b5117a6d-8ee6-43b2-bf5c-9ac6689f2c80",
   "metadata": {},
   "outputs": [
    {
     "name": "stdout",
     "output_type": "stream",
     "text": [
      "Validation R^2: 0.45906602547829933\n",
      "Test R^2: 0.38644506923696054\n",
      "Combined R^2: 0.45463827854787864\n"
     ]
    }
   ],
   "source": [
    "val_score_three = pipeline_three.score(X_val_three, y_val_three_log)\n",
    "print('Validation R^2:', val_score_three)\n",
    "\n",
    "test_score_three = pipeline_three.score(X_test_three, y_test_three_log)\n",
    "print('Test R^2:', test_score_three)\n",
    "\n",
    "combined_score_three = pipeline_three.score(X_train_val_three, y_combined_three_log)\n",
    "print('Combined R^2:', combined_score_three)"
   ]
  },
  {
   "cell_type": "code",
   "execution_count": 139,
   "id": "52d17d89-500f-40f7-9851-988d26d57aab",
   "metadata": {},
   "outputs": [
    {
     "name": "stdout",
     "output_type": "stream",
     "text": [
      "Validation Mean Squared Error: 0.05913447374232242\n",
      "Validation Root Mean Squared Error: 0.24317580829992613\n",
      "Test Mean Squared Error: 0.06906179681465004\n",
      "Test Root Mean Squared Error: 0.2627961126323029\n",
      "Combined Mean Squared Error: 0.05950599712360178\n",
      "Combined Root Mean Squared Error: 0.24393851094815222\n"
     ]
    }
   ],
   "source": [
    "y_val_pred_three = pipeline_three.predict(X_val_three)\n",
    "\n",
    "val_mse_three = mean_squared_error(y_val_three_log, y_val_pred_three)\n",
    "print('Validation Mean Squared Error:', val_mse_three)\n",
    "val_rmse_three = np.sqrt(val_mse_three)\n",
    "print(\"Validation Root Mean Squared Error:\", val_rmse_three)\n",
    "\n",
    "y_test_pred_three = pipeline_three.predict(X_test_three)\n",
    "\n",
    "test_mse_three = mean_squared_error(y_test_three_log, y_test_pred_three)\n",
    "print('Test Mean Squared Error:', test_mse_three)\n",
    "test_rmse_three = np.sqrt(test_mse_three)\n",
    "print(\"Test Root Mean Squared Error:\", test_rmse_three)\n",
    "\n",
    "y_combined_pred_three = pipeline_three.predict(X_train_val_three)\n",
    "\n",
    "combined_mse_three = mean_squared_error(y_combined_three_log, y_combined_pred_three)\n",
    "print('Combined Mean Squared Error:', combined_mse_three)\n",
    "combined_rmse_three = np.sqrt(combined_mse_three)\n",
    "print(\"Combined Root Mean Squared Error:\", combined_rmse_three)"
   ]
  },
  {
   "cell_type": "code",
   "execution_count": 140,
   "id": "15fc1d63-db0b-4f85-bd42-5c4bab0cb353",
   "metadata": {},
   "outputs": [
    {
     "name": "stdout",
     "output_type": "stream",
     "text": [
      "Validation Mean Absolute Percentage Error (MAPE): 2.1583435231083117\n",
      "Test Mean Absolute Percentage Error (MAPE): 2.195735570410678\n",
      "Combined Mean Absolute Percentage Error (MAPE): 2.183483358002871\n"
     ]
    }
   ],
   "source": [
    "val_mape_three = calculate_mape(y_val_three_log, y_val_pred_three)\n",
    "test_mape_three = calculate_mape(y_test_three_log, y_test_pred_three)\n",
    "combined_mape_three = calculate_mape(y_combined_three_log, y_combined_pred_three)\n",
    "\n",
    "print(\"Validation Mean Absolute Percentage Error (MAPE):\", val_mape_three)\n",
    "print(\"Test Mean Absolute Percentage Error (MAPE):\", test_mape_three) #A lower MAPE value indicates a more accurate prediction\n",
    "print(\"Combined Mean Absolute Percentage Error (MAPE):\", combined_mape_three)"
   ]
  },
  {
   "cell_type": "code",
   "execution_count": 141,
   "id": "931c0e98-bc8c-4b39-af68-26173f12fed7",
   "metadata": {},
   "outputs": [
    {
     "name": "stdout",
     "output_type": "stream",
     "text": [
      "Coefficients Three Miles (MLE): [ 0.0174367   0.07479926  0.07188502 -0.00390637 -0.03065584  0.07438978\n",
      "  0.01543551  0.05966772  0.09043951]\n",
      "Intercept (MLE): 7.669291945520549\n"
     ]
    }
   ],
   "source": [
    "coefficients_three = pipeline_three.named_steps['regressor'].coef_\n",
    "intercept_three = pipeline_three.named_steps['regressor'].intercept_\n",
    "\n",
    "# Display the coefficients\n",
    "print(\"Coefficients Three Miles (MLE):\", coefficients_three)\n",
    "print(\"Intercept (MLE):\", intercept_three)"
   ]
  },
  {
   "cell_type": "code",
   "execution_count": 142,
   "id": "7b123073-f4c1-4337-b8d4-faad7fe47f2c",
   "metadata": {},
   "outputs": [
    {
     "name": "stdout",
     "output_type": "stream",
     "text": [
      "                       Feature  Coefficient Three Miles (MLE)\n",
      "9                    Intercept                       7.669292\n",
      "8              Total Bathrooms                       0.090440\n",
      "1               Total Bedrooms                       0.074799\n",
      "5    Supermarket (Three Miles)                       0.074390\n",
      "2             Living Area(SQF)                       0.071885\n",
      "7    Convenience (Three Miles)                       0.059668\n",
      "0                   Year Built                       0.017437\n",
      "6    Supercenter (Three Miles)                       0.015436\n",
      "3      Wholesale (Three Miles)                      -0.003906\n",
      "4  Variety Store (Three Miles)                      -0.030656\n"
     ]
    }
   ],
   "source": [
    "coef_df_three = pd.DataFrame({\n",
    "    'Feature': all_feature_names_three,\n",
    "    'Coefficient Three Miles (MLE)': coefficients_three\n",
    "})\n",
    "intercept_row_three = pd.DataFrame({'Feature': ['Intercept'], 'Coefficient Three Miles (MLE)': [intercept_three]})\n",
    "coef_df_three = pd.concat([coef_df_three, intercept_row_three], ignore_index=True)\n",
    "\n",
    "coef_df_three['Absolute Coefficient'] = coef_df_three['Coefficient Three Miles (MLE)']  # Create a new column for absolute values\n",
    "coef_df_three = coef_df_three.sort_values(by='Absolute Coefficient', ascending=False).drop(columns='Absolute Coefficient')  # Sort and drop the temporary column\n",
    "\n",
    "# Display the coefficients with feature names sorted\n",
    "print(coef_df_three)"
   ]
  },
  {
   "cell_type": "code",
   "execution_count": 143,
   "id": "053b5ee5-96a7-4aed-81ae-08e49acd433b",
   "metadata": {},
   "outputs": [
    {
     "name": "stdout",
     "output_type": "stream",
     "text": [
      "Fitting 10 folds for each of 1 candidates, totalling 10 fits\n",
      "Best parameters: {'regressor__alpha': 100}\n",
      "Best R^2: 0.4495105466845917\n"
     ]
    }
   ],
   "source": [
    "from sklearn.linear_model import Ridge\n",
    "ridge_model = Ridge(random_state=42)\n",
    "param_three = {\n",
    "    'regressor__alpha': [100]\n",
    "}\n",
    "ridge_pipeline_three = Pipeline(steps=[\n",
    "    ('preprocessor', preprocessor_three),\n",
    "    ('regressor', ridge_model),\n",
    "])\n",
    "ridge_search_three = GridSearchCV(\n",
    "    estimator=ridge_pipeline_three,\n",
    "    param_grid=param_three,\n",
    "    scoring=['r2', 'neg_mean_squared_error', 'neg_mean_absolute_percentage_error', 'neg_root_mean_squared_error'],\n",
    "    refit='r2', \n",
    "    cv=10,  # Number of cross-validation folds\n",
    "    n_jobs=-1,  # Use all available cores\n",
    "    verbose=2,\n",
    ")\n",
    "\n",
    "# Fit RandomizedSearchCV\n",
    "ridge_search_three.fit(X_train_three, y_train_three_log)\n",
    "ridge_pipeline_three.fit(X_train_three, y_train_three_log)\n",
    "print(\"Best parameters:\", ridge_search_three.best_params_)\n",
    "print(\"Best R^2:\", ridge_search_three.best_score_)"
   ]
  },
  {
   "cell_type": "code",
   "execution_count": 144,
   "id": "0e41bb11-f5dc-4e5d-a4d2-7e366fa7a03a",
   "metadata": {},
   "outputs": [
    {
     "name": "stdout",
     "output_type": "stream",
     "text": [
      "Tuned Validation Set Scores:\n",
      "R²: 0.4589\n",
      "MSE: 0.0592\n",
      "MAPE: 0.0216\n",
      "RMSE: 0.2432\n",
      "\n",
      "Tuned Test Set Scores:\n",
      "R²: 0.3866\n",
      "MSE: 0.0690\n",
      "MAPE: 0.0220\n",
      "RMSE: 0.2628\n",
      "\n",
      "Tuned Train-Val Set Scores:\n",
      "R²: 0.4546\n",
      "MSE: 0.0595\n",
      "MAPE: 0.0218\n",
      "RMSE: 0.2439\n"
     ]
    }
   ],
   "source": [
    "best_model_ridge_three = ridge_search_three.best_estimator_\n",
    "results_ridge_three = ridge_search_three.cv_results_\n",
    "y_val_pred_tuned_ridge_three = best_model_ridge_three.predict(X_val_three)\n",
    "val_scores_ridge_three = calculate_scores(y_val_three_log, y_val_pred_tuned_ridge_three)\n",
    "\n",
    "y_test_pred_tuned_ridge_three = best_model_ridge_three.predict(X_test_three)\n",
    "test_scores_ridge_three = calculate_scores(y_test_three_log, y_test_pred_tuned_ridge_three)\n",
    "\n",
    "y_combined_pred_tuned_ridge_three = best_model_ridge_three.predict(X_train_val_three)\n",
    "combined_scores_ridge_three = calculate_scores(y_combined_three_log, y_combined_pred_tuned_ridge_three)\n",
    "\n",
    "print(\"Tuned Validation Set Scores:\")\n",
    "print(f\"R²: {val_scores_ridge_three[0]:.4f}\")\n",
    "print(f\"MSE: {val_scores_ridge_three[1]:.4f}\")\n",
    "print(f\"MAPE: {val_scores_ridge_three[2]:.4f}\")\n",
    "print(f\"RMSE: {val_scores_ridge_three[3]:.4f}\")\n",
    "\n",
    "print(\"\\nTuned Test Set Scores:\")\n",
    "print(f\"R²: {test_scores_ridge_three[0]:.4f}\")\n",
    "print(f\"MSE: {test_scores_ridge_three[1]:.4f}\")\n",
    "print(f\"MAPE: {test_scores_ridge_three[2]:.4f}\")\n",
    "print(f\"RMSE: {test_scores_ridge_three[3]:.4f}\")\n",
    "\n",
    "print(\"\\nTuned Train-Val Set Scores:\")\n",
    "print(f\"R²: {combined_scores_ridge_three[0]:.4f}\")\n",
    "print(f\"MSE: {combined_scores_ridge_three[1]:.4f}\")\n",
    "print(f\"MAPE: {combined_scores_ridge_three[2]:.4f}\")\n",
    "print(f\"RMSE: {combined_scores_ridge_three[3]:.4f}\")"
   ]
  },
  {
   "cell_type": "code",
   "execution_count": 145,
   "id": "9042e918-77a5-417c-bce2-4e4f731f9fb1",
   "metadata": {},
   "outputs": [],
   "source": [
    "coefficients_three = ridge_pipeline_three.named_steps['regressor'].coef_\n",
    "intercept_three = ridge_pipeline_three.named_steps['regressor'].intercept_"
   ]
  },
  {
   "cell_type": "code",
   "execution_count": 146,
   "id": "6dee6862-0171-4d79-a544-18759ec39386",
   "metadata": {},
   "outputs": [
    {
     "name": "stdout",
     "output_type": "stream",
     "text": [
      "                       Feature  Coefficient Three Miles (MLE)\n",
      "9                    Intercept                       7.669292\n",
      "8              Total Bathrooms                       0.090436\n",
      "1               Total Bedrooms                       0.074796\n",
      "5    Supermarket (Three Miles)                       0.074385\n",
      "2             Living Area(SQF)                       0.071883\n",
      "7    Convenience (Three Miles)                       0.059661\n",
      "0                   Year Built                       0.017436\n",
      "6    Supercenter (Three Miles)                       0.015436\n",
      "3      Wholesale (Three Miles)                      -0.003906\n",
      "4  Variety Store (Three Miles)                      -0.030651\n"
     ]
    }
   ],
   "source": [
    "coef_df_ridge_three = pd.DataFrame({\n",
    "    'Feature': all_feature_names_three,\n",
    "    'Coefficient Three Miles (MLE)': coefficients_three\n",
    "})\n",
    "\n",
    "# Add intercept row\n",
    "intercept_row_three = pd.DataFrame({'Feature': ['Intercept'], 'Coefficient Three Miles (MLE)': [intercept]})\n",
    "coef_df_ridge_three = pd.concat([coef_df_ridge_three, intercept_row_three], ignore_index=True)\n",
    "\n",
    "# Sort the coefficients by absolute value in descending order\n",
    "coef_df_ridge_three['Absolute Coefficient'] = coef_df_ridge_three['Coefficient Three Miles (MLE)']  # Create a new column for absolute values\n",
    "coef_df_ridge_three = coef_df_ridge_three.sort_values(by='Absolute Coefficient', ascending=False).drop(columns='Absolute Coefficient')  # Sort and drop the temporary column\n",
    "\n",
    "# Display the coefficients with feature names sorted\n",
    "print(coef_df_ridge_three)"
   ]
  },
  {
   "cell_type": "code",
   "execution_count": 91,
   "id": "a2e7691d-0cc8-4718-bb46-30872739fcb7",
   "metadata": {},
   "outputs": [
    {
     "name": "stdout",
     "output_type": "stream",
     "text": [
      "Fitting 10 folds for each of 1 candidates, totalling 10 fits\n"
     ]
    },
    {
     "data": {
      "text/html": [
       "<style>#sk-container-id-10 {color: black;background-color: white;}#sk-container-id-10 pre{padding: 0;}#sk-container-id-10 div.sk-toggleable {background-color: white;}#sk-container-id-10 label.sk-toggleable__label {cursor: pointer;display: block;width: 100%;margin-bottom: 0;padding: 0.3em;box-sizing: border-box;text-align: center;}#sk-container-id-10 label.sk-toggleable__label-arrow:before {content: \"▸\";float: left;margin-right: 0.25em;color: #696969;}#sk-container-id-10 label.sk-toggleable__label-arrow:hover:before {color: black;}#sk-container-id-10 div.sk-estimator:hover label.sk-toggleable__label-arrow:before {color: black;}#sk-container-id-10 div.sk-toggleable__content {max-height: 0;max-width: 0;overflow: hidden;text-align: left;background-color: #f0f8ff;}#sk-container-id-10 div.sk-toggleable__content pre {margin: 0.2em;color: black;border-radius: 0.25em;background-color: #f0f8ff;}#sk-container-id-10 input.sk-toggleable__control:checked~div.sk-toggleable__content {max-height: 200px;max-width: 100%;overflow: auto;}#sk-container-id-10 input.sk-toggleable__control:checked~label.sk-toggleable__label-arrow:before {content: \"▾\";}#sk-container-id-10 div.sk-estimator input.sk-toggleable__control:checked~label.sk-toggleable__label {background-color: #d4ebff;}#sk-container-id-10 div.sk-label input.sk-toggleable__control:checked~label.sk-toggleable__label {background-color: #d4ebff;}#sk-container-id-10 input.sk-hidden--visually {border: 0;clip: rect(1px 1px 1px 1px);clip: rect(1px, 1px, 1px, 1px);height: 1px;margin: -1px;overflow: hidden;padding: 0;position: absolute;width: 1px;}#sk-container-id-10 div.sk-estimator {font-family: monospace;background-color: #f0f8ff;border: 1px dotted black;border-radius: 0.25em;box-sizing: border-box;margin-bottom: 0.5em;}#sk-container-id-10 div.sk-estimator:hover {background-color: #d4ebff;}#sk-container-id-10 div.sk-parallel-item::after {content: \"\";width: 100%;border-bottom: 1px solid gray;flex-grow: 1;}#sk-container-id-10 div.sk-label:hover label.sk-toggleable__label {background-color: #d4ebff;}#sk-container-id-10 div.sk-serial::before {content: \"\";position: absolute;border-left: 1px solid gray;box-sizing: border-box;top: 0;bottom: 0;left: 50%;z-index: 0;}#sk-container-id-10 div.sk-serial {display: flex;flex-direction: column;align-items: center;background-color: white;padding-right: 0.2em;padding-left: 0.2em;position: relative;}#sk-container-id-10 div.sk-item {position: relative;z-index: 1;}#sk-container-id-10 div.sk-parallel {display: flex;align-items: stretch;justify-content: center;background-color: white;position: relative;}#sk-container-id-10 div.sk-item::before, #sk-container-id-10 div.sk-parallel-item::before {content: \"\";position: absolute;border-left: 1px solid gray;box-sizing: border-box;top: 0;bottom: 0;left: 50%;z-index: -1;}#sk-container-id-10 div.sk-parallel-item {display: flex;flex-direction: column;z-index: 1;position: relative;background-color: white;}#sk-container-id-10 div.sk-parallel-item:first-child::after {align-self: flex-end;width: 50%;}#sk-container-id-10 div.sk-parallel-item:last-child::after {align-self: flex-start;width: 50%;}#sk-container-id-10 div.sk-parallel-item:only-child::after {width: 0;}#sk-container-id-10 div.sk-dashed-wrapped {border: 1px dashed gray;margin: 0 0.4em 0.5em 0.4em;box-sizing: border-box;padding-bottom: 0.4em;background-color: white;}#sk-container-id-10 div.sk-label label {font-family: monospace;font-weight: bold;display: inline-block;line-height: 1.2em;}#sk-container-id-10 div.sk-label-container {text-align: center;}#sk-container-id-10 div.sk-container {/* jupyter's `normalize.less` sets `[hidden] { display: none; }` but bootstrap.min.css set `[hidden] { display: none !important; }` so we also need the `!important` here to be able to override the default hidden behavior on the sphinx rendered scikit-learn.org. See: https://github.com/scikit-learn/scikit-learn/issues/21755 */display: inline-block !important;position: relative;}#sk-container-id-10 div.sk-text-repr-fallback {display: none;}</style><div id=\"sk-container-id-10\" class=\"sk-top-container\"><div class=\"sk-text-repr-fallback\"><pre>Pipeline(steps=[(&#x27;preprocessor&#x27;,\n",
       "                 ColumnTransformer(transformers=[(&#x27;num&#x27;,\n",
       "                                                  Pipeline(steps=[(&#x27;impute_mean&#x27;,\n",
       "                                                                   SimpleImputer()),\n",
       "                                                                  (&#x27;scaler&#x27;,\n",
       "                                                                   StandardScaler())]),\n",
       "                                                  Index([&#x27;Year Built&#x27;, &#x27;Total Bedrooms&#x27;, &#x27;Living Area(SQF)&#x27;,\n",
       "       &#x27;Wholesale (Three Miles)&#x27;, &#x27;Variety Store (Three Miles)&#x27;,\n",
       "       &#x27;Supermarket (Three Miles)&#x27;, &#x27;Supercenter (Three Miles)&#x27;,\n",
       "       &#x27;Convenience (Three Miles)&#x27;, &#x27;Total Bathrooms&#x27;],\n",
       "      dtype=&#x27;object&#x27;))])),\n",
       "                (&#x27;regressor&#x27;, Lasso(random_state=42))])</pre><b>In a Jupyter environment, please rerun this cell to show the HTML representation or trust the notebook. <br />On GitHub, the HTML representation is unable to render, please try loading this page with nbviewer.org.</b></div><div class=\"sk-container\" hidden><div class=\"sk-item sk-dashed-wrapped\"><div class=\"sk-label-container\"><div class=\"sk-label sk-toggleable\"><input class=\"sk-toggleable__control sk-hidden--visually\" id=\"sk-estimator-id-55\" type=\"checkbox\" ><label for=\"sk-estimator-id-55\" class=\"sk-toggleable__label sk-toggleable__label-arrow\">Pipeline</label><div class=\"sk-toggleable__content\"><pre>Pipeline(steps=[(&#x27;preprocessor&#x27;,\n",
       "                 ColumnTransformer(transformers=[(&#x27;num&#x27;,\n",
       "                                                  Pipeline(steps=[(&#x27;impute_mean&#x27;,\n",
       "                                                                   SimpleImputer()),\n",
       "                                                                  (&#x27;scaler&#x27;,\n",
       "                                                                   StandardScaler())]),\n",
       "                                                  Index([&#x27;Year Built&#x27;, &#x27;Total Bedrooms&#x27;, &#x27;Living Area(SQF)&#x27;,\n",
       "       &#x27;Wholesale (Three Miles)&#x27;, &#x27;Variety Store (Three Miles)&#x27;,\n",
       "       &#x27;Supermarket (Three Miles)&#x27;, &#x27;Supercenter (Three Miles)&#x27;,\n",
       "       &#x27;Convenience (Three Miles)&#x27;, &#x27;Total Bathrooms&#x27;],\n",
       "      dtype=&#x27;object&#x27;))])),\n",
       "                (&#x27;regressor&#x27;, Lasso(random_state=42))])</pre></div></div></div><div class=\"sk-serial\"><div class=\"sk-item sk-dashed-wrapped\"><div class=\"sk-label-container\"><div class=\"sk-label sk-toggleable\"><input class=\"sk-toggleable__control sk-hidden--visually\" id=\"sk-estimator-id-56\" type=\"checkbox\" ><label for=\"sk-estimator-id-56\" class=\"sk-toggleable__label sk-toggleable__label-arrow\">preprocessor: ColumnTransformer</label><div class=\"sk-toggleable__content\"><pre>ColumnTransformer(transformers=[(&#x27;num&#x27;,\n",
       "                                 Pipeline(steps=[(&#x27;impute_mean&#x27;,\n",
       "                                                  SimpleImputer()),\n",
       "                                                 (&#x27;scaler&#x27;, StandardScaler())]),\n",
       "                                 Index([&#x27;Year Built&#x27;, &#x27;Total Bedrooms&#x27;, &#x27;Living Area(SQF)&#x27;,\n",
       "       &#x27;Wholesale (Three Miles)&#x27;, &#x27;Variety Store (Three Miles)&#x27;,\n",
       "       &#x27;Supermarket (Three Miles)&#x27;, &#x27;Supercenter (Three Miles)&#x27;,\n",
       "       &#x27;Convenience (Three Miles)&#x27;, &#x27;Total Bathrooms&#x27;],\n",
       "      dtype=&#x27;object&#x27;))])</pre></div></div></div><div class=\"sk-parallel\"><div class=\"sk-parallel-item\"><div class=\"sk-item\"><div class=\"sk-label-container\"><div class=\"sk-label sk-toggleable\"><input class=\"sk-toggleable__control sk-hidden--visually\" id=\"sk-estimator-id-57\" type=\"checkbox\" ><label for=\"sk-estimator-id-57\" class=\"sk-toggleable__label sk-toggleable__label-arrow\">num</label><div class=\"sk-toggleable__content\"><pre>Index([&#x27;Year Built&#x27;, &#x27;Total Bedrooms&#x27;, &#x27;Living Area(SQF)&#x27;,\n",
       "       &#x27;Wholesale (Three Miles)&#x27;, &#x27;Variety Store (Three Miles)&#x27;,\n",
       "       &#x27;Supermarket (Three Miles)&#x27;, &#x27;Supercenter (Three Miles)&#x27;,\n",
       "       &#x27;Convenience (Three Miles)&#x27;, &#x27;Total Bathrooms&#x27;],\n",
       "      dtype=&#x27;object&#x27;)</pre></div></div></div><div class=\"sk-serial\"><div class=\"sk-item\"><div class=\"sk-serial\"><div class=\"sk-item\"><div class=\"sk-estimator sk-toggleable\"><input class=\"sk-toggleable__control sk-hidden--visually\" id=\"sk-estimator-id-58\" type=\"checkbox\" ><label for=\"sk-estimator-id-58\" class=\"sk-toggleable__label sk-toggleable__label-arrow\">SimpleImputer</label><div class=\"sk-toggleable__content\"><pre>SimpleImputer()</pre></div></div></div><div class=\"sk-item\"><div class=\"sk-estimator sk-toggleable\"><input class=\"sk-toggleable__control sk-hidden--visually\" id=\"sk-estimator-id-59\" type=\"checkbox\" ><label for=\"sk-estimator-id-59\" class=\"sk-toggleable__label sk-toggleable__label-arrow\">StandardScaler</label><div class=\"sk-toggleable__content\"><pre>StandardScaler()</pre></div></div></div></div></div></div></div></div></div></div><div class=\"sk-item\"><div class=\"sk-estimator sk-toggleable\"><input class=\"sk-toggleable__control sk-hidden--visually\" id=\"sk-estimator-id-60\" type=\"checkbox\" ><label for=\"sk-estimator-id-60\" class=\"sk-toggleable__label sk-toggleable__label-arrow\">Lasso</label><div class=\"sk-toggleable__content\"><pre>Lasso(random_state=42)</pre></div></div></div></div></div></div></div>"
      ],
      "text/plain": [
       "Pipeline(steps=[('preprocessor',\n",
       "                 ColumnTransformer(transformers=[('num',\n",
       "                                                  Pipeline(steps=[('impute_mean',\n",
       "                                                                   SimpleImputer()),\n",
       "                                                                  ('scaler',\n",
       "                                                                   StandardScaler())]),\n",
       "                                                  Index(['Year Built', 'Total Bedrooms', 'Living Area(SQF)',\n",
       "       'Wholesale (Three Miles)', 'Variety Store (Three Miles)',\n",
       "       'Supermarket (Three Miles)', 'Supercenter (Three Miles)',\n",
       "       'Convenience (Three Miles)', 'Total Bathrooms'],\n",
       "      dtype='object'))])),\n",
       "                ('regressor', Lasso(random_state=42))])"
      ]
     },
     "execution_count": 91,
     "metadata": {},
     "output_type": "execute_result"
    }
   ],
   "source": [
    "from sklearn.linear_model import Lasso\n",
    "lasso_model = Lasso(random_state=42)\n",
    "param_lasso = {\n",
    "    'regressor__alpha': [1.0]\n",
    "}\n",
    "lasso_pipeline_three = Pipeline(steps=[\n",
    "    ('preprocessor', preprocessor_three),\n",
    "    ('regressor', lasso_model),\n",
    "])\n",
    "lasso_search_three = GridSearchCV(\n",
    "    estimator=lasso_pipeline_three,\n",
    "    param_grid=param_lasso,\n",
    "    scoring=['r2', 'neg_mean_squared_error', 'neg_mean_absolute_percentage_error', 'neg_root_mean_squared_error'],\n",
    "    refit='r2', \n",
    "    cv=10,  # Number of cross-validation folds\n",
    "    n_jobs=-1,  # Use all available cores\n",
    "    verbose=2,\n",
    ")\n",
    "lasso_search_three.fit(X_train_three, y_train_three_log)\n",
    "lasso_pipeline_three.fit(X_train_three, y_train_three_log)"
   ]
  },
  {
   "cell_type": "code",
   "execution_count": 92,
   "id": "27201a74-4683-423b-b868-52b798cbc842",
   "metadata": {},
   "outputs": [
    {
     "name": "stdout",
     "output_type": "stream",
     "text": [
      "Best parameters: {'regressor__alpha': 1.0}\n",
      "Best R^2: -0.0004325497656059385\n"
     ]
    }
   ],
   "source": [
    "print(\"Best parameters:\", lasso_search_three.best_params_)\n",
    "print(\"Best R^2:\", lasso_search_three.best_score_)"
   ]
  },
  {
   "cell_type": "code",
   "execution_count": 93,
   "id": "799753b1-01ad-427c-b8cd-dc5045e5ffa3",
   "metadata": {},
   "outputs": [
    {
     "name": "stdout",
     "output_type": "stream",
     "text": [
      "Tuned Validation Set Scores:\n",
      "R²: -0.0000\n",
      "MSE: 0.1093\n",
      "MAPE: 0.0310\n",
      "RMSE: 0.3306\n",
      "\n",
      "Tuned Test Set Scores:\n",
      "R²: -0.0001\n",
      "MSE: 0.1126\n",
      "MAPE: 0.0313\n",
      "RMSE: 0.3355\n",
      "\n",
      "Tuned Train-Val Set Scores:\n",
      "R²: -0.0000\n",
      "MSE: 0.1091\n",
      "MAPE: 0.0309\n",
      "RMSE: 0.3303\n"
     ]
    }
   ],
   "source": [
    "best_model_lasso_three = lasso_search_three.best_estimator_\n",
    "results_lasso_three = lasso_search_three.cv_results_\n",
    "\n",
    "y_val_pred_tuned_lasso_three = best_model_lasso_three.predict(X_val_three)\n",
    "val_scores_lasso_three = calculate_scores(y_val_three_log, y_val_pred_tuned_lasso_three)\n",
    "\n",
    "y_test_pred_tuned_lasso_three = best_model_lasso_three.predict(X_test_three)\n",
    "test_scores_lasso_three = calculate_scores(y_test_three_log, y_test_pred_tuned_lasso_three)\n",
    "\n",
    "y_combined_pred_tuned_lasso_three = best_model_lasso_three.predict(X_train_val_three)\n",
    "combined_scores_lasso_three = calculate_scores(y_combined_three_log, y_combined_pred_tuned_lasso_three)\n",
    "\n",
    "print(\"Tuned Validation Set Scores:\")\n",
    "print(f\"R²: {val_scores_lasso_three[0]:.4f}\")\n",
    "print(f\"MSE: {val_scores_lasso_three[1]:.4f}\")\n",
    "print(f\"MAPE: {val_scores_lasso_three[2]:.4f}\")\n",
    "print(f\"RMSE: {val_scores_lasso_three[3]:.4f}\")\n",
    "\n",
    "print(\"\\nTuned Test Set Scores:\")\n",
    "print(f\"R²: {test_scores_lasso_three[0]:.4f}\")\n",
    "print(f\"MSE: {test_scores_lasso_three[1]:.4f}\")\n",
    "print(f\"MAPE: {test_scores_lasso_three[2]:.4f}\")\n",
    "print(f\"RMSE: {test_scores_lasso_three[3]:.4f}\")\n",
    "\n",
    "print(\"\\nTuned Train-Val Set Scores:\")\n",
    "print(f\"R²: {combined_scores_lasso_three[0]:.4f}\")\n",
    "print(f\"MSE: {combined_scores_lasso_three[1]:.4f}\")\n",
    "print(f\"MAPE: {combined_scores_lasso_three[2]:.4f}\")\n",
    "print(f\"RMSE: {combined_scores_lasso_three[3]:.4f}\")"
   ]
  },
  {
   "cell_type": "code",
   "execution_count": 94,
   "id": "2eb9592e-0ce3-472f-b2a6-19d4f4c5c255",
   "metadata": {},
   "outputs": [
    {
     "data": {
      "image/png": "[encoded data removed]",
      "text/plain": [
       "<Figure size 1000x600 with 1 Axes>"
      ]
     },
     "metadata": {},
     "output_type": "display_data"
    }
   ],
   "source": [
    "# Define the range of alpha values (regularization strength)\n",
    "alphas = np.logspace(-3, 3, 100)  # Try values from 0.001 to 100 on a log scale\n",
    "\n",
    "# Scale the features if needed\n",
    "scaler = StandardScaler()\n",
    "\n",
    "# Initialize an empty array to store coefficients\n",
    "coefs = []\n",
    "\n",
    "# For each alpha, fit Lasso and store the coefficients\n",
    "for alpha in alphas:\n",
    "    lasso = Lasso(alpha=alpha, max_iter=10000)\n",
    "    lasso.fit(transformed_df_three, y_three)\n",
    "    coefs.append(lasso.coef_)\n",
    "\n",
    "# Convert coefficients list to a numpy array for plotting\n",
    "coefs = np.array(coefs)\n",
    "\n",
    "# Plot the regularization path\n",
    "plt.figure(figsize=(10, 6))\n",
    "\n",
    "# Plot each feature’s coefficient path\n",
    "for i, feature in enumerate(['Living Area(SQF)', 'Convenience', 'Supercenter', 'Supermarket', 'Variety Store', 'Wholesale', 'Total Bedrooms', 'Year Built', 'Total Bathrooms']):\n",
    "    plt.plot(alphas, coefs[:, i], label=feature)\n",
    "\n",
    "# Set up plot details\n",
    "plt.xlabel(\"Alpha (Regularization Strength)\")\n",
    "plt.ylabel(\"Coefficient Value\")\n",
    "plt.title(\"Lasso Paths Showing Shrinkage of Coefficients, Density Three Miles\")\n",
    "plt.legend()\n",
    "plt.xscale(\"log\")  # Use a log scale for alpha\n",
    "plt.grid(True)\n",
    "plt.show()"
   ]
  },
  {
   "cell_type": "code",
   "execution_count": null,
   "id": "359871d6-d5b9-469f-9532-d74deb0a2801",
   "metadata": {},
   "outputs": [],
   "source": []
  },
  {
   "cell_type": "code",
   "execution_count": null,
   "id": "c2b63722-ac55-49e4-80f4-430d9c276f9c",
   "metadata": {},
   "outputs": [],
   "source": []
  },
  {
   "cell_type": "code",
   "execution_count": null,
   "id": "5b04e761-f378-43a3-8abf-7ef7728f6613",
   "metadata": {},
   "outputs": [],
   "source": []
  },
  {
   "cell_type": "code",
   "execution_count": null,
   "id": "7b0694db-eb88-4435-b9fe-735acf59eb7e",
   "metadata": {},
   "outputs": [],
   "source": []
  },
  {
   "cell_type": "code",
   "execution_count": null,
   "id": "ed9dad94-a492-467b-90dd-1bd8e8b99a8b",
   "metadata": {},
   "outputs": [],
   "source": []
  },
  {
   "cell_type": "code",
   "execution_count": null,
   "id": "7928e3fe-d0dc-4d71-bc9e-2b7cac7cb8b7",
   "metadata": {},
   "outputs": [],
   "source": []
  },
  {
   "cell_type": "code",
   "execution_count": 147,
   "id": "22bb4313-36ad-4ead-83f1-268215bc56c9",
   "metadata": {},
   "outputs": [],
   "source": [
    "Atlanta_Density_Five = Atlanta_Density.drop(columns=['Wholesale (One Mile)', 'Variety Store (One Mile)', 'Supermarket (One Mile)', 'Supercenter (One Mile)', 'Convenience (One Mile)',\n",
    "                                                    'Wholesale (Three Miles)', 'Variety Store (Three Miles)','Supermarket (Three Miles)','Supercenter (Three Miles)', 'Convenience (Three Miles)'])\n",
    "numeric_features_five = Atlanta_Density_Five.select_dtypes(include=['int64', 'float64']).drop(columns=['current_listing_price']).columns\n",
    "# Helper function to fill 'None' for missing categorical data\n",
    "def fill_none(X):\n",
    "    return X.fillna(\"None\")\n",
    "\n",
    "# Pipeline for numeric features: Impute missing values using mean\n",
    "numeric_transformer_five = Pipeline(steps=[\n",
    "    ('impute_mean', SimpleImputer(strategy='mean')),\n",
    "    ('scaler', StandardScaler())\n",
    "])\n",
    "\n",
    "# Combined preprocessor for numeric and nominal\n",
    "preprocessor_five = ColumnTransformer(\n",
    "    transformers=[\n",
    "        ('num', numeric_transformer_five, numeric_features_five),\n",
    "        #('nominal', categorical_transformer, categorical_features)\n",
    "])\n",
    "\n",
    "transformed_data_five = preprocessor_five.fit_transform(Atlanta_Density_Five)"
   ]
  },
  {
   "cell_type": "code",
   "execution_count": 148,
   "id": "2aa3c524-e714-4d3e-886a-dfa72933d4c2",
   "metadata": {},
   "outputs": [],
   "source": [
    "# Combine all feature names\n",
    "all_feature_names_five = list(numeric_features_five)\n",
    "transformed_df_five = pd.DataFrame(transformed_data_five, columns=all_feature_names_five)"
   ]
  },
  {
   "cell_type": "code",
   "execution_count": 149,
   "id": "7cc1bf83-558b-4e67-9cad-ab02e813020f",
   "metadata": {},
   "outputs": [
    {
     "data": {
      "text/html": [
       "<style>#sk-container-id-15 {color: black;background-color: white;}#sk-container-id-15 pre{padding: 0;}#sk-container-id-15 div.sk-toggleable {background-color: white;}#sk-container-id-15 label.sk-toggleable__label {cursor: pointer;display: block;width: 100%;margin-bottom: 0;padding: 0.3em;box-sizing: border-box;text-align: center;}#sk-container-id-15 label.sk-toggleable__label-arrow:before {content: \"▸\";float: left;margin-right: 0.25em;color: #696969;}#sk-container-id-15 label.sk-toggleable__label-arrow:hover:before {color: black;}#sk-container-id-15 div.sk-estimator:hover label.sk-toggleable__label-arrow:before {color: black;}#sk-container-id-15 div.sk-toggleable__content {max-height: 0;max-width: 0;overflow: hidden;text-align: left;background-color: #f0f8ff;}#sk-container-id-15 div.sk-toggleable__content pre {margin: 0.2em;color: black;border-radius: 0.25em;background-color: #f0f8ff;}#sk-container-id-15 input.sk-toggleable__control:checked~div.sk-toggleable__content {max-height: 200px;max-width: 100%;overflow: auto;}#sk-container-id-15 input.sk-toggleable__control:checked~label.sk-toggleable__label-arrow:before {content: \"▾\";}#sk-container-id-15 div.sk-estimator input.sk-toggleable__control:checked~label.sk-toggleable__label {background-color: #d4ebff;}#sk-container-id-15 div.sk-label input.sk-toggleable__control:checked~label.sk-toggleable__label {background-color: #d4ebff;}#sk-container-id-15 input.sk-hidden--visually {border: 0;clip: rect(1px 1px 1px 1px);clip: rect(1px, 1px, 1px, 1px);height: 1px;margin: -1px;overflow: hidden;padding: 0;position: absolute;width: 1px;}#sk-container-id-15 div.sk-estimator {font-family: monospace;background-color: #f0f8ff;border: 1px dotted black;border-radius: 0.25em;box-sizing: border-box;margin-bottom: 0.5em;}#sk-container-id-15 div.sk-estimator:hover {background-color: #d4ebff;}#sk-container-id-15 div.sk-parallel-item::after {content: \"\";width: 100%;border-bottom: 1px solid gray;flex-grow: 1;}#sk-container-id-15 div.sk-label:hover label.sk-toggleable__label {background-color: #d4ebff;}#sk-container-id-15 div.sk-serial::before {content: \"\";position: absolute;border-left: 1px solid gray;box-sizing: border-box;top: 0;bottom: 0;left: 50%;z-index: 0;}#sk-container-id-15 div.sk-serial {display: flex;flex-direction: column;align-items: center;background-color: white;padding-right: 0.2em;padding-left: 0.2em;position: relative;}#sk-container-id-15 div.sk-item {position: relative;z-index: 1;}#sk-container-id-15 div.sk-parallel {display: flex;align-items: stretch;justify-content: center;background-color: white;position: relative;}#sk-container-id-15 div.sk-item::before, #sk-container-id-15 div.sk-parallel-item::before {content: \"\";position: absolute;border-left: 1px solid gray;box-sizing: border-box;top: 0;bottom: 0;left: 50%;z-index: -1;}#sk-container-id-15 div.sk-parallel-item {display: flex;flex-direction: column;z-index: 1;position: relative;background-color: white;}#sk-container-id-15 div.sk-parallel-item:first-child::after {align-self: flex-end;width: 50%;}#sk-container-id-15 div.sk-parallel-item:last-child::after {align-self: flex-start;width: 50%;}#sk-container-id-15 div.sk-parallel-item:only-child::after {width: 0;}#sk-container-id-15 div.sk-dashed-wrapped {border: 1px dashed gray;margin: 0 0.4em 0.5em 0.4em;box-sizing: border-box;padding-bottom: 0.4em;background-color: white;}#sk-container-id-15 div.sk-label label {font-family: monospace;font-weight: bold;display: inline-block;line-height: 1.2em;}#sk-container-id-15 div.sk-label-container {text-align: center;}#sk-container-id-15 div.sk-container {/* jupyter's `normalize.less` sets `[hidden] { display: none; }` but bootstrap.min.css set `[hidden] { display: none !important; }` so we also need the `!important` here to be able to override the default hidden behavior on the sphinx rendered scikit-learn.org. See: https://github.com/scikit-learn/scikit-learn/issues/21755 */display: inline-block !important;position: relative;}#sk-container-id-15 div.sk-text-repr-fallback {display: none;}</style><div id=\"sk-container-id-15\" class=\"sk-top-container\"><div class=\"sk-text-repr-fallback\"><pre>Pipeline(steps=[(&#x27;preprocessor&#x27;,\n",
       "                 ColumnTransformer(transformers=[(&#x27;num&#x27;,\n",
       "                                                  Pipeline(steps=[(&#x27;impute_mean&#x27;,\n",
       "                                                                   SimpleImputer()),\n",
       "                                                                  (&#x27;scaler&#x27;,\n",
       "                                                                   StandardScaler())]),\n",
       "                                                  Index([&#x27;Year Built&#x27;, &#x27;Total Bedrooms&#x27;, &#x27;Living Area(SQF)&#x27;,\n",
       "       &#x27;Convenience (Five Miles)&#x27;, &#x27;Supercenter (Five Miles)&#x27;,\n",
       "       &#x27;Supermarket (Five Miles)&#x27;, &#x27;Variety Store (Five Miles)&#x27;,\n",
       "       &#x27;Wholesale (Five Miles)&#x27;, &#x27;Total Bathrooms&#x27;],\n",
       "      dtype=&#x27;object&#x27;))])),\n",
       "                (&#x27;regressor&#x27;, LinearRegression())])</pre><b>In a Jupyter environment, please rerun this cell to show the HTML representation or trust the notebook. <br />On GitHub, the HTML representation is unable to render, please try loading this page with nbviewer.org.</b></div><div class=\"sk-container\" hidden><div class=\"sk-item sk-dashed-wrapped\"><div class=\"sk-label-container\"><div class=\"sk-label sk-toggleable\"><input class=\"sk-toggleable__control sk-hidden--visually\" id=\"sk-estimator-id-85\" type=\"checkbox\" ><label for=\"sk-estimator-id-85\" class=\"sk-toggleable__label sk-toggleable__label-arrow\">Pipeline</label><div class=\"sk-toggleable__content\"><pre>Pipeline(steps=[(&#x27;preprocessor&#x27;,\n",
       "                 ColumnTransformer(transformers=[(&#x27;num&#x27;,\n",
       "                                                  Pipeline(steps=[(&#x27;impute_mean&#x27;,\n",
       "                                                                   SimpleImputer()),\n",
       "                                                                  (&#x27;scaler&#x27;,\n",
       "                                                                   StandardScaler())]),\n",
       "                                                  Index([&#x27;Year Built&#x27;, &#x27;Total Bedrooms&#x27;, &#x27;Living Area(SQF)&#x27;,\n",
       "       &#x27;Convenience (Five Miles)&#x27;, &#x27;Supercenter (Five Miles)&#x27;,\n",
       "       &#x27;Supermarket (Five Miles)&#x27;, &#x27;Variety Store (Five Miles)&#x27;,\n",
       "       &#x27;Wholesale (Five Miles)&#x27;, &#x27;Total Bathrooms&#x27;],\n",
       "      dtype=&#x27;object&#x27;))])),\n",
       "                (&#x27;regressor&#x27;, LinearRegression())])</pre></div></div></div><div class=\"sk-serial\"><div class=\"sk-item sk-dashed-wrapped\"><div class=\"sk-label-container\"><div class=\"sk-label sk-toggleable\"><input class=\"sk-toggleable__control sk-hidden--visually\" id=\"sk-estimator-id-86\" type=\"checkbox\" ><label for=\"sk-estimator-id-86\" class=\"sk-toggleable__label sk-toggleable__label-arrow\">preprocessor: ColumnTransformer</label><div class=\"sk-toggleable__content\"><pre>ColumnTransformer(transformers=[(&#x27;num&#x27;,\n",
       "                                 Pipeline(steps=[(&#x27;impute_mean&#x27;,\n",
       "                                                  SimpleImputer()),\n",
       "                                                 (&#x27;scaler&#x27;, StandardScaler())]),\n",
       "                                 Index([&#x27;Year Built&#x27;, &#x27;Total Bedrooms&#x27;, &#x27;Living Area(SQF)&#x27;,\n",
       "       &#x27;Convenience (Five Miles)&#x27;, &#x27;Supercenter (Five Miles)&#x27;,\n",
       "       &#x27;Supermarket (Five Miles)&#x27;, &#x27;Variety Store (Five Miles)&#x27;,\n",
       "       &#x27;Wholesale (Five Miles)&#x27;, &#x27;Total Bathrooms&#x27;],\n",
       "      dtype=&#x27;object&#x27;))])</pre></div></div></div><div class=\"sk-parallel\"><div class=\"sk-parallel-item\"><div class=\"sk-item\"><div class=\"sk-label-container\"><div class=\"sk-label sk-toggleable\"><input class=\"sk-toggleable__control sk-hidden--visually\" id=\"sk-estimator-id-87\" type=\"checkbox\" ><label for=\"sk-estimator-id-87\" class=\"sk-toggleable__label sk-toggleable__label-arrow\">num</label><div class=\"sk-toggleable__content\"><pre>Index([&#x27;Year Built&#x27;, &#x27;Total Bedrooms&#x27;, &#x27;Living Area(SQF)&#x27;,\n",
       "       &#x27;Convenience (Five Miles)&#x27;, &#x27;Supercenter (Five Miles)&#x27;,\n",
       "       &#x27;Supermarket (Five Miles)&#x27;, &#x27;Variety Store (Five Miles)&#x27;,\n",
       "       &#x27;Wholesale (Five Miles)&#x27;, &#x27;Total Bathrooms&#x27;],\n",
       "      dtype=&#x27;object&#x27;)</pre></div></div></div><div class=\"sk-serial\"><div class=\"sk-item\"><div class=\"sk-serial\"><div class=\"sk-item\"><div class=\"sk-estimator sk-toggleable\"><input class=\"sk-toggleable__control sk-hidden--visually\" id=\"sk-estimator-id-88\" type=\"checkbox\" ><label for=\"sk-estimator-id-88\" class=\"sk-toggleable__label sk-toggleable__label-arrow\">SimpleImputer</label><div class=\"sk-toggleable__content\"><pre>SimpleImputer()</pre></div></div></div><div class=\"sk-item\"><div class=\"sk-estimator sk-toggleable\"><input class=\"sk-toggleable__control sk-hidden--visually\" id=\"sk-estimator-id-89\" type=\"checkbox\" ><label for=\"sk-estimator-id-89\" class=\"sk-toggleable__label sk-toggleable__label-arrow\">StandardScaler</label><div class=\"sk-toggleable__content\"><pre>StandardScaler()</pre></div></div></div></div></div></div></div></div></div></div><div class=\"sk-item\"><div class=\"sk-estimator sk-toggleable\"><input class=\"sk-toggleable__control sk-hidden--visually\" id=\"sk-estimator-id-90\" type=\"checkbox\" ><label for=\"sk-estimator-id-90\" class=\"sk-toggleable__label sk-toggleable__label-arrow\">LinearRegression</label><div class=\"sk-toggleable__content\"><pre>LinearRegression()</pre></div></div></div></div></div></div></div>"
      ],
      "text/plain": [
       "Pipeline(steps=[('preprocessor',\n",
       "                 ColumnTransformer(transformers=[('num',\n",
       "                                                  Pipeline(steps=[('impute_mean',\n",
       "                                                                   SimpleImputer()),\n",
       "                                                                  ('scaler',\n",
       "                                                                   StandardScaler())]),\n",
       "                                                  Index(['Year Built', 'Total Bedrooms', 'Living Area(SQF)',\n",
       "       'Convenience (Five Miles)', 'Supercenter (Five Miles)',\n",
       "       'Supermarket (Five Miles)', 'Variety Store (Five Miles)',\n",
       "       'Wholesale (Five Miles)', 'Total Bathrooms'],\n",
       "      dtype='object'))])),\n",
       "                ('regressor', LinearRegression())])"
      ]
     },
     "execution_count": 149,
     "metadata": {},
     "output_type": "execute_result"
    }
   ],
   "source": [
    "from sklearn.linear_model import LinearRegression\n",
    "model = LinearRegression()\n",
    "\n",
    "# Target variable\n",
    "y_five = Atlanta_Density_Five['current_listing_price']\n",
    "# All features\n",
    "X_five = Atlanta_Density_Five.drop(columns='current_listing_price')\n",
    "\n",
    "pipeline_five = Pipeline([\n",
    "    ('preprocessor', preprocessor_five),\n",
    "    ('regressor', model)\n",
    "])\n",
    "\n",
    "X_train_val_five, X_test_five, y_train_val_five, y_test_five = train_test_split(X_five, y_five, test_size=0.2, random_state=42)\n",
    "X_train_five, X_val_five, y_train_five, y_val_five = train_test_split(X_train_val_five, y_train_val_five, test_size=0.25, random_state=42)\n",
    "\n",
    "y_train_five_log = np.log1p(y_train_five)  \n",
    "y_val_five_log = np.log1p(y_val_five)\n",
    "y_test_five_log = np.log1p(y_test_five)\n",
    "y_combined_five_log = np.log1p(y_train_val_five)\n",
    "\n",
    "# Fit the model pipeline\n",
    "pipeline_five.fit(X_train_five, y_train_five_log)"
   ]
  },
  {
   "cell_type": "code",
   "execution_count": 150,
   "id": "4f7bfe1b-a8aa-4134-8b8a-b02495f9e8a6",
   "metadata": {},
   "outputs": [
    {
     "name": "stdout",
     "output_type": "stream",
     "text": [
      "Validation R^2: 0.4843100800310909\n",
      "Test R^2: 0.4057159224435276\n",
      "Combined R^2: 0.4773059263293842\n"
     ]
    }
   ],
   "source": [
    "val_score_five = pipeline_five.score(X_val_five, y_val_five_log)\n",
    "print('Validation R^2:', val_score_five)\n",
    "\n",
    "test_score_five = pipeline_five.score(X_test_five, y_test_five_log)\n",
    "print('Test R^2:', test_score_five)\n",
    "\n",
    "combined_score_five = pipeline_five.score(X_train_val_five, y_combined_five_log)\n",
    "print('Combined R^2:', combined_score_five)"
   ]
  },
  {
   "cell_type": "code",
   "execution_count": 151,
   "id": "95da4d1e-f74b-4491-b2d4-a0278a5979b2",
   "metadata": {},
   "outputs": [
    {
     "name": "stdout",
     "output_type": "stream",
     "text": [
      "Validation Mean Squared Error: 0.0563748136887609\n",
      "Validation Root Mean Squared Error: 0.23743380906846628\n",
      "Test Mean Squared Error: 0.06689266788769031\n",
      "Test Root Mean Squared Error: 0.2586361689472111\n",
      "Combined Mean Squared Error: 0.057032664415003334\n",
      "Combined Root Mean Squared Error: 0.23881512601802118\n"
     ]
    }
   ],
   "source": [
    "y_val_pred_five = pipeline_five.predict(X_val_five)\n",
    "\n",
    "val_mse_five = mean_squared_error(y_val_five_log, y_val_pred_five)\n",
    "print('Validation Mean Squared Error:', val_mse_five)\n",
    "val_rmse_five = np.sqrt(val_mse_five)\n",
    "print(\"Validation Root Mean Squared Error:\", val_rmse_five)\n",
    "\n",
    "y_test_pred_five = pipeline_five.predict(X_test_five)\n",
    "\n",
    "test_mse_five = mean_squared_error(y_test_five_log, y_test_pred_five)\n",
    "print('Test Mean Squared Error:', test_mse_five)\n",
    "test_rmse_five = np.sqrt(test_mse_five)\n",
    "print(\"Test Root Mean Squared Error:\", test_rmse_five)\n",
    "\n",
    "y_combined_pred_five = pipeline_five.predict(X_train_val_five)\n",
    "\n",
    "combined_mse_five = mean_squared_error(y_combined_five_log, y_combined_pred_five)\n",
    "print('Combined Mean Squared Error:', combined_mse_five)\n",
    "combined_rmse_five = np.sqrt(combined_mse_five)\n",
    "print(\"Combined Root Mean Squared Error:\", combined_rmse_five)"
   ]
  },
  {
   "cell_type": "code",
   "execution_count": 152,
   "id": "7b4debb0-5390-4d56-a3f6-0ff5af6b0cd4",
   "metadata": {},
   "outputs": [
    {
     "name": "stdout",
     "output_type": "stream",
     "text": [
      "Validation Mean Absolute Percentage Error (MAPE): 2.105163953062824\n",
      "Test Mean Absolute Percentage Error (MAPE): 2.1499749572008797\n",
      "Combined Mean Absolute Percentage Error (MAPE): 2.1326226427133212\n"
     ]
    }
   ],
   "source": [
    "val_mape_five = calculate_mape(y_val_five_log, y_val_pred_five)\n",
    "test_mape_five = calculate_mape(y_test_five_log, y_test_pred_five)\n",
    "combined_mape_five = calculate_mape(y_combined_five_log, y_combined_pred_five)\n",
    "\n",
    "print(\"Validation Mean Absolute Percentage Error (MAPE):\", val_mape_five)\n",
    "print(\"Test Mean Absolute Percentage Error (MAPE):\", test_mape_five)  # A lower MAPE value indicates a more accurate prediction\n",
    "print(\"Combined Mean Absolute Percentage Error (MAPE):\", combined_mape_five)"
   ]
  },
  {
   "cell_type": "code",
   "execution_count": 153,
   "id": "57111f88-c81b-4997-ae52-c3bd9878b637",
   "metadata": {},
   "outputs": [
    {
     "name": "stdout",
     "output_type": "stream",
     "text": [
      "Coefficients Five Miles (MLE): [ 0.02497518  0.07542544  0.07111349  0.04963029  0.01052802  0.09971422\n",
      " -0.03541253 -0.02459642  0.08473484]\n",
      "Intercept (MLE): 7.669291945520549\n"
     ]
    }
   ],
   "source": [
    "coefficients_five = pipeline_five.named_steps['regressor'].coef_\n",
    "intercept_five = pipeline_five.named_steps['regressor'].intercept_\n",
    "\n",
    "# Display the coefficients\n",
    "print(\"Coefficients Five Miles (MLE):\", coefficients_five)\n",
    "print(\"Intercept (MLE):\", intercept_five)"
   ]
  },
  {
   "cell_type": "code",
   "execution_count": 154,
   "id": "4b5b12f0-2d03-4b81-996a-c8a85af8bbbe",
   "metadata": {},
   "outputs": [
    {
     "name": "stdout",
     "output_type": "stream",
     "text": [
      "                      Feature  Coefficient Five Miles (MLE)\n",
      "9                   Intercept                      7.669292\n",
      "5    Supermarket (Five Miles)                      0.099714\n",
      "8             Total Bathrooms                      0.084735\n",
      "1              Total Bedrooms                      0.075425\n",
      "2            Living Area(SQF)                      0.071113\n",
      "3    Convenience (Five Miles)                      0.049630\n",
      "0                  Year Built                      0.024975\n",
      "4    Supercenter (Five Miles)                      0.010528\n",
      "7      Wholesale (Five Miles)                     -0.024596\n",
      "6  Variety Store (Five Miles)                     -0.035413\n"
     ]
    }
   ],
   "source": [
    "coef_df_five = pd.DataFrame({\n",
    "    'Feature': all_feature_names_five,\n",
    "    'Coefficient Five Miles (MLE)': coefficients_five\n",
    "})\n",
    "intercept_row_five = pd.DataFrame({'Feature': ['Intercept'], 'Coefficient Five Miles (MLE)': [intercept_five]})\n",
    "coef_df_five = pd.concat([coef_df_five, intercept_row_five], ignore_index=True)\n",
    "\n",
    "coef_df_five['Absolute Coefficient'] = coef_df_five['Coefficient Five Miles (MLE)']  # Create a new column for absolute values\n",
    "coef_df_five = coef_df_five.sort_values(by='Absolute Coefficient', ascending=False).drop(columns='Absolute Coefficient')  # Sort and drop the temporary column\n",
    "\n",
    "# Display the coefficients with feature names sorted\n",
    "print(coef_df_five)"
   ]
  },
  {
   "cell_type": "code",
   "execution_count": 155,
   "id": "feba02e4-7d07-4710-9271-fb190d1219bb",
   "metadata": {},
   "outputs": [
    {
     "name": "stdout",
     "output_type": "stream",
     "text": [
      "Fitting 10 folds for each of 1 candidates, totalling 10 fits\n",
      "Best parameters: {'regressor__alpha': 100}\n",
      "Best R^2: 0.47168212754298333\n"
     ]
    }
   ],
   "source": [
    "ridge_model = Ridge(random_state=42)\n",
    "param_five = {\n",
    "    'regressor__alpha': [100]\n",
    "}\n",
    "ridge_pipeline_five = Pipeline(steps=[\n",
    "    ('preprocessor', preprocessor_five),\n",
    "    ('regressor', ridge_model),\n",
    "])\n",
    "ridge_search_five = GridSearchCV(\n",
    "    estimator=ridge_pipeline_five,\n",
    "    param_grid=param_five,\n",
    "    scoring=['r2', 'neg_mean_squared_error', 'neg_mean_absolute_percentage_error', 'neg_root_mean_squared_error'],\n",
    "    refit='r2', \n",
    "    cv=10,  # Number of cross-validation folds\n",
    "    n_jobs=-1,  # Use all available cores\n",
    "    verbose=2,\n",
    ")\n",
    "\n",
    "# Fit RandomizedSearchCV\n",
    "ridge_search_five.fit(X_train_five, y_train_five_log)\n",
    "ridge_pipeline_five.fit(X_train_five, y_train_five_log)\n",
    "print(\"Best parameters:\", ridge_search_five.best_params_)\n",
    "print(\"Best R^2:\", ridge_search_five.best_score_)"
   ]
  },
  {
   "cell_type": "code",
   "execution_count": 156,
   "id": "d3c72849-3f93-4692-83af-6c07896304ca",
   "metadata": {},
   "outputs": [
    {
     "name": "stdout",
     "output_type": "stream",
     "text": [
      "Tuned Validation Set Scores:\n",
      "R²: 0.4842\n",
      "MSE: 0.0564\n",
      "MAPE: 0.0210\n",
      "RMSE: 0.2375\n",
      "\n",
      "Tuned Test Set Scores:\n",
      "R²: 0.4059\n",
      "MSE: 0.0669\n",
      "MAPE: 0.0215\n",
      "RMSE: 0.2586\n",
      "\n",
      "Tuned Train-Val Set Scores:\n",
      "R²: 0.4773\n",
      "MSE: 0.0570\n",
      "MAPE: 0.0213\n",
      "RMSE: 0.2388\n"
     ]
    }
   ],
   "source": [
    "best_model_ridge_five = ridge_search_five.best_estimator_\n",
    "results_ridge_five = ridge_search_five.cv_results_\n",
    "y_val_pred_tuned_ridge_five = best_model_ridge_five.predict(X_val_five)\n",
    "val_scores_ridge_five = calculate_scores(y_val_five_log, y_val_pred_tuned_ridge_five)\n",
    "\n",
    "y_test_pred_tuned_ridge_five = best_model_ridge_five.predict(X_test_five)\n",
    "test_scores_ridge_five = calculate_scores(y_test_five_log, y_test_pred_tuned_ridge_five)\n",
    "\n",
    "y_combined_pred_tuned_ridge_five = best_model_ridge_five.predict(X_train_val_five)\n",
    "combined_scores_ridge_five = calculate_scores(y_combined_five_log, y_combined_pred_tuned_ridge_five)\n",
    "\n",
    "print(\"Tuned Validation Set Scores:\")\n",
    "print(f\"R²: {val_scores_ridge_five[0]:.4f}\")\n",
    "print(f\"MSE: {val_scores_ridge_five[1]:.4f}\")\n",
    "print(f\"MAPE: {val_scores_ridge_five[2]:.4f}\")\n",
    "print(f\"RMSE: {val_scores_ridge_five[3]:.4f}\")\n",
    "\n",
    "print(\"\\nTuned Test Set Scores:\")\n",
    "print(f\"R²: {test_scores_ridge_five[0]:.4f}\")\n",
    "print(f\"MSE: {test_scores_ridge_five[1]:.4f}\")\n",
    "print(f\"MAPE: {test_scores_ridge_five[2]:.4f}\")\n",
    "print(f\"RMSE: {test_scores_ridge_five[3]:.4f}\")\n",
    "\n",
    "print(\"\\nTuned Train-Val Set Scores:\")\n",
    "print(f\"R²: {combined_scores_ridge_five[0]:.4f}\")\n",
    "print(f\"MSE: {combined_scores_ridge_five[1]:.4f}\")\n",
    "print(f\"MAPE: {combined_scores_ridge_five[2]:.4f}\")\n",
    "print(f\"RMSE: {combined_scores_ridge_five[3]:.4f}\")"
   ]
  },
  {
   "cell_type": "code",
   "execution_count": 157,
   "id": "8d5869dd-978f-4d13-baa1-1d5755673127",
   "metadata": {},
   "outputs": [],
   "source": [
    "coefficients_five = ridge_pipeline_five.named_steps['regressor'].coef_\n",
    "intercept_five = ridge_pipeline_five.named_steps['regressor'].intercept_"
   ]
  },
  {
   "cell_type": "code",
   "execution_count": 158,
   "id": "abfc17e0-3694-4950-bbdc-c3342617cf90",
   "metadata": {},
   "outputs": [
    {
     "name": "stdout",
     "output_type": "stream",
     "text": [
      "                      Feature  Coefficient Five Miles (MLE)\n",
      "9                   Intercept                      7.669292\n",
      "5    Supermarket (Five Miles)                      0.099705\n",
      "8             Total Bathrooms                      0.084733\n",
      "1              Total Bedrooms                      0.075421\n",
      "2            Living Area(SQF)                      0.071111\n",
      "3    Convenience (Five Miles)                      0.049625\n",
      "0                  Year Built                      0.024973\n",
      "4    Supercenter (Five Miles)                      0.010530\n",
      "7      Wholesale (Five Miles)                     -0.024593\n",
      "6  Variety Store (Five Miles)                     -0.035407\n"
     ]
    }
   ],
   "source": [
    "coef_df_ridge_five = pd.DataFrame({\n",
    "    'Feature': all_feature_names_five,\n",
    "    'Coefficient Five Miles (MLE)': coefficients_five\n",
    "})\n",
    "\n",
    "#Add intercept row\n",
    "intercept_row_five = pd.DataFrame({'Feature': ['Intercept'], 'Coefficient Five Miles (MLE)': [intercept]})\n",
    "coef_df_ridge_five = pd.concat([coef_df_ridge_five, intercept_row_five], ignore_index=True)\n",
    "\n",
    "# Sort the coefficients by absolute value in descending order\n",
    "coef_df_ridge_five['Absolute Coefficient'] = coef_df_ridge_five['Coefficient Five Miles (MLE)']  # Create a new column for absolute values\n",
    "coef_df_ridge_five = coef_df_ridge_five.sort_values(by='Absolute Coefficient', ascending=False).drop(columns='Absolute Coefficient')  # Sort and drop the temporary column\n",
    "\n",
    "# Display the coefficients with feature names sorted\n",
    "print(coef_df_ridge_five)"
   ]
  },
  {
   "cell_type": "code",
   "execution_count": 107,
   "id": "bd1dcb4c-c052-4f0b-af0d-baa758936ec5",
   "metadata": {},
   "outputs": [
    {
     "name": "stdout",
     "output_type": "stream",
     "text": [
      "Fitting 10 folds for each of 1 candidates, totalling 10 fits\n"
     ]
    },
    {
     "data": {
      "text/html": [
       "<style>#sk-container-id-12 {color: black;background-color: white;}#sk-container-id-12 pre{padding: 0;}#sk-container-id-12 div.sk-toggleable {background-color: white;}#sk-container-id-12 label.sk-toggleable__label {cursor: pointer;display: block;width: 100%;margin-bottom: 0;padding: 0.3em;box-sizing: border-box;text-align: center;}#sk-container-id-12 label.sk-toggleable__label-arrow:before {content: \"▸\";float: left;margin-right: 0.25em;color: #696969;}#sk-container-id-12 label.sk-toggleable__label-arrow:hover:before {color: black;}#sk-container-id-12 div.sk-estimator:hover label.sk-toggleable__label-arrow:before {color: black;}#sk-container-id-12 div.sk-toggleable__content {max-height: 0;max-width: 0;overflow: hidden;text-align: left;background-color: #f0f8ff;}#sk-container-id-12 div.sk-toggleable__content pre {margin: 0.2em;color: black;border-radius: 0.25em;background-color: #f0f8ff;}#sk-container-id-12 input.sk-toggleable__control:checked~div.sk-toggleable__content {max-height: 200px;max-width: 100%;overflow: auto;}#sk-container-id-12 input.sk-toggleable__control:checked~label.sk-toggleable__label-arrow:before {content: \"▾\";}#sk-container-id-12 div.sk-estimator input.sk-toggleable__control:checked~label.sk-toggleable__label {background-color: #d4ebff;}#sk-container-id-12 div.sk-label input.sk-toggleable__control:checked~label.sk-toggleable__label {background-color: #d4ebff;}#sk-container-id-12 input.sk-hidden--visually {border: 0;clip: rect(1px 1px 1px 1px);clip: rect(1px, 1px, 1px, 1px);height: 1px;margin: -1px;overflow: hidden;padding: 0;position: absolute;width: 1px;}#sk-container-id-12 div.sk-estimator {font-family: monospace;background-color: #f0f8ff;border: 1px dotted black;border-radius: 0.25em;box-sizing: border-box;margin-bottom: 0.5em;}#sk-container-id-12 div.sk-estimator:hover {background-color: #d4ebff;}#sk-container-id-12 div.sk-parallel-item::after {content: \"\";width: 100%;border-bottom: 1px solid gray;flex-grow: 1;}#sk-container-id-12 div.sk-label:hover label.sk-toggleable__label {background-color: #d4ebff;}#sk-container-id-12 div.sk-serial::before {content: \"\";position: absolute;border-left: 1px solid gray;box-sizing: border-box;top: 0;bottom: 0;left: 50%;z-index: 0;}#sk-container-id-12 div.sk-serial {display: flex;flex-direction: column;align-items: center;background-color: white;padding-right: 0.2em;padding-left: 0.2em;position: relative;}#sk-container-id-12 div.sk-item {position: relative;z-index: 1;}#sk-container-id-12 div.sk-parallel {display: flex;align-items: stretch;justify-content: center;background-color: white;position: relative;}#sk-container-id-12 div.sk-item::before, #sk-container-id-12 div.sk-parallel-item::before {content: \"\";position: absolute;border-left: 1px solid gray;box-sizing: border-box;top: 0;bottom: 0;left: 50%;z-index: -1;}#sk-container-id-12 div.sk-parallel-item {display: flex;flex-direction: column;z-index: 1;position: relative;background-color: white;}#sk-container-id-12 div.sk-parallel-item:first-child::after {align-self: flex-end;width: 50%;}#sk-container-id-12 div.sk-parallel-item:last-child::after {align-self: flex-start;width: 50%;}#sk-container-id-12 div.sk-parallel-item:only-child::after {width: 0;}#sk-container-id-12 div.sk-dashed-wrapped {border: 1px dashed gray;margin: 0 0.4em 0.5em 0.4em;box-sizing: border-box;padding-bottom: 0.4em;background-color: white;}#sk-container-id-12 div.sk-label label {font-family: monospace;font-weight: bold;display: inline-block;line-height: 1.2em;}#sk-container-id-12 div.sk-label-container {text-align: center;}#sk-container-id-12 div.sk-container {/* jupyter's `normalize.less` sets `[hidden] { display: none; }` but bootstrap.min.css set `[hidden] { display: none !important; }` so we also need the `!important` here to be able to override the default hidden behavior on the sphinx rendered scikit-learn.org. See: https://github.com/scikit-learn/scikit-learn/issues/21755 */display: inline-block !important;position: relative;}#sk-container-id-12 div.sk-text-repr-fallback {display: none;}</style><div id=\"sk-container-id-12\" class=\"sk-top-container\"><div class=\"sk-text-repr-fallback\"><pre>Pipeline(steps=[(&#x27;preprocessor&#x27;,\n",
       "                 ColumnTransformer(transformers=[(&#x27;num&#x27;,\n",
       "                                                  Pipeline(steps=[(&#x27;impute_mean&#x27;,\n",
       "                                                                   SimpleImputer()),\n",
       "                                                                  (&#x27;scaler&#x27;,\n",
       "                                                                   StandardScaler())]),\n",
       "                                                  Index([&#x27;Year Built&#x27;, &#x27;Total Bedrooms&#x27;, &#x27;Living Area(SQF)&#x27;,\n",
       "       &#x27;Convenience (Five Miles)&#x27;, &#x27;Supercenter (Five Miles)&#x27;,\n",
       "       &#x27;Supermarket (Five Miles)&#x27;, &#x27;Variety Store (Five Miles)&#x27;,\n",
       "       &#x27;Wholesale (Five Miles)&#x27;, &#x27;Total Bathrooms&#x27;],\n",
       "      dtype=&#x27;object&#x27;))])),\n",
       "                (&#x27;regressor&#x27;, Lasso(random_state=42))])</pre><b>In a Jupyter environment, please rerun this cell to show the HTML representation or trust the notebook. <br />On GitHub, the HTML representation is unable to render, please try loading this page with nbviewer.org.</b></div><div class=\"sk-container\" hidden><div class=\"sk-item sk-dashed-wrapped\"><div class=\"sk-label-container\"><div class=\"sk-label sk-toggleable\"><input class=\"sk-toggleable__control sk-hidden--visually\" id=\"sk-estimator-id-67\" type=\"checkbox\" ><label for=\"sk-estimator-id-67\" class=\"sk-toggleable__label sk-toggleable__label-arrow\">Pipeline</label><div class=\"sk-toggleable__content\"><pre>Pipeline(steps=[(&#x27;preprocessor&#x27;,\n",
       "                 ColumnTransformer(transformers=[(&#x27;num&#x27;,\n",
       "                                                  Pipeline(steps=[(&#x27;impute_mean&#x27;,\n",
       "                                                                   SimpleImputer()),\n",
       "                                                                  (&#x27;scaler&#x27;,\n",
       "                                                                   StandardScaler())]),\n",
       "                                                  Index([&#x27;Year Built&#x27;, &#x27;Total Bedrooms&#x27;, &#x27;Living Area(SQF)&#x27;,\n",
       "       &#x27;Convenience (Five Miles)&#x27;, &#x27;Supercenter (Five Miles)&#x27;,\n",
       "       &#x27;Supermarket (Five Miles)&#x27;, &#x27;Variety Store (Five Miles)&#x27;,\n",
       "       &#x27;Wholesale (Five Miles)&#x27;, &#x27;Total Bathrooms&#x27;],\n",
       "      dtype=&#x27;object&#x27;))])),\n",
       "                (&#x27;regressor&#x27;, Lasso(random_state=42))])</pre></div></div></div><div class=\"sk-serial\"><div class=\"sk-item sk-dashed-wrapped\"><div class=\"sk-label-container\"><div class=\"sk-label sk-toggleable\"><input class=\"sk-toggleable__control sk-hidden--visually\" id=\"sk-estimator-id-68\" type=\"checkbox\" ><label for=\"sk-estimator-id-68\" class=\"sk-toggleable__label sk-toggleable__label-arrow\">preprocessor: ColumnTransformer</label><div class=\"sk-toggleable__content\"><pre>ColumnTransformer(transformers=[(&#x27;num&#x27;,\n",
       "                                 Pipeline(steps=[(&#x27;impute_mean&#x27;,\n",
       "                                                  SimpleImputer()),\n",
       "                                                 (&#x27;scaler&#x27;, StandardScaler())]),\n",
       "                                 Index([&#x27;Year Built&#x27;, &#x27;Total Bedrooms&#x27;, &#x27;Living Area(SQF)&#x27;,\n",
       "       &#x27;Convenience (Five Miles)&#x27;, &#x27;Supercenter (Five Miles)&#x27;,\n",
       "       &#x27;Supermarket (Five Miles)&#x27;, &#x27;Variety Store (Five Miles)&#x27;,\n",
       "       &#x27;Wholesale (Five Miles)&#x27;, &#x27;Total Bathrooms&#x27;],\n",
       "      dtype=&#x27;object&#x27;))])</pre></div></div></div><div class=\"sk-parallel\"><div class=\"sk-parallel-item\"><div class=\"sk-item\"><div class=\"sk-label-container\"><div class=\"sk-label sk-toggleable\"><input class=\"sk-toggleable__control sk-hidden--visually\" id=\"sk-estimator-id-69\" type=\"checkbox\" ><label for=\"sk-estimator-id-69\" class=\"sk-toggleable__label sk-toggleable__label-arrow\">num</label><div class=\"sk-toggleable__content\"><pre>Index([&#x27;Year Built&#x27;, &#x27;Total Bedrooms&#x27;, &#x27;Living Area(SQF)&#x27;,\n",
       "       &#x27;Convenience (Five Miles)&#x27;, &#x27;Supercenter (Five Miles)&#x27;,\n",
       "       &#x27;Supermarket (Five Miles)&#x27;, &#x27;Variety Store (Five Miles)&#x27;,\n",
       "       &#x27;Wholesale (Five Miles)&#x27;, &#x27;Total Bathrooms&#x27;],\n",
       "      dtype=&#x27;object&#x27;)</pre></div></div></div><div class=\"sk-serial\"><div class=\"sk-item\"><div class=\"sk-serial\"><div class=\"sk-item\"><div class=\"sk-estimator sk-toggleable\"><input class=\"sk-toggleable__control sk-hidden--visually\" id=\"sk-estimator-id-70\" type=\"checkbox\" ><label for=\"sk-estimator-id-70\" class=\"sk-toggleable__label sk-toggleable__label-arrow\">SimpleImputer</label><div class=\"sk-toggleable__content\"><pre>SimpleImputer()</pre></div></div></div><div class=\"sk-item\"><div class=\"sk-estimator sk-toggleable\"><input class=\"sk-toggleable__control sk-hidden--visually\" id=\"sk-estimator-id-71\" type=\"checkbox\" ><label for=\"sk-estimator-id-71\" class=\"sk-toggleable__label sk-toggleable__label-arrow\">StandardScaler</label><div class=\"sk-toggleable__content\"><pre>StandardScaler()</pre></div></div></div></div></div></div></div></div></div></div><div class=\"sk-item\"><div class=\"sk-estimator sk-toggleable\"><input class=\"sk-toggleable__control sk-hidden--visually\" id=\"sk-estimator-id-72\" type=\"checkbox\" ><label for=\"sk-estimator-id-72\" class=\"sk-toggleable__label sk-toggleable__label-arrow\">Lasso</label><div class=\"sk-toggleable__content\"><pre>Lasso(random_state=42)</pre></div></div></div></div></div></div></div>"
      ],
      "text/plain": [
       "Pipeline(steps=[('preprocessor',\n",
       "                 ColumnTransformer(transformers=[('num',\n",
       "                                                  Pipeline(steps=[('impute_mean',\n",
       "                                                                   SimpleImputer()),\n",
       "                                                                  ('scaler',\n",
       "                                                                   StandardScaler())]),\n",
       "                                                  Index(['Year Built', 'Total Bedrooms', 'Living Area(SQF)',\n",
       "       'Convenience (Five Miles)', 'Supercenter (Five Miles)',\n",
       "       'Supermarket (Five Miles)', 'Variety Store (Five Miles)',\n",
       "       'Wholesale (Five Miles)', 'Total Bathrooms'],\n",
       "      dtype='object'))])),\n",
       "                ('regressor', Lasso(random_state=42))])"
      ]
     },
     "execution_count": 107,
     "metadata": {},
     "output_type": "execute_result"
    }
   ],
   "source": [
    "from sklearn.linear_model import Lasso\n",
    "lasso_model = Lasso(random_state=42)\n",
    "param_lasso = {\n",
    "    'regressor__alpha': [1.0]\n",
    "}\n",
    "lasso_pipeline_five = Pipeline(steps=[\n",
    "    ('preprocessor', preprocessor_five),\n",
    "    ('regressor', lasso_model),\n",
    "])\n",
    "lasso_search_five = GridSearchCV(\n",
    "    estimator=lasso_pipeline_five,\n",
    "    param_grid=param_lasso,\n",
    "    scoring=['r2', 'neg_mean_squared_error', 'neg_mean_absolute_percentage_error', 'neg_root_mean_squared_error'],\n",
    "    refit='r2', \n",
    "    cv=10,  # Number of cross-validation folds\n",
    "    n_jobs=-1,  # Use all available cores\n",
    "    verbose=2,\n",
    ")\n",
    "lasso_search_five.fit(X_train_five, y_train_five_log)\n",
    "lasso_pipeline_five.fit(X_train_five, y_train_five_log)"
   ]
  },
  {
   "cell_type": "code",
   "execution_count": 108,
   "id": "adf1768e-4da6-411e-9b3c-170e83d72237",
   "metadata": {},
   "outputs": [
    {
     "name": "stdout",
     "output_type": "stream",
     "text": [
      "Best parameters: {'regressor__alpha': 1.0}\n",
      "Best R^2: -0.0004325497656059385\n"
     ]
    }
   ],
   "source": [
    "print(\"Best parameters:\", lasso_search_five.best_params_)\n",
    "print(\"Best R^2:\", lasso_search_five.best_score_)"
   ]
  },
  {
   "cell_type": "code",
   "execution_count": 109,
   "id": "d6f82dbf-5e87-4d00-a170-bbf97770c09d",
   "metadata": {},
   "outputs": [
    {
     "name": "stdout",
     "output_type": "stream",
     "text": [
      "Tuned Validation Set Scores:\n",
      "R²: -0.0000\n",
      "MSE: 0.1093\n",
      "MAPE: 0.0310\n",
      "RMSE: 0.3306\n",
      "\n",
      "Tuned Test Set Scores:\n",
      "R²: -0.0001\n",
      "MSE: 0.1126\n",
      "MAPE: 0.0313\n",
      "RMSE: 0.3355\n",
      "\n",
      "Tuned Train-Val Set Scores:\n",
      "R²: -0.0000\n",
      "MSE: 0.1091\n",
      "MAPE: 0.0309\n",
      "RMSE: 0.3303\n"
     ]
    }
   ],
   "source": [
    "best_model_lasso_five = lasso_search_five.best_estimator_\n",
    "results_lasso_five = lasso_search_five.cv_results_\n",
    "\n",
    "y_val_pred_tuned_lasso_five = best_model_lasso_five.predict(X_val_five)\n",
    "val_scores_lasso_five = calculate_scores(y_val_five_log, y_val_pred_tuned_lasso_five)\n",
    "\n",
    "y_test_pred_tuned_lasso_five = best_model_lasso_five.predict(X_test_five)\n",
    "test_scores_lasso_five = calculate_scores(y_test_five_log, y_test_pred_tuned_lasso_five)\n",
    "\n",
    "y_combined_pred_tuned_lasso_five = best_model_lasso_five.predict(X_train_val_five)\n",
    "combined_scores_lasso_five = calculate_scores(y_combined_five_log, y_combined_pred_tuned_lasso_five)\n",
    "\n",
    "print(\"Tuned Validation Set Scores:\")\n",
    "print(f\"R²: {val_scores_lasso_five[0]:.4f}\")\n",
    "print(f\"MSE: {val_scores_lasso_five[1]:.4f}\")\n",
    "print(f\"MAPE: {val_scores_lasso_five[2]:.4f}\")\n",
    "print(f\"RMSE: {val_scores_lasso_five[3]:.4f}\")\n",
    "\n",
    "print(\"\\nTuned Test Set Scores:\")\n",
    "print(f\"R²: {test_scores_lasso_five[0]:.4f}\")\n",
    "print(f\"MSE: {test_scores_lasso_five[1]:.4f}\")\n",
    "print(f\"MAPE: {test_scores_lasso_five[2]:.4f}\")\n",
    "print(f\"RMSE: {test_scores_lasso_five[3]:.4f}\")\n",
    "\n",
    "print(\"\\nTuned Train-Val Set Scores:\")\n",
    "print(f\"R²: {combined_scores_lasso_five[0]:.4f}\")\n",
    "print(f\"MSE: {combined_scores_lasso_five[1]:.4f}\")\n",
    "print(f\"MAPE: {combined_scores_lasso_five[2]:.4f}\")\n",
    "print(f\"RMSE: {combined_scores_lasso_five[3]:.4f}\")"
   ]
  },
  {
   "cell_type": "code",
   "execution_count": 110,
   "id": "e3d150da-c80b-49e5-9eb1-51ff0c44ae61",
   "metadata": {},
   "outputs": [
    {
     "data": {
      "image/png": "[encoded data removed]",
      "text/plain": [
       "<Figure size 1000x600 with 1 Axes>"
      ]
     },
     "metadata": {},
     "output_type": "display_data"
    }
   ],
   "source": [
    "# Define the range of alpha values (regularization strength)\n",
    "alphas = np.logspace(-3, 3, 100)  # Try values from 0.001 to 100 on a log scale\n",
    "\n",
    "# Scale the features if needed\n",
    "scaler = StandardScaler()\n",
    "\n",
    "# Initialize an empty array to store coefficients\n",
    "coefs = []\n",
    "\n",
    "# For each alpha, fit Lasso and store the coefficients\n",
    "for alpha in alphas:\n",
    "    lasso = Lasso(alpha=alpha, max_iter=10000)\n",
    "    lasso.fit(transformed_df_five, y_five)\n",
    "    coefs.append(lasso.coef_)\n",
    "\n",
    "# Convert coefficients list to a numpy array for plotting\n",
    "coefs = np.array(coefs)\n",
    "\n",
    "# Plot the regularization path\n",
    "plt.figure(figsize=(10, 6))\n",
    "\n",
    "# Plot each feature’s coefficient path\n",
    "for i, feature in enumerate(['Living Area(SQF)', 'Convenience', 'Supercenter', 'Supermarket', 'Variety Store', 'Wholesale', 'Total Bedrooms', 'Year Built', 'Total Bathrooms']):\n",
    "    plt.plot(alphas, coefs[:, i], label=feature)\n",
    "\n",
    "# Set up plot details\n",
    "plt.xlabel(\"Alpha (Regularization Strength)\")\n",
    "plt.ylabel(\"Coefficient Value\")\n",
    "plt.title(\"Lasso Paths Showing Shrinkage of Coefficients, Density Five Miles\")\n",
    "plt.legend()\n",
    "plt.xscale(\"log\")  # Use a log scale for alpha\n",
    "plt.grid(True)\n",
    "plt.show()"
   ]
  },
  {
   "cell_type": "code",
   "execution_count": null,
   "id": "3f4027b4-06f0-4b0a-8a3b-49921e06ee81",
   "metadata": {},
   "outputs": [],
   "source": []
  }
 ],
 "metadata": {
  "kernelspec": {
   "display_name": "Python 3 (ipykernel)",
   "language": "python",
   "name": "python3"
  },
  "language_info": {
   "codemirror_mode": {
    "name": "ipython",
    "version": 3
   },
   "file_extension": ".py",
   "mimetype": "text/x-python",
   "name": "python",
   "nbconvert_exporter": "python",
   "pygments_lexer": "ipython3",
   "version": "3.11.7"
  }
 },
 "nbformat": 4,
 "nbformat_minor": 5
}
