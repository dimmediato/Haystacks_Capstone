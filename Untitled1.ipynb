{
 "cells": [
  {
   "cell_type": "code",
   "execution_count": 13,
   "id": "e5544abd-42a4-4908-b080-7f5df2e27b13",
   "metadata": {},
   "outputs": [],
   "source": [
    "import pandas as pd\n",
    "import numpy as np\n",
    "d1 = pd.read_pickle('dataset1.pkl')\n",
    "d2 = pd.read_pickle('dataset2.pkl')"
   ]
  },
  {
   "cell_type": "code",
   "execution_count": 2,
   "id": "cfffefc2-46c4-44d7-ab99-b84ccc78840f",
   "metadata": {},
   "outputs": [
    {
     "data": {
      "text/plain": [
       "False"
      ]
     },
     "execution_count": 2,
     "metadata": {},
     "output_type": "execute_result"
    }
   ],
   "source": [
    "d1.equals(d2)"
   ]
  },
  {
   "cell_type": "code",
   "execution_count": 4,
   "id": "63c28dbb-0388-480a-b2ac-2b970163f6e6",
   "metadata": {},
   "outputs": [
    {
     "data": {
      "text/html": [
       "<div>\n",
       "<style scoped>\n",
       "    .dataframe tbody tr th:only-of-type {\n",
       "        vertical-align: middle;\n",
       "    }\n",
       "\n",
       "    .dataframe tbody tr th {\n",
       "        vertical-align: top;\n",
       "    }\n",
       "\n",
       "    .dataframe thead th {\n",
       "        text-align: right;\n",
       "    }\n",
       "</style>\n",
       "<table border=\"1\" class=\"dataframe\">\n",
       "  <thead>\n",
       "    <tr style=\"text-align: right;\">\n",
       "      <th></th>\n",
       "      <th>Year Built</th>\n",
       "      <th>Total Bedrooms</th>\n",
       "      <th>Living Area(SQF)</th>\n",
       "      <th>Total Bathrooms</th>\n",
       "    </tr>\n",
       "  </thead>\n",
       "  <tbody>\n",
       "    <tr>\n",
       "      <th>0</th>\n",
       "      <td>5.031097e-01</td>\n",
       "      <td>0.641662</td>\n",
       "      <td>1.314310</td>\n",
       "      <td>0.177326</td>\n",
       "    </tr>\n",
       "    <tr>\n",
       "      <th>1</th>\n",
       "      <td>-1.091762e-14</td>\n",
       "      <td>-0.459475</td>\n",
       "      <td>0.111774</td>\n",
       "      <td>-0.475680</td>\n",
       "    </tr>\n",
       "    <tr>\n",
       "      <th>2</th>\n",
       "      <td>-1.091762e-14</td>\n",
       "      <td>-0.459475</td>\n",
       "      <td>0.032935</td>\n",
       "      <td>-0.475680</td>\n",
       "    </tr>\n",
       "    <tr>\n",
       "      <th>3</th>\n",
       "      <td>-1.091762e-14</td>\n",
       "      <td>-0.459475</td>\n",
       "      <td>-0.704165</td>\n",
       "      <td>-1.781691</td>\n",
       "    </tr>\n",
       "    <tr>\n",
       "      <th>4</th>\n",
       "      <td>-1.091762e-14</td>\n",
       "      <td>0.641662</td>\n",
       "      <td>0.623754</td>\n",
       "      <td>-0.475680</td>\n",
       "    </tr>\n",
       "  </tbody>\n",
       "</table>\n",
       "</div>"
      ],
      "text/plain": [
       "     Year Built  Total Bedrooms  Living Area(SQF)  Total Bathrooms\n",
       "0  5.031097e-01        0.641662          1.314310         0.177326\n",
       "1 -1.091762e-14       -0.459475          0.111774        -0.475680\n",
       "2 -1.091762e-14       -0.459475          0.032935        -0.475680\n",
       "3 -1.091762e-14       -0.459475         -0.704165        -1.781691\n",
       "4 -1.091762e-14        0.641662          0.623754        -0.475680"
      ]
     },
     "execution_count": 4,
     "metadata": {},
     "output_type": "execute_result"
    }
   ],
   "source": [
    "d1.head(5)"
   ]
  },
  {
   "cell_type": "code",
   "execution_count": 5,
   "id": "0d0582d4-63cd-421f-a646-fa54fb7c5b7e",
   "metadata": {},
   "outputs": [
    {
     "data": {
      "text/html": [
       "<div>\n",
       "<style scoped>\n",
       "    .dataframe tbody tr th:only-of-type {\n",
       "        vertical-align: middle;\n",
       "    }\n",
       "\n",
       "    .dataframe tbody tr th {\n",
       "        vertical-align: top;\n",
       "    }\n",
       "\n",
       "    .dataframe thead th {\n",
       "        text-align: right;\n",
       "    }\n",
       "</style>\n",
       "<table border=\"1\" class=\"dataframe\">\n",
       "  <thead>\n",
       "    <tr style=\"text-align: right;\">\n",
       "      <th></th>\n",
       "      <th>Year Built</th>\n",
       "      <th>Total Bedrooms</th>\n",
       "      <th>Living Area(SQF)</th>\n",
       "      <th>Total Bathrooms</th>\n",
       "    </tr>\n",
       "  </thead>\n",
       "  <tbody>\n",
       "    <tr>\n",
       "      <th>0</th>\n",
       "      <td>5.031097e-01</td>\n",
       "      <td>0.641662</td>\n",
       "      <td>1.314310</td>\n",
       "      <td>0.177326</td>\n",
       "    </tr>\n",
       "    <tr>\n",
       "      <th>1</th>\n",
       "      <td>-1.091762e-14</td>\n",
       "      <td>-0.459475</td>\n",
       "      <td>0.111774</td>\n",
       "      <td>-0.475680</td>\n",
       "    </tr>\n",
       "    <tr>\n",
       "      <th>2</th>\n",
       "      <td>-1.091762e-14</td>\n",
       "      <td>-0.459475</td>\n",
       "      <td>0.032935</td>\n",
       "      <td>-0.475680</td>\n",
       "    </tr>\n",
       "    <tr>\n",
       "      <th>3</th>\n",
       "      <td>-1.091762e-14</td>\n",
       "      <td>-0.459475</td>\n",
       "      <td>-0.704165</td>\n",
       "      <td>-1.781691</td>\n",
       "    </tr>\n",
       "    <tr>\n",
       "      <th>4</th>\n",
       "      <td>-1.091762e-14</td>\n",
       "      <td>0.641662</td>\n",
       "      <td>0.623754</td>\n",
       "      <td>-0.475680</td>\n",
       "    </tr>\n",
       "  </tbody>\n",
       "</table>\n",
       "</div>"
      ],
      "text/plain": [
       "     Year Built  Total Bedrooms  Living Area(SQF)  Total Bathrooms\n",
       "0  5.031097e-01        0.641662          1.314310         0.177326\n",
       "1 -1.091762e-14       -0.459475          0.111774        -0.475680\n",
       "2 -1.091762e-14       -0.459475          0.032935        -0.475680\n",
       "3 -1.091762e-14       -0.459475         -0.704165        -1.781691\n",
       "4 -1.091762e-14        0.641662          0.623754        -0.475680"
      ]
     },
     "execution_count": 5,
     "metadata": {},
     "output_type": "execute_result"
    }
   ],
   "source": [
    "d2.head(5)"
   ]
  },
  {
   "cell_type": "code",
   "execution_count": 8,
   "id": "81b72761-8b9f-4592-b303-e10c2e3d4aa3",
   "metadata": {},
   "outputs": [
    {
     "name": "stdout",
     "output_type": "stream",
     "text": [
      "Year Built          0\n",
      "Total Bedrooms      0\n",
      "Living Area(SQF)    0\n",
      "Total Bathrooms     0\n",
      "dtype: int64\n"
     ]
    }
   ],
   "source": [
    "print(d1.isna().sum())"
   ]
  },
  {
   "cell_type": "code",
   "execution_count": 9,
   "id": "c20af5fa-e6e6-4214-ba2a-9844bb9e5bf0",
   "metadata": {},
   "outputs": [
    {
     "name": "stdout",
     "output_type": "stream",
     "text": [
      "Year Built          0\n",
      "Total Bedrooms      0\n",
      "Living Area(SQF)    0\n",
      "Total Bathrooms     0\n",
      "dtype: int64\n"
     ]
    }
   ],
   "source": [
    "print(d2.isna().sum())"
   ]
  },
  {
   "cell_type": "code",
   "execution_count": 10,
   "id": "58c8a051-e174-4728-9d88-67c14f29097f",
   "metadata": {},
   "outputs": [],
   "source": [
    "def compare_dataframes(df1, df2, ignore_index=True):\n",
    "    \"\"\"\n",
    "    Compare two dataframes and report differences in their columns.\n",
    "    \n",
    "    Parameters:\n",
    "    df1 (pandas.DataFrame): First dataframe to compare\n",
    "    df2 (pandas.DataFrame): Second dataframe to compare\n",
    "    ignore_index (bool): Whether to ignore index in comparison (default: True)\n",
    "    \n",
    "    Returns:\n",
    "    dict: Dictionary containing comparison results and details of differences\n",
    "    \"\"\"\n",
    "    results = {\n",
    "        'are_identical': True,\n",
    "        'shape_match': True,\n",
    "        'column_match': True,\n",
    "        'value_differences': {},\n",
    "        'missing_columns': {'df1': [], 'df2': []},\n",
    "        'shape': {'df1': df1.shape, 'df2': df2.shape}\n",
    "    }\n",
    "    \n",
    "    # Check shapes\n",
    "    if df1.shape != df2.shape:\n",
    "        results['are_identical'] = False\n",
    "        results['shape_match'] = False\n",
    "        \n",
    "    # Check column names\n",
    "    cols1 = set(df1.columns)\n",
    "    cols2 = set(df2.columns)\n",
    "    \n",
    "    if cols1 != cols2:\n",
    "        results['are_identical'] = False\n",
    "        results['column_match'] = False\n",
    "        results['missing_columns']['df1'] = list(cols2 - cols1)\n",
    "        results['missing_columns']['df2'] = list(cols1 - cols2)\n",
    "    \n",
    "    # Check common columns for value differences\n",
    "    common_cols = cols1.intersection(cols2)\n",
    "    \n",
    "    for col in common_cols:\n",
    "        # Reset index if specified\n",
    "        series1 = df1[col].reset_index(drop=True) if ignore_index else df1[col]\n",
    "        series2 = df2[col].reset_index(drop=True) if ignore_index else df2[col]\n",
    "        \n",
    "        # Handle different data types\n",
    "        if series1.dtype != series2.dtype:\n",
    "            results['are_identical'] = False\n",
    "            results['value_differences'][col] = {\n",
    "                'type_mismatch': True,\n",
    "                'types': {'df1': str(series1.dtype), 'df2': str(series2.dtype)}\n",
    "            }\n",
    "            continue\n",
    "        \n",
    "        # Compare values\n",
    "        if series1.equals(series2):\n",
    "            continue\n",
    "            \n",
    "        # Handle numeric columns (account for floating point precision)\n",
    "        if np.issubdtype(series1.dtype, np.number):\n",
    "            is_close = np.allclose(series1.fillna(0), \n",
    "                                 series2.fillna(0), \n",
    "                                 equal_nan=True,\n",
    "                                 rtol=1e-05, \n",
    "                                 atol=1e-08)\n",
    "            if is_close:\n",
    "                continue\n",
    "                \n",
    "        # If we get here, there are differences\n",
    "        results['are_identical'] = False\n",
    "        \n",
    "        # Find positions of differences\n",
    "        mask = series1 != series2\n",
    "        if series1.dtype == 'object':\n",
    "            mask = mask | (series1.isna() != series2.isna())\n",
    "        \n",
    "        diff_positions = np.where(mask)[0]\n",
    "        \n",
    "        if len(diff_positions) > 0:\n",
    "            results['value_differences'][col] = {\n",
    "                'type_mismatch': False,\n",
    "                'different_value_counts': len(diff_positions),\n",
    "                'first_few_differences': [\n",
    "                    {\n",
    "                        'index': int(pos),\n",
    "                        'df1_value': str(series1.iloc[pos]),\n",
    "                        'df2_value': str(series2.iloc[pos])\n",
    "                    }\n",
    "                    for pos in diff_positions[:5]  # Show first 5 differences\n",
    "                ]\n",
    "            }\n",
    "    \n",
    "    return results"
   ]
  },
  {
   "cell_type": "code",
   "execution_count": 14,
   "id": "e091dcae-7009-44c6-9627-e024da5b51dd",
   "metadata": {},
   "outputs": [
    {
     "data": {
      "text/plain": [
       "{'are_identical': False,\n",
       " 'shape_match': True,\n",
       " 'column_match': True,\n",
       " 'value_differences': {'Year Built': {'type_mismatch': False,\n",
       "   'different_value_counts': 116,\n",
       "   'first_few_differences': [{'index': 447,\n",
       "     'df1_value': '-1.0917616140433769e-14',\n",
       "     'df2_value': '0.8392230055534375'},\n",
       "    {'index': 448,\n",
       "     'df1_value': '0.8392230055534375',\n",
       "     'df2_value': '-1.0917616140433769e-14'},\n",
       "    {'index': 2108,\n",
       "     'df1_value': '-1.0917616140433769e-14',\n",
       "     'df2_value': '0.6951744548254152'},\n",
       "    {'index': 2110,\n",
       "     'df1_value': '0.6951744548254152',\n",
       "     'df2_value': '-1.0917616140433769e-14'},\n",
       "    {'index': 2667,\n",
       "     'df1_value': '-1.0917616140433769e-14',\n",
       "     'df2_value': '0.26302880264134815'}]},\n",
       "  'Living Area(SQF)': {'type_mismatch': False,\n",
       "   'different_value_counts': 461,\n",
       "   'first_few_differences': [{'index': 158,\n",
       "     'df1_value': '1.7711983071430906',\n",
       "     'df2_value': '-1.7813186083339179'},\n",
       "    {'index': 159,\n",
       "     'df1_value': '-1.7813186083339179',\n",
       "     'df2_value': '1.7711983071430906'},\n",
       "    {'index': 201,\n",
       "     'df1_value': '0.8327259241240306',\n",
       "     'df2_value': '0.7605357408148721'},\n",
       "    {'index': 202,\n",
       "     'df1_value': '0.7605357408148721',\n",
       "     'df2_value': '0.8327259241240306'},\n",
       "    {'index': 353,\n",
       "     'df1_value': '0.4993212617356803',\n",
       "     'df2_value': '-1.7813186083339179'}]},\n",
       "  'Total Bathrooms': {'type_mismatch': False,\n",
       "   'different_value_counts': 156,\n",
       "   'first_few_differences': [{'index': 2108,\n",
       "     'df1_value': '-0.47567973058535384',\n",
       "     'df2_value': '0.17732573775286745'},\n",
       "    {'index': 2110,\n",
       "     'df1_value': '0.17732573775286745',\n",
       "     'df2_value': '-0.47567973058535384'},\n",
       "    {'index': 2162,\n",
       "     'df1_value': '2.1363421427675315',\n",
       "     'df2_value': '4.095358547782195'},\n",
       "    {'index': 2164,\n",
       "     'df1_value': '4.095358547782195',\n",
       "     'df2_value': '2.1363421427675315'},\n",
       "    {'index': 2331,\n",
       "     'df1_value': '0.17732573775286745',\n",
       "     'df2_value': '-0.47567973058535384'}]},\n",
       "  'Total Bedrooms': {'type_mismatch': False,\n",
       "   'different_value_counts': 69,\n",
       "   'first_few_differences': [{'index': 5472,\n",
       "     'df1_value': '0.6416616706707877',\n",
       "     'df2_value': '-0.4594750277733248'},\n",
       "    {'index': 5473,\n",
       "     'df1_value': '-0.4594750277733248',\n",
       "     'df2_value': '0.6416616706707877'},\n",
       "    {'index': 6806,\n",
       "     'df1_value': '2.8439350675590127',\n",
       "     'df2_value': '7.248481861335463'},\n",
       "    {'index': 6807,\n",
       "     'df1_value': '7.248481861335463',\n",
       "     'df2_value': '2.8439350675590127'},\n",
       "    {'index': 7056,\n",
       "     'df1_value': '0.6416616706707877',\n",
       "     'df2_value': '-0.4594750277733248'}]}},\n",
       " 'missing_columns': {'df1': [], 'df2': []},\n",
       " 'shape': {'df1': (21015, 4), 'df2': (21015, 4)}}"
      ]
     },
     "execution_count": 14,
     "metadata": {},
     "output_type": "execute_result"
    }
   ],
   "source": [
    "compare_dataframes(d1, d2, ignore_index=True)"
   ]
  },
  {
   "cell_type": "code",
   "execution_count": 16,
   "id": "290d9396-0710-4e98-baf3-3dbbb1e1970c",
   "metadata": {},
   "outputs": [
    {
     "data": {
      "text/html": [
       "<div>\n",
       "<style scoped>\n",
       "    .dataframe tbody tr th:only-of-type {\n",
       "        vertical-align: middle;\n",
       "    }\n",
       "\n",
       "    .dataframe tbody tr th {\n",
       "        vertical-align: top;\n",
       "    }\n",
       "\n",
       "    .dataframe thead th {\n",
       "        text-align: right;\n",
       "    }\n",
       "</style>\n",
       "<table border=\"1\" class=\"dataframe\">\n",
       "  <thead>\n",
       "    <tr style=\"text-align: right;\">\n",
       "      <th></th>\n",
       "      <th>Year Built</th>\n",
       "      <th>Total Bedrooms</th>\n",
       "      <th>Living Area(SQF)</th>\n",
       "      <th>Total Bathrooms</th>\n",
       "    </tr>\n",
       "  </thead>\n",
       "  <tbody>\n",
       "    <tr>\n",
       "      <th>447</th>\n",
       "      <td>-1.091762e-14</td>\n",
       "      <td>0.641662</td>\n",
       "      <td>-0.707015</td>\n",
       "      <td>-0.47568</td>\n",
       "    </tr>\n",
       "  </tbody>\n",
       "</table>\n",
       "</div>"
      ],
      "text/plain": [
       "       Year Built  Total Bedrooms  Living Area(SQF)  Total Bathrooms\n",
       "447 -1.091762e-14        0.641662         -0.707015         -0.47568"
      ]
     },
     "execution_count": 16,
     "metadata": {},
     "output_type": "execute_result"
    }
   ],
   "source": [
    "d1 = d1.loc[447:447]\n",
    "d1"
   ]
  },
  {
   "cell_type": "code",
   "execution_count": 18,
   "id": "ff03282b-69ba-4a0b-8352-d23673b8523b",
   "metadata": {},
   "outputs": [
    {
     "data": {
      "text/html": [
       "<div>\n",
       "<style scoped>\n",
       "    .dataframe tbody tr th:only-of-type {\n",
       "        vertical-align: middle;\n",
       "    }\n",
       "\n",
       "    .dataframe tbody tr th {\n",
       "        vertical-align: top;\n",
       "    }\n",
       "\n",
       "    .dataframe thead th {\n",
       "        text-align: right;\n",
       "    }\n",
       "</style>\n",
       "<table border=\"1\" class=\"dataframe\">\n",
       "  <thead>\n",
       "    <tr style=\"text-align: right;\">\n",
       "      <th></th>\n",
       "      <th>Year Built</th>\n",
       "      <th>Total Bedrooms</th>\n",
       "      <th>Living Area(SQF)</th>\n",
       "      <th>Total Bathrooms</th>\n",
       "    </tr>\n",
       "  </thead>\n",
       "  <tbody>\n",
       "    <tr>\n",
       "      <th>447</th>\n",
       "      <td>0.839223</td>\n",
       "      <td>0.641662</td>\n",
       "      <td>-0.707015</td>\n",
       "      <td>-0.47568</td>\n",
       "    </tr>\n",
       "  </tbody>\n",
       "</table>\n",
       "</div>"
      ],
      "text/plain": [
       "     Year Built  Total Bedrooms  Living Area(SQF)  Total Bathrooms\n",
       "447    0.839223        0.641662         -0.707015         -0.47568"
      ]
     },
     "execution_count": 18,
     "metadata": {},
     "output_type": "execute_result"
    }
   ],
   "source": [
    "d2 = d2.loc[447:447]\n",
    "d2"
   ]
  },
  {
   "cell_type": "code",
   "execution_count": null,
   "id": "c82a5162-147c-4c30-b985-d37b86b5d606",
   "metadata": {},
   "outputs": [],
   "source": []
  }
 ],
 "metadata": {
  "kernelspec": {
   "display_name": "Python 3 (ipykernel)",
   "language": "python",
   "name": "python3"
  },
  "language_info": {
   "codemirror_mode": {
    "name": "ipython",
    "version": 3
   },
   "file_extension": ".py",
   "mimetype": "text/x-python",
   "name": "python",
   "nbconvert_exporter": "python",
   "pygments_lexer": "ipython3",
   "version": "3.11.7"
  }
 },
 "nbformat": 4,
 "nbformat_minor": 5
}
